{
 "cells": [
  {
   "cell_type": "markdown",
   "metadata": {},
   "source": [
    "# Split Halves Analysis\n",
    "This notebook will conduct an analysis of inter-rater reliability using split-halves analysis\n",
    "1. We first split the dataset into our two conditions: interesting/stable\n",
    "2. We then take each tower and randomly assign the rating to two groups.\n",
    "3. We calcualte the mean for each group in each tower\n",
    "4. Then take the correlation of the two group means across towers.\n",
    "\n",
    "We run this process many times to get a sampling distribution of correlations, then compare the mean correlation (and CI) of stable to interesting using a t-test"
   ]
  },
  {
   "cell_type": "code",
   "execution_count": 2,
   "metadata": {},
   "outputs": [],
   "source": [
    "import pandas as pd\n",
    "import numpy as np\n",
    "from statistics import mean\n",
    "%precision %.2f\n",
    "import matplotlib.pyplot as plt\n",
    "\n",
    "import warnings\n",
    "warnings.filterwarnings(\"ignore\")"
   ]
  },
  {
   "cell_type": "markdown",
   "metadata": {},
   "source": [
    "## Read in most recet data"
   ]
  },
  {
   "cell_type": "code",
   "execution_count": 3,
   "metadata": {},
   "outputs": [
    {
     "name": "stdout",
     "output_type": "stream",
     "text": [
      "(24048, 47)\n"
     ]
    },
    {
     "data": {
      "text/html": [
       "<div>\n",
       "<style scoped>\n",
       "    .dataframe tbody tr th:only-of-type {\n",
       "        vertical-align: middle;\n",
       "    }\n",
       "\n",
       "    .dataframe tbody tr th {\n",
       "        vertical-align: top;\n",
       "    }\n",
       "\n",
       "    .dataframe thead th {\n",
       "        text-align: right;\n",
       "    }\n",
       "</style>\n",
       "<table border=\"1\" class=\"dataframe\">\n",
       "  <thead>\n",
       "    <tr style=\"text-align: right;\">\n",
       "      <th></th>\n",
       "      <th>Unnamed: 0</th>\n",
       "      <th>_id</th>\n",
       "      <th>type</th>\n",
       "      <th>iterationName</th>\n",
       "      <th>condition</th>\n",
       "      <th>prompt</th>\n",
       "      <th>towerID</th>\n",
       "      <th>image_url</th>\n",
       "      <th>num_blocks</th>\n",
       "      <th>stim_version</th>\n",
       "      <th>...</th>\n",
       "      <th>internal_node_id</th>\n",
       "      <th>workerId</th>\n",
       "      <th>hitID</th>\n",
       "      <th>aID</th>\n",
       "      <th>eventType</th>\n",
       "      <th>rt</th>\n",
       "      <th>responses</th>\n",
       "      <th>question_order</th>\n",
       "      <th>stability</th>\n",
       "      <th>viewpoint</th>\n",
       "    </tr>\n",
       "  </thead>\n",
       "  <tbody>\n",
       "    <tr>\n",
       "      <th>0</th>\n",
       "      <td>2</td>\n",
       "      <td>5fffc37cf2e06b2b75acd797</td>\n",
       "      <td>image-button-response</td>\n",
       "      <td>run_0</td>\n",
       "      <td>stable</td>\n",
       "      <td>How stable is this?</td>\n",
       "      <td>curiotower_8_low_0005_1</td>\n",
       "      <td>https://curiotower-tdw.s3.amazonaws.com/curiot...</td>\n",
       "      <td>8.0</td>\n",
       "      <td>tdw-height3Jitter3</td>\n",
       "      <td>...</td>\n",
       "      <td>0.0-1.0</td>\n",
       "      <td>NaN</td>\n",
       "      <td>NaN</td>\n",
       "      <td>NaN</td>\n",
       "      <td>NaN</td>\n",
       "      <td>NaN</td>\n",
       "      <td>NaN</td>\n",
       "      <td>NaN</td>\n",
       "      <td>low</td>\n",
       "      <td>1</td>\n",
       "    </tr>\n",
       "    <tr>\n",
       "      <th>1</th>\n",
       "      <td>4</td>\n",
       "      <td>5fffc383f2e06b2b75acd799</td>\n",
       "      <td>image-button-response</td>\n",
       "      <td>run_0</td>\n",
       "      <td>stable</td>\n",
       "      <td>How stable is this?</td>\n",
       "      <td>curiotower_2_low_0000_0</td>\n",
       "      <td>https://curiotower-tdw.s3.amazonaws.com/curiot...</td>\n",
       "      <td>2.0</td>\n",
       "      <td>tdw-height3Jitter3</td>\n",
       "      <td>...</td>\n",
       "      <td>0.0-2.0</td>\n",
       "      <td>NaN</td>\n",
       "      <td>NaN</td>\n",
       "      <td>NaN</td>\n",
       "      <td>NaN</td>\n",
       "      <td>NaN</td>\n",
       "      <td>NaN</td>\n",
       "      <td>NaN</td>\n",
       "      <td>low</td>\n",
       "      <td>0</td>\n",
       "    </tr>\n",
       "  </tbody>\n",
       "</table>\n",
       "<p>2 rows × 47 columns</p>\n",
       "</div>"
      ],
      "text/plain": [
       "   Unnamed: 0                       _id                   type iterationName  \\\n",
       "0           2  5fffc37cf2e06b2b75acd797  image-button-response         run_0   \n",
       "1           4  5fffc383f2e06b2b75acd799  image-button-response         run_0   \n",
       "\n",
       "  condition               prompt                  towerID  \\\n",
       "0    stable  How stable is this?  curiotower_8_low_0005_1   \n",
       "1    stable  How stable is this?  curiotower_2_low_0000_0   \n",
       "\n",
       "                                           image_url  num_blocks  \\\n",
       "0  https://curiotower-tdw.s3.amazonaws.com/curiot...         8.0   \n",
       "1  https://curiotower-tdw.s3.amazonaws.com/curiot...         2.0   \n",
       "\n",
       "         stim_version  ...  internal_node_id workerId  hitID aID eventType  \\\n",
       "0  tdw-height3Jitter3  ...           0.0-1.0      NaN    NaN NaN       NaN   \n",
       "1  tdw-height3Jitter3  ...           0.0-2.0      NaN    NaN NaN       NaN   \n",
       "\n",
       "   rt responses question_order stability viewpoint  \n",
       "0 NaN       NaN            NaN       low         1  \n",
       "1 NaN       NaN            NaN       low         0  \n",
       "\n",
       "[2 rows x 47 columns]"
      ]
     },
     "execution_count": 3,
     "metadata": {},
     "output_type": "execute_result"
    }
   ],
   "source": [
    "df = pd.read_csv('curiotower_raw_data_run_0.csv')\n",
    "print(df.shape)\n",
    "df.head(2)"
   ]
  },
  {
   "cell_type": "markdown",
   "metadata": {},
   "source": [
    "### split into two conditions"
   ]
  },
  {
   "cell_type": "code",
   "execution_count": 4,
   "metadata": {},
   "outputs": [],
   "source": [
    "df_stable = df[df['condition'] == 'stable']\n",
    "df_interesting = df[df['condition'] == 'interesting']"
   ]
  },
  {
   "cell_type": "markdown",
   "metadata": {},
   "source": [
    "### Create dummy df of prolific IDs for randomization"
   ]
  },
  {
   "cell_type": "code",
   "execution_count": 27,
   "metadata": {},
   "outputs": [
    {
     "data": {
      "text/html": [
       "<div>\n",
       "<style scoped>\n",
       "    .dataframe tbody tr th:only-of-type {\n",
       "        vertical-align: middle;\n",
       "    }\n",
       "\n",
       "    .dataframe tbody tr th {\n",
       "        vertical-align: top;\n",
       "    }\n",
       "\n",
       "    .dataframe thead th {\n",
       "        text-align: right;\n",
       "    }\n",
       "</style>\n",
       "<table border=\"1\" class=\"dataframe\">\n",
       "  <thead>\n",
       "    <tr style=\"text-align: right;\">\n",
       "      <th></th>\n",
       "      <th>prolificID</th>\n",
       "      <th>group_num</th>\n",
       "    </tr>\n",
       "  </thead>\n",
       "  <tbody>\n",
       "    <tr>\n",
       "      <th>0</th>\n",
       "      <td>5e6095161a68693dc9e26545</td>\n",
       "      <td>1</td>\n",
       "    </tr>\n",
       "    <tr>\n",
       "      <th>1</th>\n",
       "      <td>5b5d986b5256470001bc728d</td>\n",
       "      <td>0</td>\n",
       "    </tr>\n",
       "    <tr>\n",
       "      <th>2</th>\n",
       "      <td>5a88aed6ae9a0b0001aa033e</td>\n",
       "      <td>0</td>\n",
       "    </tr>\n",
       "    <tr>\n",
       "      <th>3</th>\n",
       "      <td>5b7332e8fd718d00013d0655</td>\n",
       "      <td>1</td>\n",
       "    </tr>\n",
       "    <tr>\n",
       "      <th>4</th>\n",
       "      <td>5f9f6e40ea7f965ca33bf97f</td>\n",
       "      <td>0</td>\n",
       "    </tr>\n",
       "    <tr>\n",
       "      <th>...</th>\n",
       "      <td>...</td>\n",
       "      <td>...</td>\n",
       "    </tr>\n",
       "    <tr>\n",
       "      <th>162</th>\n",
       "      <td>5f4ced34dbc54406d1684da0</td>\n",
       "      <td>0</td>\n",
       "    </tr>\n",
       "    <tr>\n",
       "      <th>163</th>\n",
       "      <td>5e9b586aa4937d06325f46c3</td>\n",
       "      <td>0</td>\n",
       "    </tr>\n",
       "    <tr>\n",
       "      <th>164</th>\n",
       "      <td>5f0a414ff08fe631710e3ce8</td>\n",
       "      <td>0</td>\n",
       "    </tr>\n",
       "    <tr>\n",
       "      <th>165</th>\n",
       "      <td>5ea164f576aac4000ad322bd</td>\n",
       "      <td>0</td>\n",
       "    </tr>\n",
       "    <tr>\n",
       "      <th>166</th>\n",
       "      <td>54249d5bfdf99b691e6ac9a0</td>\n",
       "      <td>0</td>\n",
       "    </tr>\n",
       "  </tbody>\n",
       "</table>\n",
       "<p>167 rows × 2 columns</p>\n",
       "</div>"
      ],
      "text/plain": [
       "                   prolificID  group_num\n",
       "0    5e6095161a68693dc9e26545          1\n",
       "1    5b5d986b5256470001bc728d          0\n",
       "2    5a88aed6ae9a0b0001aa033e          0\n",
       "3    5b7332e8fd718d00013d0655          1\n",
       "4    5f9f6e40ea7f965ca33bf97f          0\n",
       "..                        ...        ...\n",
       "162  5f4ced34dbc54406d1684da0          0\n",
       "163  5e9b586aa4937d06325f46c3          0\n",
       "164  5f0a414ff08fe631710e3ce8          0\n",
       "165  5ea164f576aac4000ad322bd          0\n",
       "166  54249d5bfdf99b691e6ac9a0          0\n",
       "\n",
       "[167 rows x 2 columns]"
      ]
     },
     "execution_count": 27,
     "metadata": {},
     "output_type": "execute_result"
    }
   ],
   "source": [
    "df_subject = pd.DataFrame(df['prolificID'].unique(), \n",
    "                           columns = ['prolificID'])\n",
    "grup_num = np.random.randint(2, size=len(df_subject['prolificID']))\n",
    "df_subject['group_num'] = pd.Series(grup_num)\n",
    "df_subject         "
   ]
  },
  {
   "cell_type": "code",
   "execution_count": 29,
   "metadata": {},
   "outputs": [
    {
     "data": {
      "text/html": [
       "<div>\n",
       "<style scoped>\n",
       "    .dataframe tbody tr th:only-of-type {\n",
       "        vertical-align: middle;\n",
       "    }\n",
       "\n",
       "    .dataframe tbody tr th {\n",
       "        vertical-align: top;\n",
       "    }\n",
       "\n",
       "    .dataframe thead th {\n",
       "        text-align: right;\n",
       "    }\n",
       "</style>\n",
       "<table border=\"1\" class=\"dataframe\">\n",
       "  <thead>\n",
       "    <tr style=\"text-align: right;\">\n",
       "      <th></th>\n",
       "      <th>prolificID</th>\n",
       "      <th>group_num</th>\n",
       "    </tr>\n",
       "  </thead>\n",
       "  <tbody>\n",
       "    <tr>\n",
       "      <th>0</th>\n",
       "      <td>5e6095161a68693dc9e26545</td>\n",
       "      <td>1</td>\n",
       "    </tr>\n",
       "    <tr>\n",
       "      <th>1</th>\n",
       "      <td>5e6095161a68693dc9e26545</td>\n",
       "      <td>1</td>\n",
       "    </tr>\n",
       "    <tr>\n",
       "      <th>2</th>\n",
       "      <td>5b5d986b5256470001bc728d</td>\n",
       "      <td>0</td>\n",
       "    </tr>\n",
       "    <tr>\n",
       "      <th>3</th>\n",
       "      <td>5e6095161a68693dc9e26545</td>\n",
       "      <td>1</td>\n",
       "    </tr>\n",
       "    <tr>\n",
       "      <th>4</th>\n",
       "      <td>5a88aed6ae9a0b0001aa033e</td>\n",
       "      <td>0</td>\n",
       "    </tr>\n",
       "  </tbody>\n",
       "</table>\n",
       "</div>"
      ],
      "text/plain": [
       "                 prolificID  group_num\n",
       "0  5e6095161a68693dc9e26545          1\n",
       "1  5e6095161a68693dc9e26545          1\n",
       "2  5b5d986b5256470001bc728d          0\n",
       "3  5e6095161a68693dc9e26545          1\n",
       "4  5a88aed6ae9a0b0001aa033e          0"
      ]
     },
     "execution_count": 29,
     "metadata": {},
     "output_type": "execute_result"
    }
   ],
   "source": [
    "df_test = pd.merge(df, df_subject, left_on='prolificID', right_on='prolificID', how='left')\n",
    "df_test[[\"prolificID\", 'group_num']].head()"
   ]
  },
  {
   "cell_type": "markdown",
   "metadata": {},
   "source": [
    "## split-halves design"
   ]
  },
  {
   "cell_type": "code",
   "execution_count": 34,
   "metadata": {},
   "outputs": [
    {
     "name": "stdout",
     "output_type": "stream",
     "text": [
      "sampling from: stable\n",
      "sampling from: interesting\n"
     ]
    },
    {
     "data": {
      "image/png": "[encoded data removed]",
      "text/plain": [
       "<Figure size 432x288 with 1 Axes>"
      ]
     },
     "metadata": {
      "needs_background": "light"
     },
     "output_type": "display_data"
    }
   ],
   "source": [
    "conditions = ['stable', 'interesting']\n",
    "corr_stable = []\n",
    "corr_interesting = []\n",
    "for condition in conditions:\n",
    "    print('sampling from:', condition)\n",
    "    df_condition = df[df['condition'] == condition]\n",
    "    for i in range(0,1000):\n",
    "        df_subject = pd.DataFrame(df['prolificID'].unique(), \n",
    "                           columns = ['prolificID'])\n",
    "        rand_group = np.random.randint(2, size=len(df_subject['prolificID']))\n",
    "        df_subject['rand_group'] = pd.Series(rand_group)\n",
    "        df_condition_rand = pd.merge(df_condition, df_subject, left_on='prolificID', right_on='prolificID', how='left')\n",
    "        \n",
    "#         rand_group = np.random.randint(2, size=len(df_condition['towerID']))\n",
    "#         df_condition['rand_group'] = pd.Series(rand_group)\n",
    "\n",
    "        out = df_condition_rand.pivot_table(index=[\"towerID\"], \n",
    "                            columns='rand_group', \n",
    "                            values='button_pressed',\n",
    "                            aggfunc='mean').reset_index()\n",
    "        out.columns = ['towerID', 'group0', 'group1']\n",
    "        sample_corr = out['group0'].corr(out['group1'])\n",
    "        if condition == 'stable':\n",
    "            #corr_stable.append(sample_corr)\n",
    "            corr_stable.append(2*sample_corr/(1+sample_corr))\n",
    "        elif condition == 'interesting':\n",
    "            #corr_interesting.append(sample_corr)\n",
    "            #Spearman brown correction\n",
    "            corr_interesting.append(2*sample_corr/(1+sample_corr))\n",
    "\n",
    "\n",
    "\n",
    "plt.xlim([min(corr_stable + corr_interesting)-0.01, max(corr_stable + corr_interesting)+0.01])\n",
    "\n",
    "plt.hist(corr_stable, alpha=0.5, label = 'stable')\n",
    "plt.hist(corr_interesting, alpha = 0.5, color = 'orange', label = 'interesting')\n",
    "plt.title('Sample Distritbutions of Corr for Conditions')\n",
    "plt.xlabel('Corr')\n",
    "plt.ylabel('count')\n",
    "plt.legend()\n",
    "plt.show()"
   ]
  },
  {
   "cell_type": "code",
   "execution_count": 35,
   "metadata": {},
   "outputs": [
    {
     "name": "stdout",
     "output_type": "stream",
     "text": [
      "Mean prop for stable: 0.997 +/- 0.0\n",
      "Mean prop for interesting: 0.996 +/- 7.48176e-05\n"
     ]
    }
   ],
   "source": [
    "print(\"Mean prop for stable:\", \n",
    "      round(mean(corr_stable),3),\n",
    "      \"+/-\", \n",
    "      round((1.96*np.std(corr_stable)/\n",
    "       np.sqrt(len(corr_stable))),3))\n",
    "print(\"Mean prop for interesting:\",\n",
    "      round(mean(corr_interesting),3), \n",
    "      \"+/-\", \n",
    "      round((1.96*np.std(corr_interesting)/\n",
    "       np.sqrt(len(corr_interesting))),10))"
   ]
  },
  {
   "cell_type": "markdown",
   "metadata": {},
   "source": [
    "## Now caluclate the r for each model and compute the proportion of variance explained\n"
   ]
  },
  {
   "cell_type": "code",
   "execution_count": 14,
   "metadata": {},
   "outputs": [],
   "source": [
    "dat = df[df['condition'] == 'interesting']\n",
    "dat.columns\n",
    "dat = pd.get_dummies(dat, columns=['stability'])"
   ]
  },
  {
   "cell_type": "code",
   "execution_count": 19,
   "metadata": {},
   "outputs": [
    {
     "data": {
      "text/plain": [
       "Index(['Unnamed: 0', '_id', 'type', 'iterationName', 'condition', 'prompt',\n",
       "       'towerID', 'image_url', 'num_blocks', 'stim_version', 'catch_trial',\n",
       "       'games', 'trialNum', 'prolificID', 'studyID', 'sessionID', 'gameID',\n",
       "       'image_html', 'session_id', 'upper_bound', 'lower_bound', 'choices',\n",
       "       'button_html', 'message', 'stimulus_duration', 'trial_duration',\n",
       "       'trial_num', 'margin_vertical', 'margin_horizontal',\n",
       "       'response_ends_trial', 'reaction_time', 'button_pressed',\n",
       "       'startTrialTime', 'endTrialTime', 'trial_type', 'trial_index',\n",
       "       'time_elapsed', 'internal_node_id', 'workerId', 'hitID', 'aID',\n",
       "       'eventType', 'rt', 'responses', 'question_order', 'viewpoint',\n",
       "       'stability_high', 'stability_low', 'stability_med'],\n",
       "      dtype='object')"
      ]
     },
     "execution_count": 19,
     "metadata": {},
     "output_type": "execute_result"
    }
   ],
   "source": [
    "dat.columns"
   ]
  },
  {
   "cell_type": "code",
   "execution_count": 25,
   "metadata": {},
   "outputs": [
    {
     "data": {
      "text/plain": [
       "0.5620551681968609"
      ]
     },
     "execution_count": 25,
     "metadata": {},
     "output_type": "execute_result"
    }
   ],
   "source": [
    "from sklearn.linear_model import LinearRegression\n",
    "from sklearn.preprocessing import PolynomialFeatures\n",
    "\n",
    "regressors = ['num_blocks']\n",
    "# regressors = ['num_blocks', 'stability_high', 'stability_low', 'stability_med']\n",
    "#regressors = ['num_blocks', 'stability_high', 'stability_low', 'stability_med']\n",
    "# X = dat[regressors]\n",
    "# interaction = PolynomialFeatures(degree=3, include_bias=False, interaction_only=True)\n",
    "# X = interaction.fit_transform(X)\n",
    "\n",
    "regressors = ['num_blocks', 'stability_high', 'stability_low', 'stability_med']\n",
    "X = dat[regressors]\n",
    "y = dat['button_pressed']\n",
    "##Sklearn regression\n",
    "reg = LinearRegression().fit(X, y)\n",
    "reg.score(X,y)\n",
    "\n",
    "\n"
   ]
  },
  {
   "cell_type": "code",
   "execution_count": null,
   "metadata": {},
   "outputs": [],
   "source": []
  },
  {
   "cell_type": "markdown",
   "metadata": {},
   "source": [
    "## Mode analysis\n",
    "\n",
    "for each condition;\n",
    "    for each tower;\n",
    "         calculate proportion of responses selecting mode; \n",
    "               --> then average acrosss towers (and report CI)"
   ]
  },
  {
   "cell_type": "code",
   "execution_count": 7,
   "metadata": {},
   "outputs": [],
   "source": [
    "#annoying function to get min when equal counts for mode\n",
    "def try_min(value):\n",
    "        try:\n",
    "            return min(value)\n",
    "        except:\n",
    "            return value"
   ]
  },
  {
   "cell_type": "code",
   "execution_count": 8,
   "metadata": {},
   "outputs": [],
   "source": [
    "df_stable_mode = df[df['condition']=='stable'].groupby(['towerID']).agg(pd.Series.mode).reset_index()[['towerID','button_pressed']]\n",
    "df_stable_mode['mode'] = df_stable_mode['button_pressed'].apply(lambda x: try_min(x))\n"
   ]
  },
  {
   "cell_type": "code",
   "execution_count": 9,
   "metadata": {},
   "outputs": [
    {
     "name": "stdout",
     "output_type": "stream",
     "text": [
      "sampling from: stable\n",
      "sampling from: interesting\n",
      "Mean prop for stable: 0.516 +/- 0.027\n",
      "Mean prop for interesting: 0.542 +/- 0.031\n"
     ]
    }
   ],
   "source": [
    "\n",
    "\n",
    "conditions = ['stable', 'interesting']\n",
    "towers = df['towerID'].unique()\n",
    "mode_proportion_list_stable = []\n",
    "mode_proportion_list_interesting = []\n",
    "for condition in conditions:\n",
    "    print('sampling from:', condition)\n",
    "    df_condition = df[df['condition'] == condition]\n",
    "    df_mode = df_condition.groupby(['towerID']).agg(pd.Series.mode).reset_index()[['towerID','button_pressed']]\n",
    "    df_mode['mode'] = df_mode['button_pressed'].apply(lambda x: try_min(x))\n",
    "\n",
    "    for tower in towers:\n",
    "        mode_response = int(df_mode[df_mode['towerID'] == tower]['mode'])\n",
    "        prop = (len(df_condition.loc[(df_condition['towerID'] == tower) & (df_condition['button_pressed'] == mode_response)])/\n",
    "                len(df_condition.loc[(df_condition['towerID'] == tower)]))\n",
    "        if condition == 'stable':\n",
    "            mode_proportion_list_stable.append(prop)\n",
    "        elif condition == 'interesting':\n",
    "            mode_proportion_list_interesting.append(prop)\n",
    "        \n",
    "        \n",
    "\n",
    "print(\"Mean prop for stable:\", \n",
    "      round(mean(mode_proportion_list_stable),3),\n",
    "      \"+/-\", \n",
    "      round((1.96*np.std(mode_proportion_list_stable)/\n",
    "       np.sqrt(len(mode_proportion_list_stable))),3))\n",
    "print(\"Mean prop for interesting:\",\n",
    "      round(mean(mode_proportion_list_interesting),3), \n",
    "      \"+/-\", \n",
    "      round((1.96*np.std(mode_proportion_list_interesting)/\n",
    "       np.sqrt(len(mode_proportion_list_interesting))),3))\n",
    "    "
   ]
  },
  {
   "cell_type": "code",
   "execution_count": null,
   "metadata": {},
   "outputs": [],
   "source": []
  }
 ],
 "metadata": {
  "kernelspec": {
   "display_name": "Python 3",
   "language": "python",
   "name": "python3"
  },
  "language_info": {
   "codemirror_mode": {
    "name": "ipython",
    "version": 3
   },
   "file_extension": ".py",
   "mimetype": "text/x-python",
   "name": "python",
   "nbconvert_exporter": "python",
   "pygments_lexer": "ipython3",
   "version": "3.7.6"
  }
 },
 "nbformat": 4,
 "nbformat_minor": 4
}
