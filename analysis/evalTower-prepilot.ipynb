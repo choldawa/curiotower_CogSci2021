{
 "cells": [
  {
   "cell_type": "markdown",
   "metadata": {},
   "source": [
    "# Analysis Notebook for CurioTower experiment\n",
    "\n",
    "(Need to add link to pre-registration)\n",
    "\n",
    "The goal of this experiment is to gather human judgments on the \"interestingness\" and \"stability\" of towers, both generated in curiodrop and TDW"
   ]
  },
  {
   "cell_type": "markdown",
   "metadata": {},
   "source": [
    "### Establish connection to mongo\n",
    "First thing you need to do is to establish an ssh tunnel (aka remote port forwarding) to the server, so that requests to the mongodb can be made \"as if\" the mongodb server is running on your local computer. Run this from the command line before you begin data analysis if you plan to fetch data from mongo:\n",
    "\n",
    "`ssh -fNL 27017:127.0.0.1:27017 USERNAME@cogtoolslab.org`"
   ]
  },
  {
   "cell_type": "markdown",
   "metadata": {},
   "source": [
    "### Load packages"
   ]
  },
  {
   "cell_type": "code",
   "execution_count": 1,
   "metadata": {},
   "outputs": [],
   "source": [
    "import os\n",
    "import sys\n",
    "import urllib, io\n",
    "os.getcwd()\n",
    "sys.path.append(\"..\")\n",
    "sys.path.append(\"../utils\")\n",
    "sys.path.append(\"../analysis/utils\")\n",
    "\n",
    "\n",
    "import numpy as np\n",
    "import scipy.stats as stats\n",
    "import pandas as pd\n",
    "\n",
    "import pymongo as pm\n",
    "from collections import Counter\n",
    "import json\n",
    "import re\n",
    "import ast\n",
    "\n",
    "from PIL import Image, ImageOps, ImageDraw, ImageFont \n",
    "\n",
    "from io import BytesIO\n",
    "import base64\n",
    "\n",
    "import  matplotlib\n",
    "from matplotlib import pylab, mlab, pyplot\n",
    "%matplotlib inline\n",
    "from IPython.core.pylabtools import figsize, getfigs\n",
    "plt = pyplot\n",
    "import matplotlib as mpl\n",
    "mpl.rcParams['pdf.fonttype'] = 42\n",
    "\n",
    "import seaborn as sns\n",
    "sns.set_context('talk')\n",
    "sns.set_style('darkgrid')\n",
    "\n",
    "from IPython.display import clear_output\n",
    "\n",
    "import warnings\n",
    "warnings.filterwarnings(\"ignore\", category=DeprecationWarning)\n",
    "warnings.filterwarnings(\"ignore\", message=\"numpy.dtype size changed\")\n",
    "warnings.filterwarnings(\"ignore\", message=\"numpy.ufunc size changed\")\n",
    "\n",
    "# import drawing_utils as drawing\n",
    "# import importlib\n",
    "# import scoring"
   ]
  },
  {
   "cell_type": "markdown",
   "metadata": {},
   "source": [
    "### Set up directory paths to plots and data"
   ]
  },
  {
   "cell_type": "code",
   "execution_count": 2,
   "metadata": {},
   "outputs": [],
   "source": [
    "## directory & file hierarchy\n",
    "proj_dir = os.path.abspath('..')\n",
    "datavol_dir = os.path.join(proj_dir,'data')\n",
    "analysis_dir =  os.path.abspath('.')\n",
    "results_dir = os.path.join(proj_dir,'results')\n",
    "plot_dir = os.path.join(results_dir,'plots')\n",
    "csv_dir = os.path.join(results_dir,'csv')\n",
    "json_dir = os.path.join(results_dir,'json')\n",
    "exp_dir = os.path.abspath(os.path.join(proj_dir,'behavioral_experiments'))\n",
    "png_dir = os.path.abspath(os.path.join(datavol_dir,'png'))\n",
    "\n",
    "## add helpers to python path\n",
    "if os.path.join(proj_dir,'stimuli') not in sys.path:\n",
    "    sys.path.append(os.path.join(proj_dir,'stimuli'))\n",
    "    \n",
    "if not os.path.exists(results_dir):\n",
    "    os.makedirs(results_dir)\n",
    "    \n",
    "if not os.path.exists(plot_dir):\n",
    "    os.makedirs(plot_dir)   \n",
    "    \n",
    "if not os.path.exists(csv_dir):\n",
    "    os.makedirs(csv_dir)       \n",
    "    \n",
    "## add helpers to python path\n",
    "if os.path.join(proj_dir,'utils') not in sys.path:\n",
    "    sys.path.append(os.path.join(proj_dir,'utils'))   \n",
    "\n",
    "def make_dir_if_not_exists(dir_name):   \n",
    "    if not os.path.exists(dir_name):\n",
    "        os.makedirs(dir_name)\n",
    "    return dir_name\n",
    "\n",
    "## create directories that don't already exist        \n",
    "result = [make_dir_if_not_exists(x) for x in [results_dir,plot_dir,csv_dir]]"
   ]
  },
  {
   "cell_type": "code",
   "execution_count": 3,
   "metadata": {},
   "outputs": [],
   "source": [
    "# set vars \n",
    "auth = pd.read_csv(os.path.join(analysis_dir,'auth.txt'), header = None) # this auth.txt file contains the password for the sketchloop user\n",
    "pswd = auth.values[0][0]\n",
    "user = 'sketchloop'\n",
    "host = 'cogtoolslab.org'\n",
    "\n",
    "# have to fix this to be able to analyze from local\n",
    "import pymongo as pm\n",
    "conn = pm.MongoClient('mongodb://sketchloop:' + pswd + '@127.0.0.1')\n"
   ]
  },
  {
   "cell_type": "markdown",
   "metadata": {},
   "source": [
    "#### Connect to database"
   ]
  },
  {
   "cell_type": "code",
   "execution_count": 4,
   "metadata": {},
   "outputs": [],
   "source": [
    "db = conn['curiotower']\n",
    "coll = db['curiotower_curiodrop']\n"
   ]
  },
  {
   "cell_type": "code",
   "execution_count": 5,
   "metadata": {},
   "outputs": [
    {
     "data": {
      "text/plain": [
       "['testing-new-meta']"
      ]
     },
     "execution_count": 5,
     "metadata": {},
     "output_type": "execute_result"
    }
   ],
   "source": [
    "iterationName = 'testing-new-meta'\n",
    "coll.distinct('iterationName')"
   ]
  },
  {
   "cell_type": "markdown",
   "metadata": {},
   "source": [
    "### Construct tidy dataframe with game data"
   ]
  },
  {
   "cell_type": "code",
   "execution_count": 6,
   "metadata": {},
   "outputs": [],
   "source": [
    "df = coll.find({\n",
    "            'iterationName':iterationName\n",
    "#             'prolificID': {'$exists' : True},\n",
    "#             'studyID': {'$exists' : True},\n",
    "#             'sessionID': {'$exists' : True},\n",
    "#             'eventType': 'rating-task'\n",
    "})\n",
    "df = pd.DataFrame(df)\n"
   ]
  },
  {
   "cell_type": "markdown",
   "metadata": {},
   "source": [
    "## Inspect dataframe"
   ]
  },
  {
   "cell_type": "code",
   "execution_count": 7,
   "metadata": {},
   "outputs": [
    {
     "name": "stdout",
     "output_type": "stream",
     "text": [
      "(17, 37)\n",
      "Index(['_id', 'type', 'iterationName', 'numTrials', 'condition', 'prompt',\n",
      "       'towerID', 'image_url', 'stim_version', 'games', 'trialNum',\n",
      "       'prolificID', 'studyID', 'sessionID', 'gameID', 'image_html',\n",
      "       'session_id', 'upper_bound', 'lower_bound', 'choices', 'button_html',\n",
      "       'message', 'stimulus_duration', 'trial_duration', 'trial_num',\n",
      "       'margin_vertical', 'margin_horizontal', 'response_ends_trial',\n",
      "       'reaction_time', 'button_pressed', 'startTrialTime', 'endTrialTime',\n",
      "       'trial_type', 'trial_index', 'time_elapsed', 'internal_node_id',\n",
      "       'catch_trial'],\n",
      "      dtype='object')\n"
     ]
    }
   ],
   "source": [
    "print(df.shape)\n",
    "print(df.columns)"
   ]
  },
  {
   "cell_type": "code",
   "execution_count": 9,
   "metadata": {},
   "outputs": [
    {
     "name": "stdout",
     "output_type": "stream",
     "text": [
      "(17, 37)\n"
     ]
    },
    {
     "data": {
      "text/html": [
       "<div>\n",
       "<style scoped>\n",
       "    .dataframe tbody tr th:only-of-type {\n",
       "        vertical-align: middle;\n",
       "    }\n",
       "\n",
       "    .dataframe tbody tr th {\n",
       "        vertical-align: top;\n",
       "    }\n",
       "\n",
       "    .dataframe thead th {\n",
       "        text-align: right;\n",
       "    }\n",
       "</style>\n",
       "<table border=\"1\" class=\"dataframe\">\n",
       "  <thead>\n",
       "    <tr style=\"text-align: right;\">\n",
       "      <th></th>\n",
       "      <th>_id</th>\n",
       "      <th>type</th>\n",
       "      <th>iterationName</th>\n",
       "      <th>numTrials</th>\n",
       "      <th>condition</th>\n",
       "      <th>prompt</th>\n",
       "      <th>towerID</th>\n",
       "      <th>image_url</th>\n",
       "      <th>stim_version</th>\n",
       "      <th>games</th>\n",
       "      <th>...</th>\n",
       "      <th>response_ends_trial</th>\n",
       "      <th>reaction_time</th>\n",
       "      <th>button_pressed</th>\n",
       "      <th>startTrialTime</th>\n",
       "      <th>endTrialTime</th>\n",
       "      <th>trial_type</th>\n",
       "      <th>trial_index</th>\n",
       "      <th>time_elapsed</th>\n",
       "      <th>internal_node_id</th>\n",
       "      <th>catch_trial</th>\n",
       "    </tr>\n",
       "  </thead>\n",
       "  <tbody>\n",
       "    <tr>\n",
       "      <th>7</th>\n",
       "      <td>5fc5a44f6ccd8973aec08200</td>\n",
       "      <td>image-button-response</td>\n",
       "      <td>testing-new-meta</td>\n",
       "      <td>6</td>\n",
       "      <td>stable</td>\n",
       "      <td>How stable is this?</td>\n",
       "      <td>catch_02</td>\n",
       "      <td>https://curiotower.s3.amazonaws.com/catch_02.jpg</td>\n",
       "      <td>curiodrop</td>\n",
       "      <td>[]</td>\n",
       "      <td>...</td>\n",
       "      <td>True</td>\n",
       "      <td>12254.145</td>\n",
       "      <td>2</td>\n",
       "      <td>20072.100</td>\n",
       "      <td>1.606788e+12</td>\n",
       "      <td>image-button-response</td>\n",
       "      <td>1</td>\n",
       "      <td>31034</td>\n",
       "      <td>0.0-1.0</td>\n",
       "      <td>True</td>\n",
       "    </tr>\n",
       "    <tr>\n",
       "      <th>8</th>\n",
       "      <td>5fc5a4556ccd8973aec08201</td>\n",
       "      <td>image-button-response</td>\n",
       "      <td>testing-new-meta</td>\n",
       "      <td>6</td>\n",
       "      <td>stable</td>\n",
       "      <td>How stable is this?</td>\n",
       "      <td>121619_08b</td>\n",
       "      <td>https://curiotower.s3.amazonaws.com/121619_08b...</td>\n",
       "      <td>curiodrop</td>\n",
       "      <td>[]</td>\n",
       "      <td>...</td>\n",
       "      <td>True</td>\n",
       "      <td>1100.535</td>\n",
       "      <td>3</td>\n",
       "      <td>36842.760</td>\n",
       "      <td>1.606788e+12</td>\n",
       "      <td>image-button-response</td>\n",
       "      <td>2</td>\n",
       "      <td>36650</td>\n",
       "      <td>0.0-2.0</td>\n",
       "      <td>False</td>\n",
       "    </tr>\n",
       "    <tr>\n",
       "      <th>9</th>\n",
       "      <td>5fc5a45a6ccd8973aec08202</td>\n",
       "      <td>image-button-response</td>\n",
       "      <td>testing-new-meta</td>\n",
       "      <td>6</td>\n",
       "      <td>stable</td>\n",
       "      <td>How stable is this?</td>\n",
       "      <td>121119_08b</td>\n",
       "      <td>https://curiotower.s3.amazonaws.com/121119_08b...</td>\n",
       "      <td>curiodrop</td>\n",
       "      <td>[]</td>\n",
       "      <td>...</td>\n",
       "      <td>True</td>\n",
       "      <td>382.725</td>\n",
       "      <td>3</td>\n",
       "      <td>42454.695</td>\n",
       "      <td>1.606788e+12</td>\n",
       "      <td>image-button-response</td>\n",
       "      <td>3</td>\n",
       "      <td>41544</td>\n",
       "      <td>0.0-3.0</td>\n",
       "      <td>False</td>\n",
       "    </tr>\n",
       "    <tr>\n",
       "      <th>10</th>\n",
       "      <td>5fc5a4606ccd8973aec08203</td>\n",
       "      <td>image-button-response</td>\n",
       "      <td>testing-new-meta</td>\n",
       "      <td>6</td>\n",
       "      <td>stable</td>\n",
       "      <td>How stable is this?</td>\n",
       "      <td>121619_09</td>\n",
       "      <td>https://curiotower.s3.amazonaws.com/121619_09.png</td>\n",
       "      <td>curiodrop</td>\n",
       "      <td>[]</td>\n",
       "      <td>...</td>\n",
       "      <td>True</td>\n",
       "      <td>1441.295</td>\n",
       "      <td>0</td>\n",
       "      <td>47354.710</td>\n",
       "      <td>1.606788e+12</td>\n",
       "      <td>image-button-response</td>\n",
       "      <td>4</td>\n",
       "      <td>47503</td>\n",
       "      <td>0.0-4.0</td>\n",
       "      <td>False</td>\n",
       "    </tr>\n",
       "    <tr>\n",
       "      <th>11</th>\n",
       "      <td>5fc5a4666ccd8973aec08204</td>\n",
       "      <td>image-button-response</td>\n",
       "      <td>testing-new-meta</td>\n",
       "      <td>6</td>\n",
       "      <td>stable</td>\n",
       "      <td>How stable is this?</td>\n",
       "      <td>121119_09</td>\n",
       "      <td>https://curiotower.s3.amazonaws.com/121119_09.png</td>\n",
       "      <td>curiodrop</td>\n",
       "      <td>[]</td>\n",
       "      <td>...</td>\n",
       "      <td>True</td>\n",
       "      <td>1746.255</td>\n",
       "      <td>0</td>\n",
       "      <td>53304.280</td>\n",
       "      <td>1.606788e+12</td>\n",
       "      <td>image-button-response</td>\n",
       "      <td>5</td>\n",
       "      <td>53757</td>\n",
       "      <td>0.0-5.0</td>\n",
       "      <td>False</td>\n",
       "    </tr>\n",
       "    <tr>\n",
       "      <th>12</th>\n",
       "      <td>5fc5a46c6ccd8973aec08205</td>\n",
       "      <td>image-button-response</td>\n",
       "      <td>testing-new-meta</td>\n",
       "      <td>6</td>\n",
       "      <td>stable</td>\n",
       "      <td>How stable is this?</td>\n",
       "      <td>catch_01</td>\n",
       "      <td>https://curiotower.s3.amazonaws.com/catch_01.jpg</td>\n",
       "      <td>curiodrop</td>\n",
       "      <td>[]</td>\n",
       "      <td>...</td>\n",
       "      <td>True</td>\n",
       "      <td>1300.310</td>\n",
       "      <td>0</td>\n",
       "      <td>59562.060</td>\n",
       "      <td>1.606788e+12</td>\n",
       "      <td>image-button-response</td>\n",
       "      <td>6</td>\n",
       "      <td>59569</td>\n",
       "      <td>0.0-6.0</td>\n",
       "      <td>True</td>\n",
       "    </tr>\n",
       "    <tr>\n",
       "      <th>13</th>\n",
       "      <td>5fc5a4716ccd8973aec08206</td>\n",
       "      <td>image-button-response</td>\n",
       "      <td>testing-new-meta</td>\n",
       "      <td>6</td>\n",
       "      <td>stable</td>\n",
       "      <td>How stable is this?</td>\n",
       "      <td>catch_03</td>\n",
       "      <td>https://curiotower.s3.amazonaws.com/catch_03.jpg</td>\n",
       "      <td>curiodrop</td>\n",
       "      <td>[]</td>\n",
       "      <td>...</td>\n",
       "      <td>True</td>\n",
       "      <td>630.985</td>\n",
       "      <td>0</td>\n",
       "      <td>65376.915</td>\n",
       "      <td>1.606788e+12</td>\n",
       "      <td>image-button-response</td>\n",
       "      <td>7</td>\n",
       "      <td>64715</td>\n",
       "      <td>0.0-7.0</td>\n",
       "      <td>True</td>\n",
       "    </tr>\n",
       "    <tr>\n",
       "      <th>14</th>\n",
       "      <td>5fc5a4776ccd8973aec08207</td>\n",
       "      <td>image-button-response</td>\n",
       "      <td>testing-new-meta</td>\n",
       "      <td>6</td>\n",
       "      <td>stable</td>\n",
       "      <td>How stable is this?</td>\n",
       "      <td>121619_05</td>\n",
       "      <td>https://curiotower.s3.amazonaws.com/121619_05.png</td>\n",
       "      <td>curiodrop</td>\n",
       "      <td>[]</td>\n",
       "      <td>...</td>\n",
       "      <td>True</td>\n",
       "      <td>1368.290</td>\n",
       "      <td>4</td>\n",
       "      <td>70512.455</td>\n",
       "      <td>1.606788e+12</td>\n",
       "      <td>image-button-response</td>\n",
       "      <td>8</td>\n",
       "      <td>70588</td>\n",
       "      <td>0.0-8.0</td>\n",
       "      <td>False</td>\n",
       "    </tr>\n",
       "    <tr>\n",
       "      <th>15</th>\n",
       "      <td>5fc5a47e6ccd8973aec08208</td>\n",
       "      <td>image-button-response</td>\n",
       "      <td>testing-new-meta</td>\n",
       "      <td>6</td>\n",
       "      <td>stable</td>\n",
       "      <td>How stable is this?</td>\n",
       "      <td>121119_10</td>\n",
       "      <td>https://curiotower.s3.amazonaws.com/121119_10.png</td>\n",
       "      <td>curiodrop</td>\n",
       "      <td>[]</td>\n",
       "      <td>...</td>\n",
       "      <td>True</td>\n",
       "      <td>1963.215</td>\n",
       "      <td>4</td>\n",
       "      <td>76389.805</td>\n",
       "      <td>1.606788e+12</td>\n",
       "      <td>image-button-response</td>\n",
       "      <td>9</td>\n",
       "      <td>77060</td>\n",
       "      <td>0.0-9.0</td>\n",
       "      <td>False</td>\n",
       "    </tr>\n",
       "    <tr>\n",
       "      <th>16</th>\n",
       "      <td>5fc5a4836ccd8973aec08209</td>\n",
       "      <td>image-button-response</td>\n",
       "      <td>testing-new-meta</td>\n",
       "      <td>6</td>\n",
       "      <td>stable</td>\n",
       "      <td>How stable is this?</td>\n",
       "      <td>121119_10b</td>\n",
       "      <td>https://curiotower.s3.amazonaws.com/121119_10b...</td>\n",
       "      <td>curiodrop</td>\n",
       "      <td>[]</td>\n",
       "      <td>...</td>\n",
       "      <td>True</td>\n",
       "      <td>1075.740</td>\n",
       "      <td>3</td>\n",
       "      <td>82864.975</td>\n",
       "      <td>1.606788e+12</td>\n",
       "      <td>image-button-response</td>\n",
       "      <td>10</td>\n",
       "      <td>82648</td>\n",
       "      <td>0.0-10.0</td>\n",
       "      <td>False</td>\n",
       "    </tr>\n",
       "  </tbody>\n",
       "</table>\n",
       "<p>10 rows × 37 columns</p>\n",
       "</div>"
      ],
      "text/plain": [
       "                         _id                   type     iterationName  \\\n",
       "7   5fc5a44f6ccd8973aec08200  image-button-response  testing-new-meta   \n",
       "8   5fc5a4556ccd8973aec08201  image-button-response  testing-new-meta   \n",
       "9   5fc5a45a6ccd8973aec08202  image-button-response  testing-new-meta   \n",
       "10  5fc5a4606ccd8973aec08203  image-button-response  testing-new-meta   \n",
       "11  5fc5a4666ccd8973aec08204  image-button-response  testing-new-meta   \n",
       "12  5fc5a46c6ccd8973aec08205  image-button-response  testing-new-meta   \n",
       "13  5fc5a4716ccd8973aec08206  image-button-response  testing-new-meta   \n",
       "14  5fc5a4776ccd8973aec08207  image-button-response  testing-new-meta   \n",
       "15  5fc5a47e6ccd8973aec08208  image-button-response  testing-new-meta   \n",
       "16  5fc5a4836ccd8973aec08209  image-button-response  testing-new-meta   \n",
       "\n",
       "    numTrials condition               prompt     towerID  \\\n",
       "7           6    stable  How stable is this?    catch_02   \n",
       "8           6    stable  How stable is this?  121619_08b   \n",
       "9           6    stable  How stable is this?  121119_08b   \n",
       "10          6    stable  How stable is this?   121619_09   \n",
       "11          6    stable  How stable is this?   121119_09   \n",
       "12          6    stable  How stable is this?    catch_01   \n",
       "13          6    stable  How stable is this?    catch_03   \n",
       "14          6    stable  How stable is this?   121619_05   \n",
       "15          6    stable  How stable is this?   121119_10   \n",
       "16          6    stable  How stable is this?  121119_10b   \n",
       "\n",
       "                                            image_url stim_version games  ...  \\\n",
       "7    https://curiotower.s3.amazonaws.com/catch_02.jpg    curiodrop    []  ...   \n",
       "8   https://curiotower.s3.amazonaws.com/121619_08b...    curiodrop    []  ...   \n",
       "9   https://curiotower.s3.amazonaws.com/121119_08b...    curiodrop    []  ...   \n",
       "10  https://curiotower.s3.amazonaws.com/121619_09.png    curiodrop    []  ...   \n",
       "11  https://curiotower.s3.amazonaws.com/121119_09.png    curiodrop    []  ...   \n",
       "12   https://curiotower.s3.amazonaws.com/catch_01.jpg    curiodrop    []  ...   \n",
       "13   https://curiotower.s3.amazonaws.com/catch_03.jpg    curiodrop    []  ...   \n",
       "14  https://curiotower.s3.amazonaws.com/121619_05.png    curiodrop    []  ...   \n",
       "15  https://curiotower.s3.amazonaws.com/121119_10.png    curiodrop    []  ...   \n",
       "16  https://curiotower.s3.amazonaws.com/121119_10b...    curiodrop    []  ...   \n",
       "\n",
       "    response_ends_trial reaction_time button_pressed startTrialTime  \\\n",
       "7                  True     12254.145              2      20072.100   \n",
       "8                  True      1100.535              3      36842.760   \n",
       "9                  True       382.725              3      42454.695   \n",
       "10                 True      1441.295              0      47354.710   \n",
       "11                 True      1746.255              0      53304.280   \n",
       "12                 True      1300.310              0      59562.060   \n",
       "13                 True       630.985              0      65376.915   \n",
       "14                 True      1368.290              4      70512.455   \n",
       "15                 True      1963.215              4      76389.805   \n",
       "16                 True      1075.740              3      82864.975   \n",
       "\n",
       "    endTrialTime             trial_type trial_index time_elapsed  \\\n",
       "7   1.606788e+12  image-button-response           1        31034   \n",
       "8   1.606788e+12  image-button-response           2        36650   \n",
       "9   1.606788e+12  image-button-response           3        41544   \n",
       "10  1.606788e+12  image-button-response           4        47503   \n",
       "11  1.606788e+12  image-button-response           5        53757   \n",
       "12  1.606788e+12  image-button-response           6        59569   \n",
       "13  1.606788e+12  image-button-response           7        64715   \n",
       "14  1.606788e+12  image-button-response           8        70588   \n",
       "15  1.606788e+12  image-button-response           9        77060   \n",
       "16  1.606788e+12  image-button-response          10        82648   \n",
       "\n",
       "   internal_node_id catch_trial  \n",
       "7           0.0-1.0        True  \n",
       "8           0.0-2.0       False  \n",
       "9           0.0-3.0       False  \n",
       "10          0.0-4.0       False  \n",
       "11          0.0-5.0       False  \n",
       "12          0.0-6.0        True  \n",
       "13          0.0-7.0        True  \n",
       "14          0.0-8.0       False  \n",
       "15          0.0-9.0       False  \n",
       "16         0.0-10.0       False  \n",
       "\n",
       "[10 rows x 37 columns]"
      ]
     },
     "execution_count": 9,
     "metadata": {},
     "output_type": "execute_result"
    }
   ],
   "source": [
    "df['button_pressed'] = pd.to_numeric(df['button_pressed'])\n",
    "print(df.shape)\n",
    "df.tail(10)"
   ]
  },
  {
   "cell_type": "markdown",
   "metadata": {},
   "source": [
    "## Include catch-trial checks:\n",
    "\n",
    "Check whether subjects rated the catch trials as stable <3 or interesting >3. Remove those who fail catch"
   ]
  },
  {
   "cell_type": "code",
   "execution_count": 19,
   "metadata": {},
   "outputs": [
    {
     "data": {
      "text/plain": [
       "array(['1513-3be2f6d4-7fc6-41bd-a0e2-db9e8cbda5ff'], dtype=object)"
      ]
     },
     "execution_count": 19,
     "metadata": {},
     "output_type": "execute_result"
    }
   ],
   "source": [
    "\n",
    "\n",
    "df_catch = df[df['catch_trial'] == True]\n",
    "\n",
    "#return array of gameIDs that failed catch trials\n",
    "failed_catch = df_catch[((df_catch['button_pressed'] <3) & (df_catch['condition'] == 'stable')) |\n",
    "                       ((df_catch['button_pressed'] >3) & (df_catch['condition'] == 'interesting'))]['gameID'].unique()\n",
    "failed_catch"
   ]
  },
  {
   "cell_type": "code",
   "execution_count": 20,
   "metadata": {},
   "outputs": [
    {
     "ename": "ValueError",
     "evalue": "Lengths must match to compare",
     "output_type": "error",
     "traceback": [
      "\u001b[0;31m---------------------------------------------------------------------------\u001b[0m",
      "\u001b[0;31mValueError\u001b[0m                                Traceback (most recent call last)",
      "\u001b[0;32m<ipython-input-20-4cc5f62733fe>\u001b[0m in \u001b[0;36m<module>\u001b[0;34m\u001b[0m\n\u001b[0;32m----> 1\u001b[0;31m \u001b[0mdf\u001b[0m \u001b[0;34m=\u001b[0m \u001b[0mdf\u001b[0m\u001b[0;34m[\u001b[0m\u001b[0mdf\u001b[0m\u001b[0;34m[\u001b[0m\u001b[0;34m'gameID'\u001b[0m\u001b[0;34m]\u001b[0m \u001b[0;32mnot\u001b[0m \u001b[0;32min\u001b[0m \u001b[0mfailed_catch\u001b[0m\u001b[0;34m]\u001b[0m\u001b[0;34m\u001b[0m\u001b[0;34m\u001b[0m\u001b[0m\n\u001b[0m\u001b[1;32m      2\u001b[0m \u001b[0mdf\u001b[0m\u001b[0;34m.\u001b[0m\u001b[0mhead\u001b[0m\u001b[0;34m(\u001b[0m\u001b[0;36m2\u001b[0m\u001b[0;34m)\u001b[0m\u001b[0;34m\u001b[0m\u001b[0;34m\u001b[0m\u001b[0m\n",
      "\u001b[0;32m~/opt/anaconda3/lib/python3.7/site-packages/pandas/core/ops/common.py\u001b[0m in \u001b[0;36mnew_method\u001b[0;34m(self, other)\u001b[0m\n\u001b[1;32m     62\u001b[0m         \u001b[0mother\u001b[0m \u001b[0;34m=\u001b[0m \u001b[0mitem_from_zerodim\u001b[0m\u001b[0;34m(\u001b[0m\u001b[0mother\u001b[0m\u001b[0;34m)\u001b[0m\u001b[0;34m\u001b[0m\u001b[0;34m\u001b[0m\u001b[0m\n\u001b[1;32m     63\u001b[0m \u001b[0;34m\u001b[0m\u001b[0m\n\u001b[0;32m---> 64\u001b[0;31m         \u001b[0;32mreturn\u001b[0m \u001b[0mmethod\u001b[0m\u001b[0;34m(\u001b[0m\u001b[0mself\u001b[0m\u001b[0;34m,\u001b[0m \u001b[0mother\u001b[0m\u001b[0;34m)\u001b[0m\u001b[0;34m\u001b[0m\u001b[0;34m\u001b[0m\u001b[0m\n\u001b[0m\u001b[1;32m     65\u001b[0m \u001b[0;34m\u001b[0m\u001b[0m\n\u001b[1;32m     66\u001b[0m     \u001b[0;32mreturn\u001b[0m \u001b[0mnew_method\u001b[0m\u001b[0;34m\u001b[0m\u001b[0;34m\u001b[0m\u001b[0m\n",
      "\u001b[0;32m~/opt/anaconda3/lib/python3.7/site-packages/pandas/core/ops/__init__.py\u001b[0m in \u001b[0;36mwrapper\u001b[0;34m(self, other)\u001b[0m\n\u001b[1;32m    524\u001b[0m         \u001b[0mrvalues\u001b[0m \u001b[0;34m=\u001b[0m \u001b[0mextract_array\u001b[0m\u001b[0;34m(\u001b[0m\u001b[0mother\u001b[0m\u001b[0;34m,\u001b[0m \u001b[0mextract_numpy\u001b[0m\u001b[0;34m=\u001b[0m\u001b[0;32mTrue\u001b[0m\u001b[0;34m)\u001b[0m\u001b[0;34m\u001b[0m\u001b[0;34m\u001b[0m\u001b[0m\n\u001b[1;32m    525\u001b[0m \u001b[0;34m\u001b[0m\u001b[0m\n\u001b[0;32m--> 526\u001b[0;31m         \u001b[0mres_values\u001b[0m \u001b[0;34m=\u001b[0m \u001b[0mcomparison_op\u001b[0m\u001b[0;34m(\u001b[0m\u001b[0mlvalues\u001b[0m\u001b[0;34m,\u001b[0m \u001b[0mrvalues\u001b[0m\u001b[0;34m,\u001b[0m \u001b[0mop\u001b[0m\u001b[0;34m)\u001b[0m\u001b[0;34m\u001b[0m\u001b[0;34m\u001b[0m\u001b[0m\n\u001b[0m\u001b[1;32m    527\u001b[0m \u001b[0;34m\u001b[0m\u001b[0m\n\u001b[1;32m    528\u001b[0m         \u001b[0;32mreturn\u001b[0m \u001b[0m_construct_result\u001b[0m\u001b[0;34m(\u001b[0m\u001b[0mself\u001b[0m\u001b[0;34m,\u001b[0m \u001b[0mres_values\u001b[0m\u001b[0;34m,\u001b[0m \u001b[0mindex\u001b[0m\u001b[0;34m=\u001b[0m\u001b[0mself\u001b[0m\u001b[0;34m.\u001b[0m\u001b[0mindex\u001b[0m\u001b[0;34m,\u001b[0m \u001b[0mname\u001b[0m\u001b[0;34m=\u001b[0m\u001b[0mres_name\u001b[0m\u001b[0;34m)\u001b[0m\u001b[0;34m\u001b[0m\u001b[0;34m\u001b[0m\u001b[0m\n",
      "\u001b[0;32m~/opt/anaconda3/lib/python3.7/site-packages/pandas/core/ops/array_ops.py\u001b[0m in \u001b[0;36mcomparison_op\u001b[0;34m(left, right, op)\u001b[0m\n\u001b[1;32m    232\u001b[0m         \u001b[0;31m#  The ambiguous case is object-dtype.  See GH#27803\u001b[0m\u001b[0;34m\u001b[0m\u001b[0;34m\u001b[0m\u001b[0;34m\u001b[0m\u001b[0m\n\u001b[1;32m    233\u001b[0m         \u001b[0;32mif\u001b[0m \u001b[0mlen\u001b[0m\u001b[0;34m(\u001b[0m\u001b[0mlvalues\u001b[0m\u001b[0;34m)\u001b[0m \u001b[0;34m!=\u001b[0m \u001b[0mlen\u001b[0m\u001b[0;34m(\u001b[0m\u001b[0mrvalues\u001b[0m\u001b[0;34m)\u001b[0m\u001b[0;34m:\u001b[0m\u001b[0;34m\u001b[0m\u001b[0;34m\u001b[0m\u001b[0m\n\u001b[0;32m--> 234\u001b[0;31m             \u001b[0;32mraise\u001b[0m \u001b[0mValueError\u001b[0m\u001b[0;34m(\u001b[0m\u001b[0;34m\"Lengths must match to compare\"\u001b[0m\u001b[0;34m)\u001b[0m\u001b[0;34m\u001b[0m\u001b[0;34m\u001b[0m\u001b[0m\n\u001b[0m\u001b[1;32m    235\u001b[0m \u001b[0;34m\u001b[0m\u001b[0m\n\u001b[1;32m    236\u001b[0m     \u001b[0;32mif\u001b[0m \u001b[0mshould_extension_dispatch\u001b[0m\u001b[0;34m(\u001b[0m\u001b[0mlvalues\u001b[0m\u001b[0;34m,\u001b[0m \u001b[0mrvalues\u001b[0m\u001b[0;34m)\u001b[0m\u001b[0;34m:\u001b[0m\u001b[0;34m\u001b[0m\u001b[0;34m\u001b[0m\u001b[0m\n",
      "\u001b[0;31mValueError\u001b[0m: Lengths must match to compare"
     ]
    }
   ],
   "source": [
    "df = df[~df.country.isin(countries_to_keep)]]\n",
    "df.head(2)"
   ]
  },
  {
   "cell_type": "markdown",
   "metadata": {},
   "source": [
    "#### Inspect response distribution"
   ]
  },
  {
   "cell_type": "code",
   "execution_count": 10,
   "metadata": {},
   "outputs": [
    {
     "data": {
      "text/plain": [
       "<matplotlib.axes._subplots.AxesSubplot at 0x1a20d7fc50>"
      ]
     },
     "execution_count": 10,
     "metadata": {},
     "output_type": "execute_result"
    },
    {
     "data": {
      "image/png": "[encoded data removed]",
      "text/plain": [
       "<Figure size 432x288 with 1 Axes>"
      ]
     },
     "metadata": {},
     "output_type": "display_data"
    }
   ],
   "source": [
    "df['button_pressed'].hist(bins = 5)"
   ]
  },
  {
   "cell_type": "markdown",
   "metadata": {},
   "source": [
    "#### Inspect timing data"
   ]
  },
  {
   "cell_type": "code",
   "execution_count": 11,
   "metadata": {},
   "outputs": [
    {
     "data": {
      "text/plain": [
       "trial_index\n",
       "1     5482.3375\n",
       "2      -12.3150\n",
       "3     -450.2625\n",
       "4      106.1850\n",
       "5      417.0200\n",
       "6       47.2325\n",
       "7     -242.5600\n",
       "8       75.5450\n",
       "9      670.1950\n",
       "10    -216.9750\n",
       "Name: time_on_trial, dtype: float64"
      ]
     },
     "execution_count": 11,
     "metadata": {},
     "output_type": "execute_result"
    }
   ],
   "source": [
    "df['time_on_trial'] = df['time_elapsed'] - df['startTrialTime']\n",
    "df_time = df.groupby(['trial_index'])['time_on_trial'].mean()\n",
    "df_time\n"
   ]
  },
  {
   "cell_type": "code",
   "execution_count": 19,
   "metadata": {},
   "outputs": [],
   "source": []
  },
  {
   "cell_type": "code",
   "execution_count": 17,
   "metadata": {},
   "outputs": [
    {
     "data": {
      "text/plain": [
       "trial_index\n",
       "1    1.605905e+12\n",
       "2    1.605905e+12\n",
       "3    1.605905e+12\n",
       "4    1.605905e+12\n",
       "5    1.605905e+12\n",
       "6    1.605905e+12\n",
       "7    1.605905e+12\n",
       "Name: time_on_trial, dtype: float64"
      ]
     },
     "execution_count": 17,
     "metadata": {},
     "output_type": "execute_result"
    }
   ],
   "source": []
  },
  {
   "cell_type": "markdown",
   "metadata": {},
   "source": [
    "# _______________________________________________________\n",
    "\n",
    "# After this point is old compabs analysis (saving just in case...)\n",
    "\n",
    "\n",
    "# ________________________________________________________"
   ]
  },
  {
   "cell_type": "code",
   "execution_count": null,
   "metadata": {
    "scrolled": true
   },
   "outputs": [],
   "source": [
    "## get list of all gameIDs in database\n",
    "total_games = coll.find({'iterationName':iterationName}).distinct('gameid')\n",
    "print('There are {} total games.'.format(len(total_games)))\n",
    "\n",
    "## get list of complete gameIDs\n",
    "gameIDs = coll.find({'iterationName':iterationName}).distinct('gameid')\n",
    "complete_games = [g for g in gameIDs if len(coll.find({'gameid':g}).distinct('trialNum')) == numTrials]\n",
    "print('There are {} complete games.'.format(len(complete_games)))"
   ]
  },
  {
   "cell_type": "code",
   "execution_count": null,
   "metadata": {},
   "outputs": [],
   "source": [
    "broken_games = []\n",
    "complete_games = [g for g in complete_games if g not in broken_games]\n",
    "\n",
    "def construct_tidy_dataframe(eventType = 'chatMessage', \n",
    "                             complete_games = [],\n",
    "                             iterationName = 'pilot1',\n",
    "                             remove_workerID = True):\n",
    "    '''\n",
    "    input: list of complete games and name of event Type\n",
    "    '''\n",
    "    event2name = {'chatMessage':'chat', 'block':'block', 'endTrial':'trial', 'exitSurvey':'exit'}\n",
    "    L = pd.DataFrame()\n",
    "    for g, this_gameID in enumerate(complete_games):\n",
    "        print('Analyzing game {} | {} of {}'.format(this_gameID, g+1, len(complete_games)))\n",
    "        clear_output(wait=True) \n",
    "\n",
    "        ### extract records \n",
    "        #loop over iteration names??\n",
    "        X = coll.find({ '$and': [{'iterationName':iterationName}, \n",
    "#                                  {\"$or\":[{'iterationName':'Exp2Pilot3'},\n",
    "#                                  {'iterationName':'Exp2Pilot3_batch2'}]}\n",
    "                                 {'gameid': this_gameID}, {'eventType': eventType}]}).sort('time') \n",
    "        \n",
    "        li = list(X)        \n",
    "        _L = pd.DataFrame(li)  \n",
    "\n",
    "        ## concat with previous game's dataframe\n",
    "        if L.shape[0]==0:\n",
    "            L = _L\n",
    "        else: \n",
    "            L = pd.concat([L,_L], axis=0)     \n",
    "\n",
    "    ## postprocessing\n",
    "    if remove_workerID and 'workerId' in L.columns:\n",
    "        L = L.drop('workerId',axis=1)\n",
    "\n",
    "    ## save out group dataframe to csv dir\n",
    "    out_path = os.path.join(csv_dir,'compabs_{}_{}.csv'.format(event2name[eventType],iterationName))\n",
    "    print('Saving dataframe out to CSV dir at path: {}'.format(out_path))    \n",
    "    L.to_csv(out_path)             \n",
    "\n",
    "    return L\n"
   ]
  },
  {
   "cell_type": "code",
   "execution_count": null,
   "metadata": {},
   "outputs": [],
   "source": [
    "## construct dataframe for each datatype\n",
    "dataTypes = coll.distinct('eventType')\n",
    "for thisDataType in dataTypes:\n",
    "    X = construct_tidy_dataframe(eventType=thisDataType, complete_games=complete_games, iterationName=iterationName)\n"
   ]
  },
  {
   "cell_type": "markdown",
   "metadata": {},
   "source": [
    "## Full DF from DB"
   ]
  },
  {
   "cell_type": "code",
   "execution_count": null,
   "metadata": {},
   "outputs": [],
   "source": [
    "# Ensure one to one gameID and workerId \n",
    "# Should only happen if a repeat worker gets through\n",
    "\n",
    "# query = coll.find({\"$and\":[\n",
    "# #                         {'workerId':{'$exists':True}},\n",
    "# #                         {'condition':{'$ne':'practice'}},\n",
    "# #                         {'eventType':'trial_end'},\n",
    "#                         {\"$or\":[{'iterationName':'testing'}]}]\n",
    "#                      })\n",
    "\n",
    "#df_trial_end_full = pd.DataFrame(list(query.sort('timeAbsolute')))\n",
    "#df_trial_end_full[['workerId','gameID']]\n",
    "\n",
    "query = coll.find()\n",
    "\n",
    "df_trial_end_full = pd.DataFrame(list(query))\n",
    "\n",
    "#assert (np.mean(df_trial_end_full['workerId'].value_counts()) == np.mean(df_trial_end_full['gameID'].value_counts()))"
   ]
  },
  {
   "cell_type": "code",
   "execution_count": null,
   "metadata": {},
   "outputs": [],
   "source": [
    "## How many records?\n",
    "coll.estimated_document_count()"
   ]
  },
  {
   "cell_type": "code",
   "execution_count": null,
   "metadata": {},
   "outputs": [],
   "source": [
    "#df_trial_end_full.columns"
   ]
  },
  {
   "cell_type": "markdown",
   "metadata": {},
   "source": [
    "#### check outcome for specific workerID"
   ]
  },
  {
   "cell_type": "code",
   "execution_count": null,
   "metadata": {},
   "outputs": [],
   "source": [
    "#set worker ID\n",
    "workerID = 'A37XBH865833FE'\n",
    "iteration = 'pilot0'\n",
    "#get GameID (not all info available at workerID level (e.g. bonus))\n",
    "gameID = df_trial_end_full[df_trial_end_full['workerId'] == workerID]['gameid'].unique()[0]\n",
    "\n",
    "#check iteration name\n",
    "df_game = df_trial_end_full[(df_trial_end_full['iterationName'] == iteration) &\n",
    "                            (df_trial_end_full['gameid'] == gameID)]\n",
    "#get workerIds\n",
    "print('workerIDS:',df_game['workerId'].unique())\n",
    "#get bonus for gameID ([air of workerIDs])\n",
    "print(\"Bonus:\",np.nanmax(df_game['cumulativeBonus']))"
   ]
  },
  {
   "cell_type": "code",
   "execution_count": null,
   "metadata": {},
   "outputs": [],
   "source": [
    "df_trial_end_full[(df_trial_end_full['iterationName'] == 'pilot2')].content.unique()"
   ]
  },
  {
   "cell_type": "code",
   "execution_count": null,
   "metadata": {},
   "outputs": [],
   "source": [
    "#see full history for single worker\n",
    "df_test = df_trial_end_full[(df_trial_end_full['iterationName'] == iterationName)&\n",
    "                           (df_trial_end_full['workerId'] == workerID)]\n",
    "df_test.content.unique()"
   ]
  },
  {
   "cell_type": "code",
   "execution_count": null,
   "metadata": {},
   "outputs": [],
   "source": []
  },
  {
   "cell_type": "markdown",
   "metadata": {},
   "source": [
    "## Trial Level Data"
   ]
  },
  {
   "cell_type": "code",
   "execution_count": null,
   "metadata": {},
   "outputs": [],
   "source": [
    "# # Assuming that if trial 23 saves, then 0-22 have also saved \n",
    "# # get ids of people with trial 23 data\n",
    "# query = coll.find({\"$and\":[\n",
    "#                         {'condition':{'$ne':'practice'}},\n",
    "#                         {'eventType':'trial_end'},\n",
    "#                         {\"$or\":[{'iterationName':'Exp2Pilot3'},\n",
    "#                                 {'iterationName':'Exp2Pilot3_batch2'}]},\n",
    "#                         #{'iterationName': iterationName}, #use this if one iteration name\n",
    "#                         {'trialNum': numTrials-1}]\n",
    "#                      })\n",
    "# complete_data_df = pd.DataFrame(query)\n",
    "# complete_data_ids = list(complete_data_df['workerId'])"
   ]
  },
  {
   "cell_type": "code",
   "execution_count": null,
   "metadata": {},
   "outputs": [],
   "source": [
    "# # Filter for full datasets\n",
    "# query = coll.find({\"$and\":[\n",
    "#                         {'condition':{'$ne':'practice'}},\n",
    "#                         {'eventType':'trial_end'},\n",
    "#                         #{'iterationName': iterationName}, #use this if one iteration name\n",
    "#                         {\"$or\":[{'iterationName':'Exp2Pilot3'},\n",
    "#                                 {'iterationName':'Exp2Pilot3_batch2'}]}]\n",
    "#                      })\n",
    "\n",
    "# df_trial_end_full = pd.DataFrame(list(query.sort('timeAbsolute')))\n",
    "\n",
    "\n",
    "# # filter dataframe for complete datasets\n",
    "# df_trial_end_full_filtered = df_trial_end_full[df_trial_end_full.workerId.isin(complete_data_ids)]\n",
    "\n",
    "# # reduce to crucial information\n",
    "# df_trial_end_reduced_filtered = df_trial_end_full_filtered[[\n",
    "#     'gameID','trialNum','phase','condition','eventType','targetName','repetition','targetID', #trial identifiers\n",
    "#     'nullScore','F1Score','normedScore','rawScoreDiscrete','nullScoreDiscrete','normedScoreDiscrete','scoreGapDiscrete', #scoring\n",
    "#     'numBlocks','nPracticeAttempts','blockColor','blockColorID','blockFell','doNothingRepeats',#misc. trial info\n",
    "#     'score','currBonus','timeBonus', #bonusing\n",
    "#     'timeAbsolute','timeRelative','buildTime','buildStartTime','buildFinishTime','timeToBuild', #timing \n",
    "#     'discreteWorld','allVertices', #world reconstruction\n",
    "#     'browser','browserVersion','os','devMode', #developer info\n",
    "#     #below here should be the same for every trial in a dataset\n",
    "#     'iterationName',\n",
    "#     'numTargets', 'prePostSetSize','numRepetitions', #pre-post info\n",
    "#     'bonusThresholdLow','bonusThresholdMid','bonusThresholdHigh','timeThresholdYellow','timeThresholdRed', #bonus info\n",
    "#     ]]\n",
    "\n",
    "# #Fix error in data-saving- normedScoreDiscrete saved as rawScoreDiscrete\n",
    "# df_trial_end_reduced_filtered['normedScoreDiscrete'] = df_trial_end_reduced_filtered['rawScoreDiscrete']\n",
    "# df_trial_end_reduced_filtered.drop(['rawScoreDiscrete'], axis=1)\n",
    "\n",
    "\n",
    "# df = df_trial_end_reduced_filtered.sort_values(by=['gameID', 'timeAbsolute'])"
   ]
  },
  {
   "cell_type": "markdown",
   "metadata": {},
   "source": [
    "## Create DF for each event"
   ]
  },
  {
   "cell_type": "code",
   "execution_count": null,
   "metadata": {},
   "outputs": [],
   "source": [
    "#read in dataframes from each eventType\n",
    "df_block = pd.read_csv('../results/csv/compabs_block_{}.csv'.format(iterationName))\n",
    "df_chat = pd.read_csv('../results/csv/compabs_chat_{}.csv'.format(iterationName))\n",
    "df_exit = pd.read_csv('../results/csv/compabs_exit_{}.csv'.format(iterationName))\n",
    "df_trial = pd.read_csv('../results/csv/compabs_trial_{}.csv'.format(iterationName))"
   ]
  },
  {
   "cell_type": "code",
   "execution_count": null,
   "metadata": {},
   "outputs": [],
   "source": [
    "#manually build full df (needs to be generalized)\n",
    "df_block0 = pd.read_csv('../results/csv/compabs_block_{}.csv'.format('pilot0'))\n",
    "df_chat0 = pd.read_csv('../results/csv/compabs_chat_{}.csv'.format('pilot0'))\n",
    "df_exit0 = pd.read_csv('../results/csv/compabs_exit_{}.csv'.format('pilot0'))\n",
    "df_trial0 = pd.read_csv('../results/csv/compabs_trial_{}.csv'.format('pilot0'))\n",
    "#\n",
    "df_block1 = pd.read_csv('../results/csv/compabs_block_{}.csv'.format('pilot1'))\n",
    "df_chat1 = pd.read_csv('../results/csv/compabs_chat_{}.csv'.format('pilot1'))\n",
    "df_exit1 = pd.read_csv('../results/csv/compabs_exit_{}.csv'.format('pilot1'))\n",
    "df_trial1 = pd.read_csv('../results/csv/compabs_trial_{}.csv'.format('pilot1'))\n",
    "#\n",
    "df_block2 = pd.read_csv('../results/csv/compabs_block_{}.csv'.format('pilot2'))\n",
    "df_chat2 = pd.read_csv('../results/csv/compabs_chat_{}.csv'.format('pilot2'))\n",
    "df_exit2 = pd.read_csv('../results/csv/compabs_exit_{}.csv'.format('pilot2'))\n",
    "df_trial2 = pd.read_csv('../results/csv/compabs_trial_{}.csv'.format('pilot2'))\n",
    "\n",
    "df_block = pd.concat([df_block0,df_block1,df_block2])\n",
    "df_chat = pd.concat([df_chat0,df_chat1,df_chat2])\n",
    "df_exit = pd.concat([df_exit0,df_exit1,df_exit2])\n",
    "df_trial = pd.concat([df_trial0,df_trial1,df_trial2])\n",
    "\n",
    "print(\"Total Completed Games:\",len(df_exit.gameid.unique()))"
   ]
  },
  {
   "cell_type": "markdown",
   "metadata": {},
   "source": [
    "#### Exclusion Criteria"
   ]
  },
  {
   "cell_type": "code",
   "execution_count": null,
   "metadata": {},
   "outputs": [],
   "source": [
    "#How many dyads fulfill 75% Accuracy on 75% of trials\n",
    "df75 = pd.DataFrame(df_trial.groupby(['gameid', 'trialNum'])['trialScore'].sum()>75).groupby(['gameid']).sum()\n",
    "df75['trials'] = df75['trialScore']\n",
    "print(\"Total dyads achieving 75% Accuracy on 75% of trials:\",len(df75[df75['trials']>=9]))"
   ]
  },
  {
   "cell_type": "code",
   "execution_count": null,
   "metadata": {},
   "outputs": [],
   "source": [
    "df_exit.confused"
   ]
  },
  {
   "cell_type": "code",
   "execution_count": null,
   "metadata": {},
   "outputs": [],
   "source": [
    "#read in dataframes from each eventType\n",
    "# block_data = []\n",
    "# for i in range(0,3):\n",
    "#     block_data.append(pd.read_csv('../results/csv/compabs_block_pilot{}.csv'.format(i)))\n",
    "# df_block = pd.concat(block_data)\n",
    "# df_block =  [pd.merge(pd.read_csv('../results/csv/compabs_block_pilot{}.csv'.format(i))) for i in range(0,3)]\n",
    "# df_chat = pd.read_csv('../results/csv/compabs_chat_{}.csv'.format(iterationName))\n",
    "# df_exit = pd.read_csv('../results/csv/compabs_exit_{}.csv'.format(iterationName))\n",
    "# df_trial = pd.read_csv('../results/csv/compabs_trial_{}.csv'.format(iterationName))"
   ]
  },
  {
   "cell_type": "code",
   "execution_count": null,
   "metadata": {},
   "outputs": [],
   "source": [
    "df_block.iterationName.unique()"
   ]
  },
  {
   "cell_type": "code",
   "execution_count": null,
   "metadata": {},
   "outputs": [],
   "source": [
    "df_exit.comments.unique()"
   ]
  },
  {
   "cell_type": "markdown",
   "metadata": {},
   "source": [
    "#### Total Game Duration (for Gameplay)"
   ]
  },
  {
   "cell_type": "code",
   "execution_count": null,
   "metadata": {},
   "outputs": [],
   "source": [
    "(df_exit.groupby(['gameid'])['totalLength'].max()/60000).hist()\n",
    "plt.xlabel(\"Duration (min)\")\n",
    "plt.show()"
   ]
  },
  {
   "cell_type": "code",
   "execution_count": null,
   "metadata": {},
   "outputs": [],
   "source": [
    "(df_exit.groupby(['gameid'])['totalLength'].max()/60000).mean()"
   ]
  },
  {
   "cell_type": "markdown",
   "metadata": {},
   "source": [
    "### Inspect some raw data: language"
   ]
  },
  {
   "cell_type": "code",
   "execution_count": null,
   "metadata": {},
   "outputs": [],
   "source": [
    "#create columns for char and word counts\n",
    "df_chat['word_count'] = df_chat['content'].str.split(' ').str.len()\n",
    "df_chat['char_count'] = df_chat['content'].str.len()"
   ]
  },
  {
   "cell_type": "code",
   "execution_count": null,
   "metadata": {},
   "outputs": [],
   "source": [
    "#Coerce trialNum to numeric -- will remove \"practice\". Thoughts?\n",
    "df_chat['trialNum'] = pd.to_numeric(df_chat['trialNum'], errors = 'coerce')"
   ]
  },
  {
   "cell_type": "code",
   "execution_count": null,
   "metadata": {},
   "outputs": [],
   "source": [
    "#inspect specific chat history of one dyad\n",
    "dyadGameId = '8548-343a533f-0369-4b20-bbd4-a00f25359cea'\n",
    "df_chat[(df_chat.gameid == dyadGameId)]['content'].unique()"
   ]
  },
  {
   "cell_type": "markdown",
   "metadata": {},
   "source": [
    "### Inspect some raw data: display block towers"
   ]
  },
  {
   "cell_type": "code",
   "execution_count": null,
   "metadata": {},
   "outputs": [],
   "source": [
    "importlib.reload(drawing)\n",
    "df_block['w'] = df_block['width']\n",
    "df_block['h'] = df_block['height']\n",
    "floatCols = ['w','h','blockNum','turnNum','x','y']\n",
    "df_block[floatCols] = df_block[floatCols].applymap(np.int64)"
   ]
  },
  {
   "cell_type": "code",
   "execution_count": null,
   "metadata": {},
   "outputs": [],
   "source": [
    "fig = plt.figure(figsize=(10,10))\n",
    "ax = fig.add_subplot(1,1,1)\n",
    "drawing.draw_from_actions_subplot(df_block[(df_block.leftTarget == 'C') & \n",
    "                                           (df_block.rightTarget == 'Pi') &\n",
    "                                           (df_block.gameid == '0662-7a9212c9-5aa7-44de-9ed7-4663c56562d2')], \n",
    "                                  ax, \n",
    "                                  world_size = [12,8])\n",
    "plt.title(\"Block Heat Map for 'C, Pi'\")\n",
    "plt.show()"
   ]
  },
  {
   "cell_type": "markdown",
   "metadata": {},
   "source": [
    "## Make basic visualizations and calculate descriptives"
   ]
  },
  {
   "cell_type": "markdown",
   "metadata": {},
   "source": [
    "### Architect: mean number of words across trials"
   ]
  },
  {
   "cell_type": "code",
   "execution_count": null,
   "metadata": {},
   "outputs": [],
   "source": [
    "#Get sum of words for each trial, group by game then average across games\n",
    "print(df_chat.groupby(['gameid','trialNum'])['word_count'].sum().groupby(['trialNum']).mean())"
   ]
  },
  {
   "cell_type": "code",
   "execution_count": null,
   "metadata": {},
   "outputs": [],
   "source": [
    "fig, ax = plt.subplots(figsize=(15,7))\n",
    "df_chat.groupby(['gameid','trialNum'])['word_count'].sum().groupby(['trialNum']).mean().plot(ax = ax)\n",
    "plt.ylabel('Word Count')"
   ]
  },
  {
   "cell_type": "code",
   "execution_count": null,
   "metadata": {},
   "outputs": [],
   "source": [
    "fig, ax = plt.subplots(figsize=(15,7))\n",
    "mean = df_chat.groupby(['gameid','trialNum'])['word_count'].sum().groupby(['trialNum']).mean()\n",
    "std = df_chat.groupby(['gameid','trialNum'])['word_count'].sum().groupby(['trialNum']).std()\n",
    "\n",
    "plt.errorbar(mean.index, mean, yerr=2*std, linestyle='--')\n",
    "plt.ylabel('Word Count')\n",
    "plt.show()"
   ]
  },
  {
   "cell_type": "code",
   "execution_count": null,
   "metadata": {},
   "outputs": [],
   "source": [
    "## print summary stat to console?"
   ]
  },
  {
   "cell_type": "markdown",
   "metadata": {},
   "source": [
    "###  Architect: mean number of characters across trials"
   ]
  },
  {
   "cell_type": "code",
   "execution_count": null,
   "metadata": {},
   "outputs": [],
   "source": [
    "fig, ax = plt.subplots(figsize=(15,7))\n",
    "df_chat.groupby(['gameid','trialNum'])['char_count'].sum().groupby(['trialNum']).mean().plot(ax = ax)\n",
    "plt.ylabel('Char Count')"
   ]
  },
  {
   "cell_type": "markdown",
   "metadata": {},
   "source": [
    "### Architect: mean number of messages (across turns within a trial) across trials"
   ]
  },
  {
   "cell_type": "code",
   "execution_count": null,
   "metadata": {},
   "outputs": [],
   "source": [
    "fig, ax = plt.subplots(figsize=(15,7))\n",
    "df_chat.groupby(['gameid','trialNum'])['_id'].count().groupby(['trialNum']).mean().plot(ax = ax)\n",
    "plt.ylabel('Messages per trial')"
   ]
  },
  {
   "cell_type": "markdown",
   "metadata": {},
   "source": [
    "### Architect: Total typing time (across turns within at trial) across trials"
   ]
  },
  {
   "cell_type": "code",
   "execution_count": null,
   "metadata": {},
   "outputs": [],
   "source": [
    "#check time elapsed\n",
    "df_chat[\"timeElapsedInTurn\"] = pd.to_numeric(df_chat['timeElapsedInTurn'])"
   ]
  },
  {
   "cell_type": "code",
   "execution_count": null,
   "metadata": {},
   "outputs": [],
   "source": [
    "## line plots\n",
    "fig, ax = plt.subplots(figsize=(15,7))\n",
    "df_chat.groupby(['gameid','trialNum'])['timeElapsedInTurn'].sum().groupby(['trialNum']).mean().plot(ax = ax)\n",
    "plt.ylabel('Average Time elapsed, Architect')"
   ]
  },
  {
   "cell_type": "code",
   "execution_count": null,
   "metadata": {},
   "outputs": [],
   "source": [
    "df_chat.groupby(['gameid','trialNum'])['timeElapsedInTurn'].sum().groupby(['trialNum']).mean()"
   ]
  },
  {
   "cell_type": "markdown",
   "metadata": {},
   "source": [
    "### Builder: Reconstruction accuracy (intersection over union, IOU) across trials"
   ]
  },
  {
   "cell_type": "code",
   "execution_count": null,
   "metadata": {},
   "outputs": [],
   "source": [
    "#Coerce trialNum to numeric -- will remove \"practice\". Thoughts?\n",
    "df_trial['trialNum'] = pd.to_numeric(df_trial['trialNum'], errors = 'coerce')\n",
    "#Coerce trialNum to numeric -- will remove \"practice\". Thoughts?\n",
    "df_block['trialNum'] = pd.to_numeric(df_block['trialNum'], errors = 'coerce')"
   ]
  },
  {
   "cell_type": "code",
   "execution_count": null,
   "metadata": {},
   "outputs": [],
   "source": [
    "fig, ax = plt.subplots(figsize=(15,7))\n",
    "df_trial.groupby(['trialNum','gameid'])['trialScore'].sum().groupby(['trialNum']).mean().plot(ax = ax)\n",
    "plt.ylabel('Trial Score')"
   ]
  },
  {
   "cell_type": "code",
   "execution_count": null,
   "metadata": {
    "scrolled": false
   },
   "outputs": [],
   "source": [
    "fig, ax = plt.subplots(figsize=(15,7))\n",
    "df_trial.groupby(['trialNum','gameid'])['trialScore'].sum().unstack().plot(ax = ax)\n",
    "ax.get_legend().remove()\n",
    "plt.ylabel('Trial Score')"
   ]
  },
  {
   "cell_type": "code",
   "execution_count": null,
   "metadata": {},
   "outputs": [],
   "source": [
    "fig, ax = plt.subplots(figsize=(15,7))\n",
    "df_trial.groupby(['repNum','gameid'])['trialScore'].mean().unstack().plot(ax = ax)\n",
    "ax.get_legend().remove()\n",
    "plt.ylabel('Trial Score')"
   ]
  },
  {
   "cell_type": "code",
   "execution_count": null,
   "metadata": {},
   "outputs": [],
   "source": [
    "df_trial.groupby(['gameid'])['trialScore'].mean().hist()"
   ]
  },
  {
   "cell_type": "code",
   "execution_count": null,
   "metadata": {},
   "outputs": [],
   "source": [
    "#Dist of trial scores:\n",
    "(df_trial.groupby(['gameid','trialNum']).trialScore.max().hist(bins = 8))\n",
    "plt.show()\n"
   ]
  },
  {
   "cell_type": "code",
   "execution_count": null,
   "metadata": {},
   "outputs": [],
   "source": [
    "pd.options.display.max_rows = 4000\n",
    "df_trial.groupby(['gameid','trialNum']).trialScore.max()"
   ]
  },
  {
   "cell_type": "code",
   "execution_count": null,
   "metadata": {},
   "outputs": [],
   "source": [
    "pd.DataFrame(df_trial[df_trial.trialNum>=0].groupby(['gameid']).trialScore.max())\n"
   ]
  },
  {
   "cell_type": "markdown",
   "metadata": {},
   "source": [
    "### Architect: Distribution of words over trials"
   ]
  },
  {
   "cell_type": "markdown",
   "metadata": {},
   "source": [
    "### Builder: Distribution of blocks placed per utterance\n"
   ]
  },
  {
   "cell_type": "code",
   "execution_count": null,
   "metadata": {},
   "outputs": [],
   "source": [
    "(df_block.groupby(['gameid','trialNum', 'turnNum'])['_id'].count()).hist(bins = 8)\n",
    "plt.show()\n"
   ]
  },
  {
   "cell_type": "markdown",
   "metadata": {},
   "source": [
    "### Builder: Total reconstruction time (summed build time across turns, within each trial) across trials"
   ]
  },
  {
   "cell_type": "code",
   "execution_count": null,
   "metadata": {},
   "outputs": [],
   "source": [
    "#check time elapsed\n",
    "df_block[\"timeElapsedInTurn\"] = pd.to_numeric(df_block['timeElapsedInTurn'])"
   ]
  },
  {
   "cell_type": "code",
   "execution_count": null,
   "metadata": {},
   "outputs": [],
   "source": [
    "df_block.groupby(['gameid','trialNum'])['timeElapsedInTurn'].sum()"
   ]
  },
  {
   "cell_type": "code",
   "execution_count": null,
   "metadata": {},
   "outputs": [],
   "source": [
    "## line plots\n",
    "fig, ax = plt.subplots(figsize=(15,7))\n",
    "df_block.groupby(['gameid','trialNum'])['timeElapsedInTurn'].sum().groupby(['trialNum']).mean().plot(ax = ax)\n",
    "plt.ylabel('Average Time elapsed, Builder')"
   ]
  },
  {
   "cell_type": "code",
   "execution_count": null,
   "metadata": {},
   "outputs": [],
   "source": [
    "## line plots: time for each builder\n",
    "fig, ax = plt.subplots(figsize=(15,7))\n",
    "df_block.groupby(['trialNum','gameid'])['timeElapsedInTurn'].sum().unstack().plot(ax = ax)\n",
    "ax.get_legend().remove()\n",
    "plt.ylabel('Time elapsed in trial Builder')"
   ]
  },
  {
   "cell_type": "code",
   "execution_count": null,
   "metadata": {},
   "outputs": [],
   "source": [
    "df_block.timeElapsedInTurn.min()"
   ]
  },
  {
   "cell_type": "markdown",
   "metadata": {},
   "source": [
    "### Now, let's look at the DVs above, w.r.t. repetition of scenes, IGNORING which side a tower appears on... so across four repetitions (where [A,B] is equivalent to [B,A])\n",
    "\n",
    "#### use rep num"
   ]
  },
  {
   "cell_type": "code",
   "execution_count": null,
   "metadata": {},
   "outputs": [],
   "source": [
    "#\n",
    "def convert(list): \n",
    "    return tuple(i for i in list)\n",
    "df_chat['targetSet'] = convert(df_chat[['leftTarget', 'rightTarget']].values.tolist())"
   ]
  },
  {
   "cell_type": "code",
   "execution_count": null,
   "metadata": {},
   "outputs": [],
   "source": [
    "df_chat.head(2)"
   ]
  },
  {
   "cell_type": "code",
   "execution_count": null,
   "metadata": {},
   "outputs": [],
   "source": [
    "fig, ax = plt.subplots(figsize=(15,7))\n",
    "df_chat.groupby(['gameid','targetSet'])['word_count'].sum().groupby(['targetSet']).mean().plot.bar(ax = ax)\n",
    "plt.ylabel('Words Per figure')"
   ]
  },
  {
   "cell_type": "code",
   "execution_count": null,
   "metadata": {},
   "outputs": [],
   "source": []
  },
  {
   "cell_type": "code",
   "execution_count": null,
   "metadata": {},
   "outputs": [],
   "source": []
  },
  {
   "cell_type": "code",
   "execution_count": null,
   "metadata": {},
   "outputs": [],
   "source": []
  },
  {
   "cell_type": "code",
   "execution_count": null,
   "metadata": {},
   "outputs": [],
   "source": []
  }
 ],
 "metadata": {
  "kernelspec": {
   "display_name": "Python 3",
   "language": "python",
   "name": "python3"
  },
  "language_info": {
   "codemirror_mode": {
    "name": "ipython",
    "version": 3
   },
   "file_extension": ".py",
   "mimetype": "text/x-python",
   "name": "python",
   "nbconvert_exporter": "python",
   "pygments_lexer": "ipython3",
   "version": "3.7.6"
  }
 },
 "nbformat": 4,
 "nbformat_minor": 2
}
