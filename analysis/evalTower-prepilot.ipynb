{
 "cells": [
  {
   "cell_type": "markdown",
   "metadata": {},
   "source": [
    "# Analysis Notebook for CurioTower experiment\n",
    "\n",
    "(Need to add link to pre-registration)\n",
    "\n",
    "The goal of this experiment is to gather human judgments on the \"interestingness\" and \"stability\" of towers, both generated in curiodrop and TDW"
   ]
  },
  {
   "cell_type": "markdown",
   "metadata": {},
   "source": [
    "### Establish connection to mongo\n",
    "First thing you need to do is to establish an ssh tunnel (aka remote port forwarding) to the server, so that requests to the mongodb can be made \"as if\" the mongodb server is running on your local computer. Run this from the command line before you begin data analysis if you plan to fetch data from mongo:\n",
    "\n",
    "`ssh -fNL 27017:127.0.0.1:27017 USERNAME@cogtoolslab.org`"
   ]
  },
  {
   "cell_type": "markdown",
   "metadata": {},
   "source": [
    "### Load packages"
   ]
  },
  {
   "cell_type": "code",
   "execution_count": 51,
   "metadata": {},
   "outputs": [],
   "source": [
    "import os\n",
    "import sys\n",
    "import urllib, io\n",
    "os.getcwd()\n",
    "sys.path.append(\"..\")\n",
    "sys.path.append(\"../utils\")\n",
    "sys.path.append(\"../analysis/utils\")\n",
    "\n",
    "\n",
    "import numpy as np\n",
    "import scipy.stats as stats\n",
    "import pandas as pd\n",
    "\n",
    "import pymongo as pm\n",
    "from collections import Counter\n",
    "import json\n",
    "import re\n",
    "import ast\n",
    "\n",
    "from PIL import Image, ImageOps, ImageDraw, ImageFont \n",
    "\n",
    "from io import BytesIO\n",
    "import base64\n",
    "\n",
    "import  matplotlib\n",
    "from matplotlib import pylab, mlab, pyplot\n",
    "%matplotlib inline\n",
    "from IPython.core.pylabtools import figsize, getfigs\n",
    "plt = pyplot\n",
    "import matplotlib as mpl\n",
    "mpl.rcParams['pdf.fonttype'] = 42\n",
    "\n",
    "import seaborn as sns\n",
    "sns.set_context('talk')\n",
    "sns.set_style('darkgrid')\n",
    "\n",
    "from IPython.display import clear_output\n",
    "\n",
    "import warnings\n",
    "warnings.filterwarnings(\"ignore\", category=DeprecationWarning)\n",
    "warnings.filterwarnings(\"ignore\", message=\"numpy.dtype size changed\")\n",
    "warnings.filterwarnings(\"ignore\", message=\"numpy.ufunc size changed\")\n",
    "\n",
    "# import drawing_utils as drawing\n",
    "# import importlib\n",
    "# import scoring"
   ]
  },
  {
   "cell_type": "markdown",
   "metadata": {},
   "source": [
    "### Set up directory paths to plots and data"
   ]
  },
  {
   "cell_type": "code",
   "execution_count": 52,
   "metadata": {},
   "outputs": [],
   "source": [
    "## directory & file hierarchy\n",
    "proj_dir = os.path.abspath('..')\n",
    "datavol_dir = os.path.join(proj_dir,'data')\n",
    "analysis_dir =  os.path.abspath('.')\n",
    "results_dir = os.path.join(proj_dir,'results')\n",
    "plot_dir = os.path.join(results_dir,'plots')\n",
    "csv_dir = os.path.join(results_dir,'csv')\n",
    "json_dir = os.path.join(results_dir,'json')\n",
    "exp_dir = os.path.abspath(os.path.join(proj_dir,'behavioral_experiments'))\n",
    "png_dir = os.path.abspath(os.path.join(datavol_dir,'png'))\n",
    "\n",
    "## add helpers to python path\n",
    "if os.path.join(proj_dir,'stimuli') not in sys.path:\n",
    "    sys.path.append(os.path.join(proj_dir,'stimuli'))\n",
    "    \n",
    "if not os.path.exists(results_dir):\n",
    "    os.makedirs(results_dir)\n",
    "    \n",
    "if not os.path.exists(plot_dir):\n",
    "    os.makedirs(plot_dir)   \n",
    "    \n",
    "if not os.path.exists(csv_dir):\n",
    "    os.makedirs(csv_dir)       \n",
    "    \n",
    "## add helpers to python path\n",
    "if os.path.join(proj_dir,'utils') not in sys.path:\n",
    "    sys.path.append(os.path.join(proj_dir,'utils'))   \n",
    "\n",
    "def make_dir_if_not_exists(dir_name):   \n",
    "    if not os.path.exists(dir_name):\n",
    "        os.makedirs(dir_name)\n",
    "    return dir_name\n",
    "\n",
    "## create directories that don't already exist        \n",
    "result = [make_dir_if_not_exists(x) for x in [results_dir,plot_dir,csv_dir]]"
   ]
  },
  {
   "cell_type": "code",
   "execution_count": 53,
   "metadata": {},
   "outputs": [],
   "source": [
    "# set vars \n",
    "auth = pd.read_csv(os.path.join(analysis_dir,'auth.txt'), header = None) # this auth.txt file contains the password for the sketchloop user\n",
    "pswd = auth.values[0][0]\n",
    "user = 'sketchloop'\n",
    "host = 'cogtoolslab.org'\n",
    "\n",
    "# have to fix this to be able to analyze from local\n",
    "import pymongo as pm\n",
    "conn = pm.MongoClient('mongodb://sketchloop:' + pswd + '@127.0.0.1')\n"
   ]
  },
  {
   "cell_type": "markdown",
   "metadata": {},
   "source": [
    "#### Connect to database"
   ]
  },
  {
   "cell_type": "code",
   "execution_count": 54,
   "metadata": {},
   "outputs": [
    {
     "name": "stdout",
     "output_type": "stream",
     "text": [
      "Iterations List: ['testing-new-meta', 'pilot0']\n"
     ]
    }
   ],
   "source": [
    "db = conn['curiotower']\n",
    "coll = db['curiotower_curiodrop']\n",
    "\n",
    "iterationName = 'pilot0'\n",
    "print('Iterations List:', coll.distinct('iterationName'))\n"
   ]
  },
  {
   "cell_type": "code",
   "execution_count": 55,
   "metadata": {},
   "outputs": [
    {
     "name": "stdout",
     "output_type": "stream",
     "text": [
      "We have 937 records in mongo.\n"
     ]
    }
   ],
   "source": [
    "# how many records?\n",
    "print('We have {} records in mongo.'.format(coll.estimated_document_count()))"
   ]
  },
  {
   "cell_type": "code",
   "execution_count": 56,
   "metadata": {},
   "outputs": [
    {
     "data": {
      "text/plain": [
       "array(['{\"participantSex\":\"Female\",\"technicalDifficultiesBinary\":\"No\"}',\n",
       "       '{\"Q0\":\"25\",\"Q1\":\"How tall they were, what kind of blocks they used and where\",\"Q2\":\"Shape use\",\"Q3\":\"Number of shapes\",\"Q4\":\"N/A\"}',\n",
       "       '{\"participantSex\":\"Male\",\"technicalDifficultiesBinary\":\"No\"}',\n",
       "       '{\"Q0\":\"21\",\"Q1\":\"I looked at whether anything had actually been stacked and how high those stacks reached. I also took into account how many towers there were and how well the shapes fit together. I looked at whether the towers had multiple different supports as well or were a simple stack.\",\"Q2\":\"The most important factor was whether subsequent higher blocks were placed in a simple stack or atop multiple supports as I feel that added complexity and made it more interesting.\",\"Q3\":\"I took into account the number of towers less than other elements. \",\"Q4\":\"This was an interesting study, thank you!\"}',\n",
       "       '{\"Q0\":\"23\",\"Q1\":\"The shape at the bottom and top determined which towers was stable\",\"Q2\":\"The actual tower that were created\",\"Q3\":\"The surrounding blocks\",\"Q4\":\"\"}',\n",
       "       '{\"Q0\":\"55\",\"Q1\":\"Height of towers and complexity of using blocks i.e.  using diferent angles.\",\"Q2\":\"The way blocks are used to create more pracomplex structure.\",\"Q3\":\"Practical arrangement of blocks.\",\"Q4\":\"It was interesting, using different photo angles of same structures did create another perspective / look.\"}',\n",
       "       '{\"Q0\":\"21\",\"Q1\":\"use of different blocks, tower heights\",\"Q2\":\"how they utilized different shapes like dome or pyramid \",\"Q3\":\"left over/discarded blocks\",\"Q4\":\"\"}',\n",
       "       '{\"Q0\":\"41\",\"Q1\":\"straightness, wider shapes near the bottom = good. \",\"Q2\":\"wide base\",\"Q3\":\"height\",\"Q4\":\"captcha\"}',\n",
       "       '{\"Q0\":\"35\",\"Q1\":\"Number of structures and the number of shapes used in the structures\",\"Q2\":\"Size and type of structure\",\"Q3\":\"How many structures\",\"Q4\":\"\"}',\n",
       "       '{\"Q0\":\"22\",\"Q1\":\"Quanity of towers , simmilar used shapes \",\"Q2\":\"Connectedness of towers , Usage of same shapes\",\"Q3\":\"Height of towers\",\"Q4\":\"\"}',\n",
       "       '{\"Q0\":\"31\",\"Q1\":\"I classed a tower as anything that was stacked two blocks high. I judged the structures by whether the shapes were compatible by surface areas, to stack. If there was a roung shape, was it balancing on a flat surface or was it in the dent of another block. Finally, was the block stacked near the edge of the block below. \",\"Q2\":\"the shapes and whether they were evenly matched to support each other \",\"Q3\":\"how many blocks were involved \",\"Q4\":\"n/a\"}',\n",
       "       '{\"Q0\":\"38\",\"Q1\":\"I tried to see if the foundation was robust and how high the structure was. \",\"Q2\":\"If the foundation was strong and if the top of the structure was well balanced \",\"Q3\":\"The pieces surrounding the structure\",\"Q4\":\"\"}'],\n",
       "      dtype=object)"
      ]
     },
     "execution_count": 56,
     "metadata": {},
     "output_type": "execute_result"
    }
   ],
   "source": [
    "survey = coll.find({'iterationName':iterationName, 'eventType':'survey'})\n",
    "df_survey = pd.DataFrame(survey)\n",
    "df_survey\n",
    "df_survey['responses'].unique()"
   ]
  },
  {
   "cell_type": "markdown",
   "metadata": {},
   "source": [
    "### Construct tidy dataframe with game data"
   ]
  },
  {
   "cell_type": "code",
   "execution_count": 59,
   "metadata": {},
   "outputs": [
    {
     "name": "stdout",
     "output_type": "stream",
     "text": [
      "unique gameIds: 14\n",
      "(743, 43)\n",
      "Index(['_id', 'type', 'iterationName', 'condition', 'prompt', 'towerID',\n",
      "       'image_url', 'stim_version', 'catch_trial', 'games', 'trialNum',\n",
      "       'prolificID', 'studyID', 'sessionID', 'gameID', 'image_html',\n",
      "       'session_id', 'upper_bound', 'lower_bound', 'choices', 'button_html',\n",
      "       'message', 'stimulus_duration', 'trial_duration', 'trial_num',\n",
      "       'margin_vertical', 'margin_horizontal', 'response_ends_trial',\n",
      "       'reaction_time', 'button_pressed', 'startTrialTime', 'endTrialTime',\n",
      "       'trial_type', 'trial_index', 'time_elapsed', 'internal_node_id',\n",
      "       'workerId', 'hitID', 'aID', 'eventType', 'rt', 'responses',\n",
      "       'question_order'],\n",
      "      dtype='object')\n"
     ]
    },
    {
     "data": {
      "text/html": [
       "<div>\n",
       "<style scoped>\n",
       "    .dataframe tbody tr th:only-of-type {\n",
       "        vertical-align: middle;\n",
       "    }\n",
       "\n",
       "    .dataframe tbody tr th {\n",
       "        vertical-align: top;\n",
       "    }\n",
       "\n",
       "    .dataframe thead th {\n",
       "        text-align: right;\n",
       "    }\n",
       "</style>\n",
       "<table border=\"1\" class=\"dataframe\">\n",
       "  <thead>\n",
       "    <tr style=\"text-align: right;\">\n",
       "      <th></th>\n",
       "      <th>_id</th>\n",
       "      <th>type</th>\n",
       "      <th>iterationName</th>\n",
       "      <th>condition</th>\n",
       "      <th>prompt</th>\n",
       "      <th>towerID</th>\n",
       "      <th>image_url</th>\n",
       "      <th>stim_version</th>\n",
       "      <th>catch_trial</th>\n",
       "      <th>games</th>\n",
       "      <th>...</th>\n",
       "      <th>trial_index</th>\n",
       "      <th>time_elapsed</th>\n",
       "      <th>internal_node_id</th>\n",
       "      <th>workerId</th>\n",
       "      <th>hitID</th>\n",
       "      <th>aID</th>\n",
       "      <th>eventType</th>\n",
       "      <th>rt</th>\n",
       "      <th>responses</th>\n",
       "      <th>question_order</th>\n",
       "    </tr>\n",
       "  </thead>\n",
       "  <tbody>\n",
       "    <tr>\n",
       "      <th>0</th>\n",
       "      <td>5fcacbea6ccd8973aec082bb</td>\n",
       "      <td>image-button-response</td>\n",
       "      <td>pilot0</td>\n",
       "      <td>stable</td>\n",
       "      <td>How stable is this?</td>\n",
       "      <td>121319_04</td>\n",
       "      <td>https://curiotower.s3.amazonaws.com/121319_04.png</td>\n",
       "      <td>curiodrop</td>\n",
       "      <td>False</td>\n",
       "      <td>[]</td>\n",
       "      <td>...</td>\n",
       "      <td>1</td>\n",
       "      <td>11662</td>\n",
       "      <td>0.0-1.0</td>\n",
       "      <td>NaN</td>\n",
       "      <td>NaN</td>\n",
       "      <td>NaN</td>\n",
       "      <td>NaN</td>\n",
       "      <td>NaN</td>\n",
       "      <td>NaN</td>\n",
       "      <td>NaN</td>\n",
       "    </tr>\n",
       "    <tr>\n",
       "      <th>1</th>\n",
       "      <td>5fcacbef6ccd8973aec082bc</td>\n",
       "      <td>image-button-response</td>\n",
       "      <td>pilot0</td>\n",
       "      <td>stable</td>\n",
       "      <td>How stable is this?</td>\n",
       "      <td>121219_02</td>\n",
       "      <td>https://curiotower.s3.amazonaws.com/121219_02.png</td>\n",
       "      <td>curiodrop</td>\n",
       "      <td>False</td>\n",
       "      <td>[]</td>\n",
       "      <td>...</td>\n",
       "      <td>2</td>\n",
       "      <td>16657</td>\n",
       "      <td>0.0-2.0</td>\n",
       "      <td>NaN</td>\n",
       "      <td>NaN</td>\n",
       "      <td>NaN</td>\n",
       "      <td>NaN</td>\n",
       "      <td>NaN</td>\n",
       "      <td>NaN</td>\n",
       "      <td>NaN</td>\n",
       "    </tr>\n",
       "  </tbody>\n",
       "</table>\n",
       "<p>2 rows × 43 columns</p>\n",
       "</div>"
      ],
      "text/plain": [
       "                        _id                   type iterationName condition  \\\n",
       "0  5fcacbea6ccd8973aec082bb  image-button-response        pilot0    stable   \n",
       "1  5fcacbef6ccd8973aec082bc  image-button-response        pilot0    stable   \n",
       "\n",
       "                prompt    towerID  \\\n",
       "0  How stable is this?  121319_04   \n",
       "1  How stable is this?  121219_02   \n",
       "\n",
       "                                           image_url stim_version catch_trial  \\\n",
       "0  https://curiotower.s3.amazonaws.com/121319_04.png    curiodrop       False   \n",
       "1  https://curiotower.s3.amazonaws.com/121219_02.png    curiodrop       False   \n",
       "\n",
       "  games  ...  trial_index time_elapsed internal_node_id workerId hitID  aID  \\\n",
       "0    []  ...            1        11662          0.0-1.0      NaN   NaN  NaN   \n",
       "1    []  ...            2        16657          0.0-2.0      NaN   NaN  NaN   \n",
       "\n",
       "  eventType  rt responses question_order  \n",
       "0       NaN NaN       NaN            NaN  \n",
       "1       NaN NaN       NaN            NaN  \n",
       "\n",
       "[2 rows x 43 columns]"
      ]
     },
     "execution_count": 59,
     "metadata": {},
     "output_type": "execute_result"
    }
   ],
   "source": [
    "df = coll.find({\n",
    "            'iterationName':iterationName\n",
    "#             'prolificID': {'$exists' : True},\n",
    "#             'studyID': {'$exists' : True},\n",
    "#             'sessionID': {'$exists' : True},\n",
    "#             'eventType': 'rating-task'\n",
    "})\n",
    "df = pd.DataFrame(df)\n",
    "df['button_pressed'] = pd.to_numeric(df['button_pressed'])\n",
    "print('unique gameIds:', len(df['gameID'].unique()))\n",
    "print(df.shape)\n",
    "print(df.columns)\n",
    "df.head(2)"
   ]
  },
  {
   "cell_type": "markdown",
   "metadata": {},
   "source": [
    "## Include catch-trial checks:\n",
    "\n",
    "Check whether subjects rated the catch trials as stable <3 or interesting >3. Remove those who fail catch"
   ]
  },
  {
   "cell_type": "code",
   "execution_count": 60,
   "metadata": {},
   "outputs": [
    {
     "data": {
      "text/plain": [
       "array(['3381-8354e837-e1c4-4e75-a3ce-786448ac86d6',\n",
       "       '2286-36094b34-2698-42ab-b05c-4274d5a5b0d0',\n",
       "       '3428-8a8ea934-86f1-492b-8777-228ac9e6e0b7'], dtype=object)"
      ]
     },
     "execution_count": 60,
     "metadata": {},
     "output_type": "execute_result"
    }
   ],
   "source": [
    "df_catch = df[df['catch_trial'] == True]\n",
    "\n",
    "#return array of gameIDs that failed catch trials\n",
    "failed_catch = df_catch[((df_catch['button_pressed'] <3) & (df_catch['condition'] == 'stable')) |\n",
    "                       ((df_catch['button_pressed'] >3) & (df_catch['condition'] == 'interesting'))]['gameID'].unique()\n",
    "failed_catch"
   ]
  },
  {
   "cell_type": "code",
   "execution_count": 47,
   "metadata": {},
   "outputs": [
    {
     "data": {
      "text/html": [
       "<div>\n",
       "<style scoped>\n",
       "    .dataframe tbody tr th:only-of-type {\n",
       "        vertical-align: middle;\n",
       "    }\n",
       "\n",
       "    .dataframe tbody tr th {\n",
       "        vertical-align: top;\n",
       "    }\n",
       "\n",
       "    .dataframe thead th {\n",
       "        text-align: right;\n",
       "    }\n",
       "</style>\n",
       "<table border=\"1\" class=\"dataframe\">\n",
       "  <thead>\n",
       "    <tr style=\"text-align: right;\">\n",
       "      <th></th>\n",
       "      <th>_id</th>\n",
       "      <th>type</th>\n",
       "      <th>iterationName</th>\n",
       "      <th>condition</th>\n",
       "      <th>prompt</th>\n",
       "      <th>towerID</th>\n",
       "      <th>image_url</th>\n",
       "      <th>stim_version</th>\n",
       "      <th>catch_trial</th>\n",
       "      <th>games</th>\n",
       "      <th>...</th>\n",
       "      <th>trial_index</th>\n",
       "      <th>time_elapsed</th>\n",
       "      <th>internal_node_id</th>\n",
       "      <th>workerId</th>\n",
       "      <th>hitID</th>\n",
       "      <th>aID</th>\n",
       "      <th>eventType</th>\n",
       "      <th>rt</th>\n",
       "      <th>responses</th>\n",
       "      <th>question_order</th>\n",
       "    </tr>\n",
       "  </thead>\n",
       "  <tbody>\n",
       "    <tr>\n",
       "      <th>0</th>\n",
       "      <td>5fcacbea6ccd8973aec082bb</td>\n",
       "      <td>image-button-response</td>\n",
       "      <td>pilot0</td>\n",
       "      <td>stable</td>\n",
       "      <td>How stable is this?</td>\n",
       "      <td>121319_04</td>\n",
       "      <td>https://curiotower.s3.amazonaws.com/121319_04.png</td>\n",
       "      <td>curiodrop</td>\n",
       "      <td>False</td>\n",
       "      <td>[]</td>\n",
       "      <td>...</td>\n",
       "      <td>1</td>\n",
       "      <td>11662</td>\n",
       "      <td>0.0-1.0</td>\n",
       "      <td>NaN</td>\n",
       "      <td>NaN</td>\n",
       "      <td>NaN</td>\n",
       "      <td>NaN</td>\n",
       "      <td>NaN</td>\n",
       "      <td>NaN</td>\n",
       "      <td>NaN</td>\n",
       "    </tr>\n",
       "    <tr>\n",
       "      <th>1</th>\n",
       "      <td>5fcacbef6ccd8973aec082bc</td>\n",
       "      <td>image-button-response</td>\n",
       "      <td>pilot0</td>\n",
       "      <td>stable</td>\n",
       "      <td>How stable is this?</td>\n",
       "      <td>121219_02</td>\n",
       "      <td>https://curiotower.s3.amazonaws.com/121219_02.png</td>\n",
       "      <td>curiodrop</td>\n",
       "      <td>False</td>\n",
       "      <td>[]</td>\n",
       "      <td>...</td>\n",
       "      <td>2</td>\n",
       "      <td>16657</td>\n",
       "      <td>0.0-2.0</td>\n",
       "      <td>NaN</td>\n",
       "      <td>NaN</td>\n",
       "      <td>NaN</td>\n",
       "      <td>NaN</td>\n",
       "      <td>NaN</td>\n",
       "      <td>NaN</td>\n",
       "      <td>NaN</td>\n",
       "    </tr>\n",
       "  </tbody>\n",
       "</table>\n",
       "<p>2 rows × 43 columns</p>\n",
       "</div>"
      ],
      "text/plain": [
       "                        _id                   type iterationName condition  \\\n",
       "0  5fcacbea6ccd8973aec082bb  image-button-response        pilot0    stable   \n",
       "1  5fcacbef6ccd8973aec082bc  image-button-response        pilot0    stable   \n",
       "\n",
       "                prompt    towerID  \\\n",
       "0  How stable is this?  121319_04   \n",
       "1  How stable is this?  121219_02   \n",
       "\n",
       "                                           image_url stim_version catch_trial  \\\n",
       "0  https://curiotower.s3.amazonaws.com/121319_04.png    curiodrop       False   \n",
       "1  https://curiotower.s3.amazonaws.com/121219_02.png    curiodrop       False   \n",
       "\n",
       "  games  ...  trial_index time_elapsed internal_node_id workerId hitID  aID  \\\n",
       "0    []  ...            1        11662          0.0-1.0      NaN   NaN  NaN   \n",
       "1    []  ...            2        16657          0.0-2.0      NaN   NaN  NaN   \n",
       "\n",
       "  eventType  rt responses question_order  \n",
       "0       NaN NaN       NaN            NaN  \n",
       "1       NaN NaN       NaN            NaN  \n",
       "\n",
       "[2 rows x 43 columns]"
      ]
     },
     "execution_count": 47,
     "metadata": {},
     "output_type": "execute_result"
    }
   ],
   "source": [
    "# df = df[~df.gameID.isin(failed_catch)]\n",
    "# df.head(2)"
   ]
  },
  {
   "cell_type": "markdown",
   "metadata": {},
   "source": [
    "#### Inspect response distribution"
   ]
  },
  {
   "cell_type": "code",
   "execution_count": 61,
   "metadata": {},
   "outputs": [
    {
     "data": {
      "text/plain": [
       "<matplotlib.axes._subplots.AxesSubplot at 0x1a1a676d10>"
      ]
     },
     "execution_count": 61,
     "metadata": {},
     "output_type": "execute_result"
    },
    {
     "data": {
      "image/png": "[encoded data removed]",
      "text/plain": [
       "<Figure size 432x288 with 1 Axes>"
      ]
     },
     "metadata": {},
     "output_type": "display_data"
    }
   ],
   "source": [
    "df['button_pressed'].hist(bins = 5)"
   ]
  },
  {
   "cell_type": "markdown",
   "metadata": {},
   "source": [
    " ### Create df of tower_level ratings"
   ]
  },
  {
   "cell_type": "code",
   "execution_count": 62,
   "metadata": {},
   "outputs": [
    {
     "data": {
      "text/html": [
       "<div>\n",
       "<style scoped>\n",
       "    .dataframe tbody tr th:only-of-type {\n",
       "        vertical-align: middle;\n",
       "    }\n",
       "\n",
       "    .dataframe tbody tr th {\n",
       "        vertical-align: top;\n",
       "    }\n",
       "\n",
       "    .dataframe thead th {\n",
       "        text-align: right;\n",
       "    }\n",
       "</style>\n",
       "<table border=\"1\" class=\"dataframe\">\n",
       "  <thead>\n",
       "    <tr style=\"text-align: right;\">\n",
       "      <th></th>\n",
       "      <th>towerID</th>\n",
       "      <th>condition</th>\n",
       "      <th>sd</th>\n",
       "      <th>count</th>\n",
       "      <th>mean</th>\n",
       "    </tr>\n",
       "  </thead>\n",
       "  <tbody>\n",
       "    <tr>\n",
       "      <th>0</th>\n",
       "      <td>120619_05b</td>\n",
       "      <td>interesting</td>\n",
       "      <td>1.048809</td>\n",
       "      <td>6</td>\n",
       "      <td>1.500000</td>\n",
       "    </tr>\n",
       "    <tr>\n",
       "      <th>1</th>\n",
       "      <td>120619_05b</td>\n",
       "      <td>stable</td>\n",
       "      <td>0.816497</td>\n",
       "      <td>4</td>\n",
       "      <td>3.000000</td>\n",
       "    </tr>\n",
       "    <tr>\n",
       "      <th>2</th>\n",
       "      <td>120619_07b</td>\n",
       "      <td>interesting</td>\n",
       "      <td>0.632456</td>\n",
       "      <td>6</td>\n",
       "      <td>2.000000</td>\n",
       "    </tr>\n",
       "    <tr>\n",
       "      <th>3</th>\n",
       "      <td>120619_07b</td>\n",
       "      <td>stable</td>\n",
       "      <td>0.957427</td>\n",
       "      <td>4</td>\n",
       "      <td>3.250000</td>\n",
       "    </tr>\n",
       "    <tr>\n",
       "      <th>4</th>\n",
       "      <td>121119_01</td>\n",
       "      <td>interesting</td>\n",
       "      <td>0.752773</td>\n",
       "      <td>6</td>\n",
       "      <td>1.166667</td>\n",
       "    </tr>\n",
       "  </tbody>\n",
       "</table>\n",
       "</div>"
      ],
      "text/plain": [
       "      towerID    condition        sd  count      mean\n",
       "0  120619_05b  interesting  1.048809      6  1.500000\n",
       "1  120619_05b       stable  0.816497      4  3.000000\n",
       "2  120619_07b  interesting  0.632456      6  2.000000\n",
       "3  120619_07b       stable  0.957427      4  3.250000\n",
       "4   121119_01  interesting  0.752773      6  1.166667"
      ]
     },
     "execution_count": 62,
     "metadata": {},
     "output_type": "execute_result"
    }
   ],
   "source": [
    "df_tower = df.groupby(['towerID', 'condition'])['button_pressed'].mean().reset_index()\n",
    "df_tower_var = df.groupby(['towerID', 'condition'])['button_pressed'].std().reset_index()\n",
    "df_tower_count = df.groupby(['towerID', 'condition'])['button_pressed'].count().reset_index()\n",
    "df_tower['sd'] = df_tower_var['button_pressed']\n",
    "df_tower['count'] = df_tower_count['button_pressed']\n",
    "df_tower['mean'] = df_tower['button_pressed']\n",
    "df_tower = df_tower.drop(['button_pressed'], axis = 1)\n",
    "df_tower.head()"
   ]
  },
  {
   "cell_type": "code",
   "execution_count": 63,
   "metadata": {},
   "outputs": [
    {
     "data": {
      "image/png": "[encoded data removed]",
      "text/plain": [
       "<Figure size 432x288 with 1 Axes>"
      ]
     },
     "metadata": {},
     "output_type": "display_data"
    },
    {
     "data": {
      "image/png": "[encoded data removed]",
      "text/plain": [
       "<Figure size 432x288 with 1 Axes>"
      ]
     },
     "metadata": {},
     "output_type": "display_data"
    }
   ],
   "source": [
    "df_tower[df_tower['condition'] == 'interesting']['mean'].hist(bins = 5, alpha = 0.4)\n",
    "df_tower[df_tower['condition'] == 'stable']['mean'].hist(bins = 5, alpha = 0.4)\n",
    "plt.legend(['interesting', 'stable'])\n",
    "plt.show()\n",
    "\n",
    "\n",
    "df_tower[df_tower['condition'] == 'interesting']['sd'].hist(bins = 5, alpha = 0.4)\n",
    "df_tower[df_tower['condition'] == 'stable']['sd'].hist(bins = 5, alpha = 0.4)\n",
    "plt.legend(['interesting', 'stable'])\n",
    "plt.show()"
   ]
  },
  {
   "cell_type": "markdown",
   "metadata": {},
   "source": [
    "### Inspect timing data"
   ]
  },
  {
   "cell_type": "code",
   "execution_count": 64,
   "metadata": {},
   "outputs": [
    {
     "data": {
      "text/plain": [
       "gameID\n",
       "1499-d1f6c683-8517-4d78-a880-26256f5e4a72     5.184764\n",
       "2070-e571994c-0a4a-4817-a636-8ae216203c94     1.932583\n",
       "2286-36094b34-2698-42ab-b05c-4274d5a5b0d0     0.971125\n",
       "3381-8354e837-e1c4-4e75-a3ce-786448ac86d6    11.963681\n",
       "3428-8a8ea934-86f1-492b-8777-228ac9e6e0b7     3.697819\n",
       "4575-b24ebf3b-4737-4392-8228-56c27771cc1c     2.669000\n",
       "5894-9b9eb6a9-b287-4d33-ace8-59351cbc5399     1.929028\n",
       "6935-2e9e518a-a2d8-46e3-8353-1dc1bfd97417     2.228208\n",
       "7655-1b56826c-9052-4edd-b973-65f5f01f2d34    11.077486\n",
       "7681-083bb1f3-59f9-42e7-9ec9-000a9de5f6a6     6.164444\n",
       "7772-a010c5df-215c-4530-86e1-fe391b4a078d     0.591000\n",
       "7778-3ace1d67-b43e-4a06-a75c-1bf311297a60     3.334056\n",
       "surveyData                                         NaN\n",
       "Name: time_on_trial, dtype: float64"
      ]
     },
     "execution_count": 64,
     "metadata": {},
     "output_type": "execute_result"
    }
   ],
   "source": [
    "df['time_on_trial'] = (df['endTrialTime'] - df['startTrialTime'])/1000\n",
    "df_time = df.groupby(['gameID'])['time_on_trial'].mean()\n",
    "df_time\n"
   ]
  },
  {
   "cell_type": "code",
   "execution_count": 65,
   "metadata": {},
   "outputs": [
    {
     "data": {
      "text/plain": [
       "<matplotlib.axes._subplots.AxesSubplot at 0x1a1a84a390>"
      ]
     },
     "execution_count": 65,
     "metadata": {},
     "output_type": "execute_result"
    },
    {
     "data": {
      "image/png": "[encoded data removed]",
      "text/plain": [
       "<Figure size 432x288 with 1 Axes>"
      ]
     },
     "metadata": {},
     "output_type": "display_data"
    }
   ],
   "source": [
    "import seaborn as sns\n",
    "sns.lineplot(data=df, x=\"trial_index\", y=\"time_on_trial\", hue=\"gameID\")"
   ]
  },
  {
   "cell_type": "markdown",
   "metadata": {},
   "source": [
    "# _______________________________________________________\n",
    "\n",
    "# After this point is old compabs analysis (saving just in case...)\n",
    "\n",
    "\n",
    "# ________________________________________________________"
   ]
  },
  {
   "cell_type": "code",
   "execution_count": null,
   "metadata": {
    "scrolled": true
   },
   "outputs": [],
   "source": [
    "## get list of all gameIDs in database\n",
    "total_games = coll.find({'iterationName':iterationName}).distinct('gameid')\n",
    "print('There are {} total games.'.format(len(total_games)))\n",
    "\n",
    "## get list of complete gameIDs\n",
    "gameIDs = coll.find({'iterationName':iterationName}).distinct('gameid')\n",
    "complete_games = [g for g in gameIDs if len(coll.find({'gameid':g}).distinct('trialNum')) == numTrials]\n",
    "print('There are {} complete games.'.format(len(complete_games)))"
   ]
  },
  {
   "cell_type": "code",
   "execution_count": null,
   "metadata": {},
   "outputs": [],
   "source": [
    "broken_games = []\n",
    "complete_games = [g for g in complete_games if g not in broken_games]\n",
    "\n",
    "def construct_tidy_dataframe(eventType = 'chatMessage', \n",
    "                             complete_games = [],\n",
    "                             iterationName = 'pilot1',\n",
    "                             remove_workerID = True):\n",
    "    '''\n",
    "    input: list of complete games and name of event Type\n",
    "    '''\n",
    "    event2name = {'chatMessage':'chat', 'block':'block', 'endTrial':'trial', 'exitSurvey':'exit'}\n",
    "    L = pd.DataFrame()\n",
    "    for g, this_gameID in enumerate(complete_games):\n",
    "        print('Analyzing game {} | {} of {}'.format(this_gameID, g+1, len(complete_games)))\n",
    "        clear_output(wait=True) \n",
    "\n",
    "        ### extract records \n",
    "        #loop over iteration names??\n",
    "        X = coll.find({ '$and': [{'iterationName':iterationName}, \n",
    "#                                  {\"$or\":[{'iterationName':'Exp2Pilot3'},\n",
    "#                                  {'iterationName':'Exp2Pilot3_batch2'}]}\n",
    "                                 {'gameid': this_gameID}, {'eventType': eventType}]}).sort('time') \n",
    "        \n",
    "        li = list(X)        \n",
    "        _L = pd.DataFrame(li)  \n",
    "\n",
    "        ## concat with previous game's dataframe\n",
    "        if L.shape[0]==0:\n",
    "            L = _L\n",
    "        else: \n",
    "            L = pd.concat([L,_L], axis=0)     \n",
    "\n",
    "    ## postprocessing\n",
    "    if remove_workerID and 'workerId' in L.columns:\n",
    "        L = L.drop('workerId',axis=1)\n",
    "\n",
    "    ## save out group dataframe to csv dir\n",
    "    out_path = os.path.join(csv_dir,'compabs_{}_{}.csv'.format(event2name[eventType],iterationName))\n",
    "    print('Saving dataframe out to CSV dir at path: {}'.format(out_path))    \n",
    "    L.to_csv(out_path)             \n",
    "\n",
    "    return L\n"
   ]
  },
  {
   "cell_type": "code",
   "execution_count": null,
   "metadata": {},
   "outputs": [],
   "source": [
    "## construct dataframe for each datatype\n",
    "dataTypes = coll.distinct('eventType')\n",
    "for thisDataType in dataTypes:\n",
    "    X = construct_tidy_dataframe(eventType=thisDataType, complete_games=complete_games, iterationName=iterationName)\n"
   ]
  },
  {
   "cell_type": "markdown",
   "metadata": {},
   "source": [
    "## Full DF from DB"
   ]
  },
  {
   "cell_type": "code",
   "execution_count": null,
   "metadata": {},
   "outputs": [],
   "source": [
    "# Ensure one to one gameID and workerId \n",
    "# Should only happen if a repeat worker gets through\n",
    "\n",
    "# query = coll.find({\"$and\":[\n",
    "# #                         {'workerId':{'$exists':True}},\n",
    "# #                         {'condition':{'$ne':'practice'}},\n",
    "# #                         {'eventType':'trial_end'},\n",
    "#                         {\"$or\":[{'iterationName':'testing'}]}]\n",
    "#                      })\n",
    "\n",
    "#df_trial_end_full = pd.DataFrame(list(query.sort('timeAbsolute')))\n",
    "#df_trial_end_full[['workerId','gameID']]\n",
    "\n",
    "query = coll.find()\n",
    "\n",
    "df_trial_end_full = pd.DataFrame(list(query))\n",
    "\n",
    "#assert (np.mean(df_trial_end_full['workerId'].value_counts()) == np.mean(df_trial_end_full['gameID'].value_counts()))"
   ]
  },
  {
   "cell_type": "code",
   "execution_count": null,
   "metadata": {},
   "outputs": [],
   "source": [
    "## How many records?\n",
    "coll.estimated_document_count()"
   ]
  },
  {
   "cell_type": "code",
   "execution_count": null,
   "metadata": {},
   "outputs": [],
   "source": [
    "#df_trial_end_full.columns"
   ]
  },
  {
   "cell_type": "markdown",
   "metadata": {},
   "source": [
    "#### check outcome for specific workerID"
   ]
  },
  {
   "cell_type": "code",
   "execution_count": null,
   "metadata": {},
   "outputs": [],
   "source": [
    "#set worker ID\n",
    "workerID = 'A37XBH865833FE'\n",
    "iteration = 'pilot0'\n",
    "#get GameID (not all info available at workerID level (e.g. bonus))\n",
    "gameID = df_trial_end_full[df_trial_end_full['workerId'] == workerID]['gameid'].unique()[0]\n",
    "\n",
    "#check iteration name\n",
    "df_game = df_trial_end_full[(df_trial_end_full['iterationName'] == iteration) &\n",
    "                            (df_trial_end_full['gameid'] == gameID)]\n",
    "#get workerIds\n",
    "print('workerIDS:',df_game['workerId'].unique())\n",
    "#get bonus for gameID ([air of workerIDs])\n",
    "print(\"Bonus:\",np.nanmax(df_game['cumulativeBonus']))"
   ]
  },
  {
   "cell_type": "code",
   "execution_count": null,
   "metadata": {},
   "outputs": [],
   "source": [
    "df_trial_end_full[(df_trial_end_full['iterationName'] == 'pilot2')].content.unique()"
   ]
  },
  {
   "cell_type": "code",
   "execution_count": null,
   "metadata": {},
   "outputs": [],
   "source": [
    "#see full history for single worker\n",
    "df_test = df_trial_end_full[(df_trial_end_full['iterationName'] == iterationName)&\n",
    "                           (df_trial_end_full['workerId'] == workerID)]\n",
    "df_test.content.unique()"
   ]
  },
  {
   "cell_type": "code",
   "execution_count": null,
   "metadata": {},
   "outputs": [],
   "source": []
  },
  {
   "cell_type": "markdown",
   "metadata": {},
   "source": [
    "## Trial Level Data"
   ]
  },
  {
   "cell_type": "code",
   "execution_count": null,
   "metadata": {},
   "outputs": [],
   "source": [
    "# # Assuming that if trial 23 saves, then 0-22 have also saved \n",
    "# # get ids of people with trial 23 data\n",
    "# query = coll.find({\"$and\":[\n",
    "#                         {'condition':{'$ne':'practice'}},\n",
    "#                         {'eventType':'trial_end'},\n",
    "#                         {\"$or\":[{'iterationName':'Exp2Pilot3'},\n",
    "#                                 {'iterationName':'Exp2Pilot3_batch2'}]},\n",
    "#                         #{'iterationName': iterationName}, #use this if one iteration name\n",
    "#                         {'trialNum': numTrials-1}]\n",
    "#                      })\n",
    "# complete_data_df = pd.DataFrame(query)\n",
    "# complete_data_ids = list(complete_data_df['workerId'])"
   ]
  },
  {
   "cell_type": "code",
   "execution_count": null,
   "metadata": {},
   "outputs": [],
   "source": [
    "# # Filter for full datasets\n",
    "# query = coll.find({\"$and\":[\n",
    "#                         {'condition':{'$ne':'practice'}},\n",
    "#                         {'eventType':'trial_end'},\n",
    "#                         #{'iterationName': iterationName}, #use this if one iteration name\n",
    "#                         {\"$or\":[{'iterationName':'Exp2Pilot3'},\n",
    "#                                 {'iterationName':'Exp2Pilot3_batch2'}]}]\n",
    "#                      })\n",
    "\n",
    "# df_trial_end_full = pd.DataFrame(list(query.sort('timeAbsolute')))\n",
    "\n",
    "\n",
    "# # filter dataframe for complete datasets\n",
    "# df_trial_end_full_filtered = df_trial_end_full[df_trial_end_full.workerId.isin(complete_data_ids)]\n",
    "\n",
    "# # reduce to crucial information\n",
    "# df_trial_end_reduced_filtered = df_trial_end_full_filtered[[\n",
    "#     'gameID','trialNum','phase','condition','eventType','targetName','repetition','targetID', #trial identifiers\n",
    "#     'nullScore','F1Score','normedScore','rawScoreDiscrete','nullScoreDiscrete','normedScoreDiscrete','scoreGapDiscrete', #scoring\n",
    "#     'numBlocks','nPracticeAttempts','blockColor','blockColorID','blockFell','doNothingRepeats',#misc. trial info\n",
    "#     'score','currBonus','timeBonus', #bonusing\n",
    "#     'timeAbsolute','timeRelative','buildTime','buildStartTime','buildFinishTime','timeToBuild', #timing \n",
    "#     'discreteWorld','allVertices', #world reconstruction\n",
    "#     'browser','browserVersion','os','devMode', #developer info\n",
    "#     #below here should be the same for every trial in a dataset\n",
    "#     'iterationName',\n",
    "#     'numTargets', 'prePostSetSize','numRepetitions', #pre-post info\n",
    "#     'bonusThresholdLow','bonusThresholdMid','bonusThresholdHigh','timeThresholdYellow','timeThresholdRed', #bonus info\n",
    "#     ]]\n",
    "\n",
    "# #Fix error in data-saving- normedScoreDiscrete saved as rawScoreDiscrete\n",
    "# df_trial_end_reduced_filtered['normedScoreDiscrete'] = df_trial_end_reduced_filtered['rawScoreDiscrete']\n",
    "# df_trial_end_reduced_filtered.drop(['rawScoreDiscrete'], axis=1)\n",
    "\n",
    "\n",
    "# df = df_trial_end_reduced_filtered.sort_values(by=['gameID', 'timeAbsolute'])"
   ]
  },
  {
   "cell_type": "markdown",
   "metadata": {},
   "source": [
    "## Create DF for each event"
   ]
  },
  {
   "cell_type": "code",
   "execution_count": null,
   "metadata": {},
   "outputs": [],
   "source": [
    "#read in dataframes from each eventType\n",
    "df_block = pd.read_csv('../results/csv/compabs_block_{}.csv'.format(iterationName))\n",
    "df_chat = pd.read_csv('../results/csv/compabs_chat_{}.csv'.format(iterationName))\n",
    "df_exit = pd.read_csv('../results/csv/compabs_exit_{}.csv'.format(iterationName))\n",
    "df_trial = pd.read_csv('../results/csv/compabs_trial_{}.csv'.format(iterationName))"
   ]
  },
  {
   "cell_type": "code",
   "execution_count": null,
   "metadata": {},
   "outputs": [],
   "source": [
    "#manually build full df (needs to be generalized)\n",
    "df_block0 = pd.read_csv('../results/csv/compabs_block_{}.csv'.format('pilot0'))\n",
    "df_chat0 = pd.read_csv('../results/csv/compabs_chat_{}.csv'.format('pilot0'))\n",
    "df_exit0 = pd.read_csv('../results/csv/compabs_exit_{}.csv'.format('pilot0'))\n",
    "df_trial0 = pd.read_csv('../results/csv/compabs_trial_{}.csv'.format('pilot0'))\n",
    "#\n",
    "df_block1 = pd.read_csv('../results/csv/compabs_block_{}.csv'.format('pilot1'))\n",
    "df_chat1 = pd.read_csv('../results/csv/compabs_chat_{}.csv'.format('pilot1'))\n",
    "df_exit1 = pd.read_csv('../results/csv/compabs_exit_{}.csv'.format('pilot1'))\n",
    "df_trial1 = pd.read_csv('../results/csv/compabs_trial_{}.csv'.format('pilot1'))\n",
    "#\n",
    "df_block2 = pd.read_csv('../results/csv/compabs_block_{}.csv'.format('pilot2'))\n",
    "df_chat2 = pd.read_csv('../results/csv/compabs_chat_{}.csv'.format('pilot2'))\n",
    "df_exit2 = pd.read_csv('../results/csv/compabs_exit_{}.csv'.format('pilot2'))\n",
    "df_trial2 = pd.read_csv('../results/csv/compabs_trial_{}.csv'.format('pilot2'))\n",
    "\n",
    "df_block = pd.concat([df_block0,df_block1,df_block2])\n",
    "df_chat = pd.concat([df_chat0,df_chat1,df_chat2])\n",
    "df_exit = pd.concat([df_exit0,df_exit1,df_exit2])\n",
    "df_trial = pd.concat([df_trial0,df_trial1,df_trial2])\n",
    "\n",
    "print(\"Total Completed Games:\",len(df_exit.gameid.unique()))"
   ]
  },
  {
   "cell_type": "markdown",
   "metadata": {},
   "source": [
    "#### Exclusion Criteria"
   ]
  },
  {
   "cell_type": "code",
   "execution_count": null,
   "metadata": {},
   "outputs": [],
   "source": [
    "#How many dyads fulfill 75% Accuracy on 75% of trials\n",
    "df75 = pd.DataFrame(df_trial.groupby(['gameid', 'trialNum'])['trialScore'].sum()>75).groupby(['gameid']).sum()\n",
    "df75['trials'] = df75['trialScore']\n",
    "print(\"Total dyads achieving 75% Accuracy on 75% of trials:\",len(df75[df75['trials']>=9]))"
   ]
  },
  {
   "cell_type": "code",
   "execution_count": null,
   "metadata": {},
   "outputs": [],
   "source": [
    "df_exit.confused"
   ]
  },
  {
   "cell_type": "code",
   "execution_count": null,
   "metadata": {},
   "outputs": [],
   "source": [
    "#read in dataframes from each eventType\n",
    "# block_data = []\n",
    "# for i in range(0,3):\n",
    "#     block_data.append(pd.read_csv('../results/csv/compabs_block_pilot{}.csv'.format(i)))\n",
    "# df_block = pd.concat(block_data)\n",
    "# df_block =  [pd.merge(pd.read_csv('../results/csv/compabs_block_pilot{}.csv'.format(i))) for i in range(0,3)]\n",
    "# df_chat = pd.read_csv('../results/csv/compabs_chat_{}.csv'.format(iterationName))\n",
    "# df_exit = pd.read_csv('../results/csv/compabs_exit_{}.csv'.format(iterationName))\n",
    "# df_trial = pd.read_csv('../results/csv/compabs_trial_{}.csv'.format(iterationName))"
   ]
  },
  {
   "cell_type": "code",
   "execution_count": null,
   "metadata": {},
   "outputs": [],
   "source": [
    "df_block.iterationName.unique()"
   ]
  },
  {
   "cell_type": "code",
   "execution_count": null,
   "metadata": {},
   "outputs": [],
   "source": [
    "df_exit.comments.unique()"
   ]
  },
  {
   "cell_type": "markdown",
   "metadata": {},
   "source": [
    "#### Total Game Duration (for Gameplay)"
   ]
  },
  {
   "cell_type": "code",
   "execution_count": null,
   "metadata": {},
   "outputs": [],
   "source": [
    "(df_exit.groupby(['gameid'])['totalLength'].max()/60000).hist()\n",
    "plt.xlabel(\"Duration (min)\")\n",
    "plt.show()"
   ]
  },
  {
   "cell_type": "code",
   "execution_count": null,
   "metadata": {},
   "outputs": [],
   "source": [
    "(df_exit.groupby(['gameid'])['totalLength'].max()/60000).mean()"
   ]
  },
  {
   "cell_type": "markdown",
   "metadata": {},
   "source": [
    "### Inspect some raw data: language"
   ]
  },
  {
   "cell_type": "code",
   "execution_count": null,
   "metadata": {},
   "outputs": [],
   "source": [
    "#create columns for char and word counts\n",
    "df_chat['word_count'] = df_chat['content'].str.split(' ').str.len()\n",
    "df_chat['char_count'] = df_chat['content'].str.len()"
   ]
  },
  {
   "cell_type": "code",
   "execution_count": null,
   "metadata": {},
   "outputs": [],
   "source": [
    "#Coerce trialNum to numeric -- will remove \"practice\". Thoughts?\n",
    "df_chat['trialNum'] = pd.to_numeric(df_chat['trialNum'], errors = 'coerce')"
   ]
  },
  {
   "cell_type": "code",
   "execution_count": null,
   "metadata": {},
   "outputs": [],
   "source": [
    "#inspect specific chat history of one dyad\n",
    "dyadGameId = '8548-343a533f-0369-4b20-bbd4-a00f25359cea'\n",
    "df_chat[(df_chat.gameid == dyadGameId)]['content'].unique()"
   ]
  },
  {
   "cell_type": "markdown",
   "metadata": {},
   "source": [
    "### Inspect some raw data: display block towers"
   ]
  },
  {
   "cell_type": "code",
   "execution_count": null,
   "metadata": {},
   "outputs": [],
   "source": [
    "importlib.reload(drawing)\n",
    "df_block['w'] = df_block['width']\n",
    "df_block['h'] = df_block['height']\n",
    "floatCols = ['w','h','blockNum','turnNum','x','y']\n",
    "df_block[floatCols] = df_block[floatCols].applymap(np.int64)"
   ]
  },
  {
   "cell_type": "code",
   "execution_count": null,
   "metadata": {},
   "outputs": [],
   "source": [
    "fig = plt.figure(figsize=(10,10))\n",
    "ax = fig.add_subplot(1,1,1)\n",
    "drawing.draw_from_actions_subplot(df_block[(df_block.leftTarget == 'C') & \n",
    "                                           (df_block.rightTarget == 'Pi') &\n",
    "                                           (df_block.gameid == '0662-7a9212c9-5aa7-44de-9ed7-4663c56562d2')], \n",
    "                                  ax, \n",
    "                                  world_size = [12,8])\n",
    "plt.title(\"Block Heat Map for 'C, Pi'\")\n",
    "plt.show()"
   ]
  },
  {
   "cell_type": "markdown",
   "metadata": {},
   "source": [
    "## Make basic visualizations and calculate descriptives"
   ]
  },
  {
   "cell_type": "markdown",
   "metadata": {},
   "source": [
    "### Architect: mean number of words across trials"
   ]
  },
  {
   "cell_type": "code",
   "execution_count": null,
   "metadata": {},
   "outputs": [],
   "source": [
    "#Get sum of words for each trial, group by game then average across games\n",
    "print(df_chat.groupby(['gameid','trialNum'])['word_count'].sum().groupby(['trialNum']).mean())"
   ]
  },
  {
   "cell_type": "code",
   "execution_count": null,
   "metadata": {},
   "outputs": [],
   "source": [
    "fig, ax = plt.subplots(figsize=(15,7))\n",
    "df_chat.groupby(['gameid','trialNum'])['word_count'].sum().groupby(['trialNum']).mean().plot(ax = ax)\n",
    "plt.ylabel('Word Count')"
   ]
  },
  {
   "cell_type": "code",
   "execution_count": null,
   "metadata": {},
   "outputs": [],
   "source": [
    "fig, ax = plt.subplots(figsize=(15,7))\n",
    "mean = df_chat.groupby(['gameid','trialNum'])['word_count'].sum().groupby(['trialNum']).mean()\n",
    "std = df_chat.groupby(['gameid','trialNum'])['word_count'].sum().groupby(['trialNum']).std()\n",
    "\n",
    "plt.errorbar(mean.index, mean, yerr=2*std, linestyle='--')\n",
    "plt.ylabel('Word Count')\n",
    "plt.show()"
   ]
  },
  {
   "cell_type": "code",
   "execution_count": null,
   "metadata": {},
   "outputs": [],
   "source": [
    "## print summary stat to console?"
   ]
  },
  {
   "cell_type": "markdown",
   "metadata": {},
   "source": [
    "###  Architect: mean number of characters across trials"
   ]
  },
  {
   "cell_type": "code",
   "execution_count": null,
   "metadata": {},
   "outputs": [],
   "source": [
    "fig, ax = plt.subplots(figsize=(15,7))\n",
    "df_chat.groupby(['gameid','trialNum'])['char_count'].sum().groupby(['trialNum']).mean().plot(ax = ax)\n",
    "plt.ylabel('Char Count')"
   ]
  },
  {
   "cell_type": "markdown",
   "metadata": {},
   "source": [
    "### Architect: mean number of messages (across turns within a trial) across trials"
   ]
  },
  {
   "cell_type": "code",
   "execution_count": null,
   "metadata": {},
   "outputs": [],
   "source": [
    "fig, ax = plt.subplots(figsize=(15,7))\n",
    "df_chat.groupby(['gameid','trialNum'])['_id'].count().groupby(['trialNum']).mean().plot(ax = ax)\n",
    "plt.ylabel('Messages per trial')"
   ]
  },
  {
   "cell_type": "markdown",
   "metadata": {},
   "source": [
    "### Architect: Total typing time (across turns within at trial) across trials"
   ]
  },
  {
   "cell_type": "code",
   "execution_count": null,
   "metadata": {},
   "outputs": [],
   "source": [
    "#check time elapsed\n",
    "df_chat[\"timeElapsedInTurn\"] = pd.to_numeric(df_chat['timeElapsedInTurn'])"
   ]
  },
  {
   "cell_type": "code",
   "execution_count": null,
   "metadata": {},
   "outputs": [],
   "source": [
    "## line plots\n",
    "fig, ax = plt.subplots(figsize=(15,7))\n",
    "df_chat.groupby(['gameid','trialNum'])['timeElapsedInTurn'].sum().groupby(['trialNum']).mean().plot(ax = ax)\n",
    "plt.ylabel('Average Time elapsed, Architect')"
   ]
  },
  {
   "cell_type": "code",
   "execution_count": null,
   "metadata": {},
   "outputs": [],
   "source": [
    "df_chat.groupby(['gameid','trialNum'])['timeElapsedInTurn'].sum().groupby(['trialNum']).mean()"
   ]
  },
  {
   "cell_type": "markdown",
   "metadata": {},
   "source": [
    "### Builder: Reconstruction accuracy (intersection over union, IOU) across trials"
   ]
  },
  {
   "cell_type": "code",
   "execution_count": null,
   "metadata": {},
   "outputs": [],
   "source": [
    "#Coerce trialNum to numeric -- will remove \"practice\". Thoughts?\n",
    "df_trial['trialNum'] = pd.to_numeric(df_trial['trialNum'], errors = 'coerce')\n",
    "#Coerce trialNum to numeric -- will remove \"practice\". Thoughts?\n",
    "df_block['trialNum'] = pd.to_numeric(df_block['trialNum'], errors = 'coerce')"
   ]
  },
  {
   "cell_type": "code",
   "execution_count": null,
   "metadata": {},
   "outputs": [],
   "source": [
    "fig, ax = plt.subplots(figsize=(15,7))\n",
    "df_trial.groupby(['trialNum','gameid'])['trialScore'].sum().groupby(['trialNum']).mean().plot(ax = ax)\n",
    "plt.ylabel('Trial Score')"
   ]
  },
  {
   "cell_type": "code",
   "execution_count": null,
   "metadata": {
    "scrolled": false
   },
   "outputs": [],
   "source": [
    "fig, ax = plt.subplots(figsize=(15,7))\n",
    "df_trial.groupby(['trialNum','gameid'])['trialScore'].sum().unstack().plot(ax = ax)\n",
    "ax.get_legend().remove()\n",
    "plt.ylabel('Trial Score')"
   ]
  },
  {
   "cell_type": "code",
   "execution_count": null,
   "metadata": {},
   "outputs": [],
   "source": [
    "fig, ax = plt.subplots(figsize=(15,7))\n",
    "df_trial.groupby(['repNum','gameid'])['trialScore'].mean().unstack().plot(ax = ax)\n",
    "ax.get_legend().remove()\n",
    "plt.ylabel('Trial Score')"
   ]
  },
  {
   "cell_type": "code",
   "execution_count": null,
   "metadata": {},
   "outputs": [],
   "source": [
    "df_trial.groupby(['gameid'])['trialScore'].mean().hist()"
   ]
  },
  {
   "cell_type": "code",
   "execution_count": null,
   "metadata": {},
   "outputs": [],
   "source": [
    "#Dist of trial scores:\n",
    "(df_trial.groupby(['gameid','trialNum']).trialScore.max().hist(bins = 8))\n",
    "plt.show()\n"
   ]
  },
  {
   "cell_type": "code",
   "execution_count": null,
   "metadata": {},
   "outputs": [],
   "source": [
    "pd.options.display.max_rows = 4000\n",
    "df_trial.groupby(['gameid','trialNum']).trialScore.max()"
   ]
  },
  {
   "cell_type": "code",
   "execution_count": null,
   "metadata": {},
   "outputs": [],
   "source": [
    "pd.DataFrame(df_trial[df_trial.trialNum>=0].groupby(['gameid']).trialScore.max())\n"
   ]
  },
  {
   "cell_type": "markdown",
   "metadata": {},
   "source": [
    "### Architect: Distribution of words over trials"
   ]
  },
  {
   "cell_type": "markdown",
   "metadata": {},
   "source": [
    "### Builder: Distribution of blocks placed per utterance\n"
   ]
  },
  {
   "cell_type": "code",
   "execution_count": null,
   "metadata": {},
   "outputs": [],
   "source": [
    "(df_block.groupby(['gameid','trialNum', 'turnNum'])['_id'].count()).hist(bins = 8)\n",
    "plt.show()\n"
   ]
  },
  {
   "cell_type": "markdown",
   "metadata": {},
   "source": [
    "### Builder: Total reconstruction time (summed build time across turns, within each trial) across trials"
   ]
  },
  {
   "cell_type": "code",
   "execution_count": null,
   "metadata": {},
   "outputs": [],
   "source": [
    "#check time elapsed\n",
    "df_block[\"timeElapsedInTurn\"] = pd.to_numeric(df_block['timeElapsedInTurn'])"
   ]
  },
  {
   "cell_type": "code",
   "execution_count": null,
   "metadata": {},
   "outputs": [],
   "source": [
    "df_block.groupby(['gameid','trialNum'])['timeElapsedInTurn'].sum()"
   ]
  },
  {
   "cell_type": "code",
   "execution_count": null,
   "metadata": {},
   "outputs": [],
   "source": [
    "## line plots\n",
    "fig, ax = plt.subplots(figsize=(15,7))\n",
    "df_block.groupby(['gameid','trialNum'])['timeElapsedInTurn'].sum().groupby(['trialNum']).mean().plot(ax = ax)\n",
    "plt.ylabel('Average Time elapsed, Builder')"
   ]
  },
  {
   "cell_type": "code",
   "execution_count": null,
   "metadata": {},
   "outputs": [],
   "source": [
    "## line plots: time for each builder\n",
    "fig, ax = plt.subplots(figsize=(15,7))\n",
    "df_block.groupby(['trialNum','gameid'])['timeElapsedInTurn'].sum().unstack().plot(ax = ax)\n",
    "ax.get_legend().remove()\n",
    "plt.ylabel('Time elapsed in trial Builder')"
   ]
  },
  {
   "cell_type": "code",
   "execution_count": null,
   "metadata": {},
   "outputs": [],
   "source": [
    "df_block.timeElapsedInTurn.min()"
   ]
  },
  {
   "cell_type": "markdown",
   "metadata": {},
   "source": [
    "### Now, let's look at the DVs above, w.r.t. repetition of scenes, IGNORING which side a tower appears on... so across four repetitions (where [A,B] is equivalent to [B,A])\n",
    "\n",
    "#### use rep num"
   ]
  },
  {
   "cell_type": "code",
   "execution_count": null,
   "metadata": {},
   "outputs": [],
   "source": [
    "#\n",
    "def convert(list): \n",
    "    return tuple(i for i in list)\n",
    "df_chat['targetSet'] = convert(df_chat[['leftTarget', 'rightTarget']].values.tolist())"
   ]
  },
  {
   "cell_type": "code",
   "execution_count": null,
   "metadata": {},
   "outputs": [],
   "source": [
    "df_chat.head(2)"
   ]
  },
  {
   "cell_type": "code",
   "execution_count": null,
   "metadata": {},
   "outputs": [],
   "source": [
    "fig, ax = plt.subplots(figsize=(15,7))\n",
    "df_chat.groupby(['gameid','targetSet'])['word_count'].sum().groupby(['targetSet']).mean().plot.bar(ax = ax)\n",
    "plt.ylabel('Words Per figure')"
   ]
  },
  {
   "cell_type": "code",
   "execution_count": null,
   "metadata": {},
   "outputs": [],
   "source": []
  },
  {
   "cell_type": "code",
   "execution_count": null,
   "metadata": {},
   "outputs": [],
   "source": []
  },
  {
   "cell_type": "code",
   "execution_count": null,
   "metadata": {},
   "outputs": [],
   "source": []
  },
  {
   "cell_type": "code",
   "execution_count": null,
   "metadata": {},
   "outputs": [],
   "source": []
  }
 ],
 "metadata": {
  "kernelspec": {
   "display_name": "Python 3",
   "language": "python",
   "name": "python3"
  },
  "language_info": {
   "codemirror_mode": {
    "name": "ipython",
    "version": 3
   },
   "file_extension": ".py",
   "mimetype": "text/x-python",
   "name": "python",
   "nbconvert_exporter": "python",
   "pygments_lexer": "ipython3",
   "version": "3.7.6"
  }
 },
 "nbformat": 4,
 "nbformat_minor": 2
}
