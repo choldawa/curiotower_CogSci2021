{
 "cells": [
  {
   "cell_type": "markdown",
   "metadata": {},
   "source": [
    "# Analysis Notebook for CurioTower experiment\n",
    "\n",
    "(Need to add link to pre-registration)\n",
    "\n",
    "The goal of this experiment is to gather human judgments on the \"interestingness\" and \"stability\" of towers, both generated in curiodrop and TDW"
   ]
  },
  {
   "cell_type": "markdown",
   "metadata": {},
   "source": [
    "### Establish connection to mongo\n",
    "First thing you need to do is to establish an ssh tunnel (aka remote port forwarding) to the server, so that requests to the mongodb can be made \"as if\" the mongodb server is running on your local computer. Run this from the command line before you begin data analysis if you plan to fetch data from mongo:\n",
    "\n",
    "`ssh -fNL 27017:127.0.0.1:27017 USERNAME@cogtoolslab.org`"
   ]
  },
  {
   "cell_type": "markdown",
   "metadata": {},
   "source": [
    "### Load packages"
   ]
  },
  {
   "cell_type": "code",
   "execution_count": 1,
   "metadata": {},
   "outputs": [],
   "source": [
    "import os\n",
    "import sys\n",
    "import urllib, io\n",
    "os.getcwd()\n",
    "sys.path.append(\"..\")\n",
    "sys.path.append(\"../utils\")\n",
    "sys.path.append(\"../analysis/utils\")\n",
    "\n",
    "\n",
    "import numpy as np\n",
    "import scipy.stats as stats\n",
    "import pandas as pd\n",
    "\n",
    "import pymongo as pm\n",
    "from collections import Counter\n",
    "import json\n",
    "import re\n",
    "import ast\n",
    "\n",
    "from PIL import Image, ImageOps, ImageDraw, ImageFont \n",
    "\n",
    "from io import BytesIO\n",
    "import base64\n",
    "\n",
    "import  matplotlib\n",
    "from matplotlib import pylab, mlab, pyplot\n",
    "%matplotlib inline\n",
    "from IPython.core.pylabtools import figsize, getfigs\n",
    "plt = pyplot\n",
    "import matplotlib as mpl\n",
    "mpl.rcParams['pdf.fonttype'] = 42\n",
    "plt.style.use('seaborn-white')\n",
    "\n",
    "import seaborn as sns\n",
    "sns.set_context('talk')\n",
    "sns.set_style('darkgrid')\n",
    "\n",
    "from IPython.display import clear_output\n",
    "\n",
    "import warnings\n",
    "warnings.filterwarnings(\"ignore\", category=DeprecationWarning)\n",
    "warnings.filterwarnings(\"ignore\", message=\"numpy.dtype size changed\")\n",
    "warnings.filterwarnings(\"ignore\", message=\"numpy.ufunc size changed\")\n",
    "\n",
    "# import drawing_utils as drawing\n",
    "# import importlib\n",
    "# import scoring"
   ]
  },
  {
   "cell_type": "markdown",
   "metadata": {},
   "source": [
    "### Set up directory paths to plots and data"
   ]
  },
  {
   "cell_type": "code",
   "execution_count": 2,
   "metadata": {},
   "outputs": [],
   "source": [
    "## directory & file hierarchy\n",
    "proj_dir = os.path.abspath('..')\n",
    "datavol_dir = os.path.join(proj_dir,'data')\n",
    "analysis_dir =  os.path.abspath('.')\n",
    "results_dir = os.path.join(proj_dir,'results')\n",
    "plot_dir = os.path.join(results_dir,'plots')\n",
    "csv_dir = os.path.join(results_dir,'csv')\n",
    "json_dir = os.path.join(results_dir,'json')\n",
    "exp_dir = os.path.abspath(os.path.join(proj_dir,'behavioral_experiments'))\n",
    "png_dir = os.path.abspath(os.path.join(datavol_dir,'png'))\n",
    "\n",
    "## add helpers to python path\n",
    "if os.path.join(proj_dir,'stimuli') not in sys.path:\n",
    "    sys.path.append(os.path.join(proj_dir,'stimuli'))\n",
    "    \n",
    "if not os.path.exists(results_dir):\n",
    "    os.makedirs(results_dir)\n",
    "    \n",
    "if not os.path.exists(plot_dir):\n",
    "    os.makedirs(plot_dir)   \n",
    "    \n",
    "if not os.path.exists(csv_dir):\n",
    "    os.makedirs(csv_dir)       \n",
    "    \n",
    "## add helpers to python path\n",
    "if os.path.join(proj_dir,'utils') not in sys.path:\n",
    "    sys.path.append(os.path.join(proj_dir,'utils'))   \n",
    "\n",
    "def make_dir_if_not_exists(dir_name):   \n",
    "    if not os.path.exists(dir_name):\n",
    "        os.makedirs(dir_name)\n",
    "    return dir_name\n",
    "\n",
    "## create directories that don't already exist        \n",
    "result = [make_dir_if_not_exists(x) for x in [results_dir,plot_dir,csv_dir]]"
   ]
  },
  {
   "cell_type": "code",
   "execution_count": 3,
   "metadata": {},
   "outputs": [],
   "source": [
    "# set vars \n",
    "auth = pd.read_csv(os.path.join(analysis_dir,'auth.txt'), header = None) # this auth.txt file contains the password for the sketchloop user\n",
    "pswd = auth.values[0][0]\n",
    "user = 'sketchloop'\n",
    "host = 'cogtoolslab.org'\n",
    "\n",
    "# have to fix this to be able to analyze from local\n",
    "import pymongo as pm\n",
    "conn = pm.MongoClient('mongodb://sketchloop:' + pswd + '@127.0.0.1')\n"
   ]
  },
  {
   "cell_type": "markdown",
   "metadata": {},
   "source": [
    "#### Connect to database"
   ]
  },
  {
   "cell_type": "code",
   "execution_count": 4,
   "metadata": {},
   "outputs": [
    {
     "name": "stdout",
     "output_type": "stream",
     "text": [
      "Iterations List: ['testing', 'run_1']\n"
     ]
    }
   ],
   "source": [
    "# db = conn['curiotower']\n",
    "#coll = db['tdw-height3Jitter3']\n",
    "#print('Iterations List:', coll.distinct('iterationName'))\n",
    "\n",
    "db = conn['curiotower']\n",
    "coll = db['curiodrop']\n",
    "print('Iterations List:', coll.distinct('iterationName'))\n",
    "\n",
    "iterationName = 'run_1'"
   ]
  },
  {
   "cell_type": "code",
   "execution_count": null,
   "metadata": {},
   "outputs": [],
   "source": [
    "### Print count and example record"
   ]
  },
  {
   "cell_type": "code",
   "execution_count": 5,
   "metadata": {},
   "outputs": [
    {
     "name": "stdout",
     "output_type": "stream",
     "text": [
      "We have 2138 records in mongo.\n"
     ]
    }
   ],
   "source": [
    "# how many records?\n",
    "print('We have {} records in mongo.'.format(coll.estimated_document_count()))\n",
    "\n",
    "survey = coll.find({'iterationName':iterationName, 'eventType':'survey'})\n",
    "df_survey = pd.DataFrame(survey)\n",
    "df_survey.head(1)"
   ]
  },
  {
   "cell_type": "markdown",
   "metadata": {},
   "source": [
    "### Construct tidy dataframe with game data"
   ]
  },
  {
   "cell_type": "code",
   "execution_count": 7,
   "metadata": {},
   "outputs": [
    {
     "name": "stdout",
     "output_type": "stream",
     "text": [
      "unique Prolific IDs: 29\n",
      "(1942, 43)\n"
     ]
    },
    {
     "data": {
      "text/html": [
       "<div>\n",
       "<style scoped>\n",
       "    .dataframe tbody tr th:only-of-type {\n",
       "        vertical-align: middle;\n",
       "    }\n",
       "\n",
       "    .dataframe tbody tr th {\n",
       "        vertical-align: top;\n",
       "    }\n",
       "\n",
       "    .dataframe thead th {\n",
       "        text-align: right;\n",
       "    }\n",
       "</style>\n",
       "<table border=\"1\" class=\"dataframe\">\n",
       "  <thead>\n",
       "    <tr style=\"text-align: right;\">\n",
       "      <th></th>\n",
       "      <th>_id</th>\n",
       "      <th>type</th>\n",
       "      <th>iterationName</th>\n",
       "      <th>condition</th>\n",
       "      <th>prompt</th>\n",
       "      <th>towerID</th>\n",
       "      <th>image_url</th>\n",
       "      <th>stim_version</th>\n",
       "      <th>catch_trial</th>\n",
       "      <th>games</th>\n",
       "      <th>...</th>\n",
       "      <th>trial_index</th>\n",
       "      <th>time_elapsed</th>\n",
       "      <th>internal_node_id</th>\n",
       "      <th>workerId</th>\n",
       "      <th>hitID</th>\n",
       "      <th>aID</th>\n",
       "      <th>eventType</th>\n",
       "      <th>rt</th>\n",
       "      <th>responses</th>\n",
       "      <th>question_order</th>\n",
       "    </tr>\n",
       "  </thead>\n",
       "  <tbody>\n",
       "    <tr>\n",
       "      <th>0</th>\n",
       "      <td>6015abbc8c76cb634b3ef33d</td>\n",
       "      <td>image-button-response</td>\n",
       "      <td>run_1</td>\n",
       "      <td>interesting</td>\n",
       "      <td>How interesting is this?</td>\n",
       "      <td>121319_06</td>\n",
       "      <td>https://curiotower.s3.amazonaws.com/121319_06.png</td>\n",
       "      <td>curiodrop</td>\n",
       "      <td>False</td>\n",
       "      <td>[]</td>\n",
       "      <td>...</td>\n",
       "      <td>1</td>\n",
       "      <td>14802</td>\n",
       "      <td>0.0-1.0</td>\n",
       "      <td>NaN</td>\n",
       "      <td>NaN</td>\n",
       "      <td>NaN</td>\n",
       "      <td>NaN</td>\n",
       "      <td>NaN</td>\n",
       "      <td>NaN</td>\n",
       "      <td>NaN</td>\n",
       "    </tr>\n",
       "    <tr>\n",
       "      <th>1</th>\n",
       "      <td>6015abc18c76cb634b3ef33e</td>\n",
       "      <td>image-button-response</td>\n",
       "      <td>run_1</td>\n",
       "      <td>interesting</td>\n",
       "      <td>How interesting is this?</td>\n",
       "      <td>121319_07</td>\n",
       "      <td>https://curiotower.s3.amazonaws.com/121319_07.png</td>\n",
       "      <td>curiodrop</td>\n",
       "      <td>False</td>\n",
       "      <td>[]</td>\n",
       "      <td>...</td>\n",
       "      <td>2</td>\n",
       "      <td>20041</td>\n",
       "      <td>0.0-2.0</td>\n",
       "      <td>NaN</td>\n",
       "      <td>NaN</td>\n",
       "      <td>NaN</td>\n",
       "      <td>NaN</td>\n",
       "      <td>NaN</td>\n",
       "      <td>NaN</td>\n",
       "      <td>NaN</td>\n",
       "    </tr>\n",
       "  </tbody>\n",
       "</table>\n",
       "<p>2 rows × 43 columns</p>\n",
       "</div>"
      ],
      "text/plain": [
       "                        _id                   type iterationName    condition  \\\n",
       "0  6015abbc8c76cb634b3ef33d  image-button-response         run_1  interesting   \n",
       "1  6015abc18c76cb634b3ef33e  image-button-response         run_1  interesting   \n",
       "\n",
       "                     prompt    towerID  \\\n",
       "0  How interesting is this?  121319_06   \n",
       "1  How interesting is this?  121319_07   \n",
       "\n",
       "                                           image_url stim_version catch_trial  \\\n",
       "0  https://curiotower.s3.amazonaws.com/121319_06.png    curiodrop       False   \n",
       "1  https://curiotower.s3.amazonaws.com/121319_07.png    curiodrop       False   \n",
       "\n",
       "  games  ...  trial_index time_elapsed internal_node_id workerId hitID  aID  \\\n",
       "0    []  ...            1        14802          0.0-1.0      NaN   NaN  NaN   \n",
       "1    []  ...            2        20041          0.0-2.0      NaN   NaN  NaN   \n",
       "\n",
       "  eventType  rt responses question_order  \n",
       "0       NaN NaN       NaN            NaN  \n",
       "1       NaN NaN       NaN            NaN  \n",
       "\n",
       "[2 rows x 43 columns]"
      ]
     },
     "execution_count": 7,
     "metadata": {},
     "output_type": "execute_result"
    }
   ],
   "source": [
    "df = coll.find({\n",
    "            'iterationName':iterationName\n",
    "#             'prolificID': {'$exists' : True},\n",
    "#             'studyID': {'$exists' : True},\n",
    "#             'sessionID': {'$exists' : True},\n",
    "#             'eventType': 'rating-task'\n",
    "})\n",
    "df = pd.DataFrame(df)\n",
    "df['button_pressed'] = pd.to_numeric(df['button_pressed'])\n",
    "print('unique Prolific IDs:', len(df['prolificID'].unique()))\n",
    "print(df.shape)\n",
    "\n",
    "df.head(2)"
   ]
  },
  {
   "cell_type": "markdown",
   "metadata": {},
   "source": [
    "## Or read in most recent data directly from csv"
   ]
  },
  {
   "cell_type": "code",
   "execution_count": 8,
   "metadata": {},
   "outputs": [],
   "source": [
    "#df = pd.read_csv('curiotower_raw_data_{}.csv'.format(iterationName))"
   ]
  },
  {
   "cell_type": "markdown",
   "metadata": {},
   "source": [
    "## Include catch-trial checks:\n",
    "\n",
    "1. Check whether subjects rated the catch trials as stable <3 or interesting >3. \n",
    "2. Check that subjects completed all trials\n",
    "\n",
    "Remove those who fail either catch"
   ]
  },
  {
   "cell_type": "code",
   "execution_count": 9,
   "metadata": {},
   "outputs": [
    {
     "data": {
      "text/plain": [
       "array([None, '5f750da0715498178417079e', '5d1f655b51bab90018162918',\n",
       "       '5fe28987eb5270e97ffca1e8', '5b244233a7cee100011d6924',\n",
       "       '59d585d3d1ab390001da2f35', nan, '5ae230ae8ee5bf00018c89a7',\n",
       "       '5def71cd68885201653393ab', '5b701784798af00001d3c0e6',\n",
       "       '5c2e2ead23477600011a4782', '5d53aae0707297001a5efc0b',\n",
       "       '5849916abb147f0001786ac5', '5a69d77a56585a0001633482',\n",
       "       '5b1bf2e768a5ed000173833c', '5f04bc351fca9b773618505d',\n",
       "       '5e7e069af8a96f493e008ab9', '5eeb6916424ca42d92eac0f9',\n",
       "       '5fcfc5d2efeec61409aa6cf7', '59c558114374e1000125c522',\n",
       "       '5d4c28e28f11b70015ba045f', '5a2d62ae5dba1200014b0362',\n",
       "       '5e8452d8cd38010131ff3ca5', '5f8a2cff75ffa70e8c69e5ca',\n",
       "       '5fd1fe1751a3a223a052b9dc', '5e2e147d047efa000c6b833d',\n",
       "       '5f4fdd11275a74100788dac6', '5f342cc0c5947d2eb10a264a',\n",
       "       '5fe848f115b59b69cf9b06b6'], dtype=object)"
      ]
     },
     "execution_count": 9,
     "metadata": {},
     "output_type": "execute_result"
    }
   ],
   "source": [
    "df.prolificID.unique()"
   ]
  },
  {
   "cell_type": "code",
   "execution_count": 10,
   "metadata": {},
   "outputs": [
    {
     "data": {
      "text/plain": [
       "array([None, '5c2e2ead23477600011a4782'], dtype=object)"
      ]
     },
     "execution_count": 10,
     "metadata": {},
     "output_type": "execute_result"
    }
   ],
   "source": [
    "df_catch = df[df['catch_trial'] == True]\n",
    "\n",
    "#return array of gameIDs that failed catch trials\n",
    "failed_attention_check = df_catch[((df_catch['button_pressed'] <3) & (df_catch['condition'] == 'stable')) |\n",
    "                       ((df_catch['button_pressed'] >1) & (df_catch['condition'] == 'interesting'))]['prolificID'].unique()\n",
    "failed_attention_check"
   ]
  },
  {
   "cell_type": "code",
   "execution_count": 11,
   "metadata": {},
   "outputs": [
    {
     "data": {
      "text/plain": [
       "1     59c558114374e1000125c522\n",
       "10    5d1f655b51bab90018162918\n",
       "Name: prolificID, dtype: object"
      ]
     },
     "execution_count": 11,
     "metadata": {},
     "output_type": "execute_result"
    }
   ],
   "source": [
    "#num_stims = 69\n",
    "num_stims = len(df['towerID'].unique())\n",
    "df = df[df.type == 'image-button-response']\n",
    "df = df[~df['towerID'].str.contains(\"0999\", na=False)]\n",
    "df_response_count = df.groupby(['prolificID'])['button_pressed'].agg(['count']).reset_index()\n",
    "failed_completion_check = df_response_count[df_response_count['count'] <num_stims]['prolificID']\n",
    "failed_completion_check"
   ]
  },
  {
   "cell_type": "code",
   "execution_count": 12,
   "metadata": {},
   "outputs": [
    {
     "name": "stdout",
     "output_type": "stream",
     "text": [
      "We will remove: [None, '5c2e2ead23477600011a4782', '59c558114374e1000125c522', '5d1f655b51bab90018162918']\n",
      "----------------------------------------\n",
      "Our total ID count, after removing catches is: 24\n"
     ]
    }
   ],
   "source": [
    "remove_ID = list(failed_attention_check) + list(failed_completion_check)\n",
    "print('We will remove:' ,remove_ID)\n",
    "print('-'*40)\n",
    "print('Our total ID count, after removing catches is:', len(df[~df.prolificID.isin(remove_ID)]['prolificID'].unique()))"
   ]
  },
  {
   "cell_type": "code",
   "execution_count": 13,
   "metadata": {},
   "outputs": [],
   "source": [
    "#run to get all successful completions\n",
    "#df[~df.prolificID.isin(remove_ID)]['prolificID'].unique()"
   ]
  },
  {
   "cell_type": "code",
   "execution_count": 14,
   "metadata": {},
   "outputs": [
    {
     "name": "stdout",
     "output_type": "stream",
     "text": [
      "(1656, 43)\n"
     ]
    },
    {
     "data": {
      "text/html": [
       "<div>\n",
       "<style scoped>\n",
       "    .dataframe tbody tr th:only-of-type {\n",
       "        vertical-align: middle;\n",
       "    }\n",
       "\n",
       "    .dataframe tbody tr th {\n",
       "        vertical-align: top;\n",
       "    }\n",
       "\n",
       "    .dataframe thead th {\n",
       "        text-align: right;\n",
       "    }\n",
       "</style>\n",
       "<table border=\"1\" class=\"dataframe\">\n",
       "  <thead>\n",
       "    <tr style=\"text-align: right;\">\n",
       "      <th></th>\n",
       "      <th>_id</th>\n",
       "      <th>type</th>\n",
       "      <th>iterationName</th>\n",
       "      <th>condition</th>\n",
       "      <th>prompt</th>\n",
       "      <th>towerID</th>\n",
       "      <th>image_url</th>\n",
       "      <th>stim_version</th>\n",
       "      <th>catch_trial</th>\n",
       "      <th>games</th>\n",
       "      <th>...</th>\n",
       "      <th>trial_index</th>\n",
       "      <th>time_elapsed</th>\n",
       "      <th>internal_node_id</th>\n",
       "      <th>workerId</th>\n",
       "      <th>hitID</th>\n",
       "      <th>aID</th>\n",
       "      <th>eventType</th>\n",
       "      <th>rt</th>\n",
       "      <th>responses</th>\n",
       "      <th>question_order</th>\n",
       "    </tr>\n",
       "  </thead>\n",
       "  <tbody>\n",
       "    <tr>\n",
       "      <th>4</th>\n",
       "      <td>6015afff3316296bbf016db5</td>\n",
       "      <td>image-button-response</td>\n",
       "      <td>run_1</td>\n",
       "      <td>interesting</td>\n",
       "      <td>How interesting is this?</td>\n",
       "      <td>121119_04</td>\n",
       "      <td>https://curiotower.s3.amazonaws.com/121119_04.png</td>\n",
       "      <td>curiodrop</td>\n",
       "      <td>False</td>\n",
       "      <td>[]</td>\n",
       "      <td>...</td>\n",
       "      <td>1</td>\n",
       "      <td>53222</td>\n",
       "      <td>0.0-1.0</td>\n",
       "      <td>NaN</td>\n",
       "      <td>NaN</td>\n",
       "      <td>NaN</td>\n",
       "      <td>NaN</td>\n",
       "      <td>NaN</td>\n",
       "      <td>NaN</td>\n",
       "      <td>NaN</td>\n",
       "    </tr>\n",
       "    <tr>\n",
       "      <th>5</th>\n",
       "      <td>6015b0123316296bbf016db6</td>\n",
       "      <td>image-button-response</td>\n",
       "      <td>run_1</td>\n",
       "      <td>interesting</td>\n",
       "      <td>How interesting is this?</td>\n",
       "      <td>121119_12</td>\n",
       "      <td>https://curiotower.s3.amazonaws.com/121119_12.png</td>\n",
       "      <td>curiodrop</td>\n",
       "      <td>False</td>\n",
       "      <td>[]</td>\n",
       "      <td>...</td>\n",
       "      <td>2</td>\n",
       "      <td>71358</td>\n",
       "      <td>0.0-2.0</td>\n",
       "      <td>NaN</td>\n",
       "      <td>NaN</td>\n",
       "      <td>NaN</td>\n",
       "      <td>NaN</td>\n",
       "      <td>NaN</td>\n",
       "      <td>NaN</td>\n",
       "      <td>NaN</td>\n",
       "    </tr>\n",
       "  </tbody>\n",
       "</table>\n",
       "<p>2 rows × 43 columns</p>\n",
       "</div>"
      ],
      "text/plain": [
       "                        _id                   type iterationName    condition  \\\n",
       "4  6015afff3316296bbf016db5  image-button-response         run_1  interesting   \n",
       "5  6015b0123316296bbf016db6  image-button-response         run_1  interesting   \n",
       "\n",
       "                     prompt    towerID  \\\n",
       "4  How interesting is this?  121119_04   \n",
       "5  How interesting is this?  121119_12   \n",
       "\n",
       "                                           image_url stim_version catch_trial  \\\n",
       "4  https://curiotower.s3.amazonaws.com/121119_04.png    curiodrop       False   \n",
       "5  https://curiotower.s3.amazonaws.com/121119_12.png    curiodrop       False   \n",
       "\n",
       "  games  ...  trial_index time_elapsed internal_node_id workerId hitID  aID  \\\n",
       "4    []  ...            1        53222          0.0-1.0      NaN   NaN  NaN   \n",
       "5    []  ...            2        71358          0.0-2.0      NaN   NaN  NaN   \n",
       "\n",
       "  eventType  rt responses question_order  \n",
       "4       NaN NaN       NaN            NaN  \n",
       "5       NaN NaN       NaN            NaN  \n",
       "\n",
       "[2 rows x 43 columns]"
      ]
     },
     "execution_count": 14,
     "metadata": {},
     "output_type": "execute_result"
    }
   ],
   "source": [
    "#Remove failed IDs from dataset\n",
    "df = df[~df.prolificID.isin(remove_ID)]\n",
    "#Remove catch trials from dataset\n",
    "df = df[df['catch_trial'] == False]\n",
    "#Only keep button responses\n",
    "df = df[df.type == 'image-button-response']\n",
    "\n",
    "df.to_csv('curiotower_cooltower_raw_data_{}.csv'.format(iterationName))\n",
    "print(df.shape)\n",
    "df.head(2)"
   ]
  },
  {
   "cell_type": "code",
   "execution_count": 15,
   "metadata": {},
   "outputs": [],
   "source": [
    "#df = pd.read_csv('curiotower_raw_data_run_0.csv')"
   ]
  },
  {
   "cell_type": "markdown",
   "metadata": {},
   "source": [
    " ### Create df of tower_level ratings"
   ]
  },
  {
   "cell_type": "code",
   "execution_count": 16,
   "metadata": {},
   "outputs": [
    {
     "data": {
      "text/html": [
       "<div>\n",
       "<style scoped>\n",
       "    .dataframe tbody tr th:only-of-type {\n",
       "        vertical-align: middle;\n",
       "    }\n",
       "\n",
       "    .dataframe tbody tr th {\n",
       "        vertical-align: top;\n",
       "    }\n",
       "\n",
       "    .dataframe thead th {\n",
       "        text-align: right;\n",
       "    }\n",
       "</style>\n",
       "<table border=\"1\" class=\"dataframe\">\n",
       "  <thead>\n",
       "    <tr style=\"text-align: right;\">\n",
       "      <th></th>\n",
       "      <th>towerID</th>\n",
       "      <th>condition</th>\n",
       "      <th>mean</th>\n",
       "      <th>std</th>\n",
       "      <th>size</th>\n",
       "    </tr>\n",
       "  </thead>\n",
       "  <tbody>\n",
       "    <tr>\n",
       "      <th>40</th>\n",
       "      <td>121619_08b</td>\n",
       "      <td>interesting</td>\n",
       "      <td>3.083333</td>\n",
       "      <td>0.974308</td>\n",
       "      <td>24</td>\n",
       "    </tr>\n",
       "    <tr>\n",
       "      <th>23</th>\n",
       "      <td>121319_03</td>\n",
       "      <td>interesting</td>\n",
       "      <td>3.041667</td>\n",
       "      <td>0.858673</td>\n",
       "      <td>24</td>\n",
       "    </tr>\n",
       "    <tr>\n",
       "      <th>39</th>\n",
       "      <td>121619_08-help</td>\n",
       "      <td>interesting</td>\n",
       "      <td>2.916667</td>\n",
       "      <td>1.017955</td>\n",
       "      <td>24</td>\n",
       "    </tr>\n",
       "    <tr>\n",
       "      <th>10</th>\n",
       "      <td>121119_09</td>\n",
       "      <td>interesting</td>\n",
       "      <td>2.791667</td>\n",
       "      <td>0.832971</td>\n",
       "      <td>24</td>\n",
       "    </tr>\n",
       "    <tr>\n",
       "      <th>63</th>\n",
       "      <td>121819_07</td>\n",
       "      <td>interesting</td>\n",
       "      <td>2.791667</td>\n",
       "      <td>0.931533</td>\n",
       "      <td>24</td>\n",
       "    </tr>\n",
       "    <tr>\n",
       "      <th>...</th>\n",
       "      <td>...</td>\n",
       "      <td>...</td>\n",
       "      <td>...</td>\n",
       "      <td>...</td>\n",
       "      <td>...</td>\n",
       "    </tr>\n",
       "    <tr>\n",
       "      <th>66</th>\n",
       "      <td>121919_01b</td>\n",
       "      <td>interesting</td>\n",
       "      <td>0.791667</td>\n",
       "      <td>0.658005</td>\n",
       "      <td>24</td>\n",
       "    </tr>\n",
       "    <tr>\n",
       "      <th>29</th>\n",
       "      <td>121619_02</td>\n",
       "      <td>interesting</td>\n",
       "      <td>0.541667</td>\n",
       "      <td>0.832971</td>\n",
       "      <td>24</td>\n",
       "    </tr>\n",
       "    <tr>\n",
       "      <th>64</th>\n",
       "      <td>121819_08</td>\n",
       "      <td>interesting</td>\n",
       "      <td>0.458333</td>\n",
       "      <td>0.508977</td>\n",
       "      <td>24</td>\n",
       "    </tr>\n",
       "    <tr>\n",
       "      <th>25</th>\n",
       "      <td>121319_05</td>\n",
       "      <td>interesting</td>\n",
       "      <td>0.375000</td>\n",
       "      <td>0.769670</td>\n",
       "      <td>24</td>\n",
       "    </tr>\n",
       "    <tr>\n",
       "      <th>6</th>\n",
       "      <td>121119_06</td>\n",
       "      <td>interesting</td>\n",
       "      <td>0.375000</td>\n",
       "      <td>0.710939</td>\n",
       "      <td>24</td>\n",
       "    </tr>\n",
       "  </tbody>\n",
       "</table>\n",
       "<p>69 rows × 5 columns</p>\n",
       "</div>"
      ],
      "text/plain": [
       "           towerID    condition      mean       std  size\n",
       "40      121619_08b  interesting  3.083333  0.974308    24\n",
       "23       121319_03  interesting  3.041667  0.858673    24\n",
       "39  121619_08-help  interesting  2.916667  1.017955    24\n",
       "10       121119_09  interesting  2.791667  0.832971    24\n",
       "63       121819_07  interesting  2.791667  0.931533    24\n",
       "..             ...          ...       ...       ...   ...\n",
       "66      121919_01b  interesting  0.791667  0.658005    24\n",
       "29       121619_02  interesting  0.541667  0.832971    24\n",
       "64       121819_08  interesting  0.458333  0.508977    24\n",
       "25       121319_05  interesting  0.375000  0.769670    24\n",
       "6        121119_06  interesting  0.375000  0.710939    24\n",
       "\n",
       "[69 rows x 5 columns]"
      ]
     },
     "execution_count": 16,
     "metadata": {},
     "output_type": "execute_result"
    }
   ],
   "source": [
    "df_tower = df.groupby(['towerID', 'condition'])['button_pressed'].agg(['mean', 'std', 'size']).reset_index()\n",
    "#df_tower_var = df.groupby(['towerID', 'condition'])['button_pressed'].std().reset_index()\n",
    "#df_tower_count = df.groupby(['towerID', 'condition'])['button_pressed'].count().reset_index()\n",
    "#df_tower['sd'] = df_tower_var['button_pressed']\n",
    "#df_tower['count'] = df_tower_count['button_pressed']\n",
    "# df_tower['mean'] = df_tower['button_pressed']\n",
    "#df_tower = df_tower.drop(['button_pressed'], axis = 1)\n",
    "df_tower.sort_values(by = 'mean', ascending = False)"
   ]
  },
  {
   "cell_type": "code",
   "execution_count": 17,
   "metadata": {},
   "outputs": [
    {
     "data": {
      "text/plain": [
       "condition\n",
       "interesting    0.919448\n",
       "Name: std, dtype: float64"
      ]
     },
     "execution_count": 17,
     "metadata": {},
     "output_type": "execute_result"
    }
   ],
   "source": [
    "df_tower.groupby(['condition'])['std'].mean()"
   ]
  }
 ],
 "metadata": {
  "kernelspec": {
   "display_name": "Python 3",
   "language": "python",
   "name": "python3"
  },
  "language_info": {
   "codemirror_mode": {
    "name": "ipython",
    "version": 3
   },
   "file_extension": ".py",
   "mimetype": "text/x-python",
   "name": "python",
   "nbconvert_exporter": "python",
   "pygments_lexer": "ipython3",
   "version": "3.7.6"
  }
 },
 "nbformat": 4,
 "nbformat_minor": 2
}
