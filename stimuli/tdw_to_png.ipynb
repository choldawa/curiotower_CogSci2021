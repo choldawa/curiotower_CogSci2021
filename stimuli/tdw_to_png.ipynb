{
 "cells": [
  {
   "cell_type": "markdown",
   "metadata": {},
   "source": [
    "# Convert stimuli generated in TDW to png then upload to s3\n",
    "1. The first part of this notbeook converts hdf5 files generated in tdw into png files with the appropriate labels in the format: study_condition_stability_numBlocks_index.png (e.g. curiotower_varyhorizontal_unstable_8_0001.png)\n",
    "2. The second part has some helpful analysis and can be used to visualize towers in the hdf5 format"
   ]
  },
  {
   "cell_type": "code",
   "execution_count": 1,
   "metadata": {},
   "outputs": [],
   "source": [
    "#!pip install h5py\n",
    "import warnings\n",
    "import os\n",
    "import h5py\n",
    "import numpy as np\n",
    "from PIL import Image \n",
    "import io\n",
    "warnings.filterwarnings('ignore')\n"
   ]
  },
  {
   "cell_type": "markdown",
   "metadata": {},
   "source": [
    "# 1. Function to convert hdf5 into png with new name\n",
    "Takes a stimulus condition (varyHorizontal,varyScale, or varyNumber) and converts the first frame to a png with information on stability and num blocks"
   ]
  },
  {
   "cell_type": "code",
   "execution_count": 5,
   "metadata": {},
   "outputs": [],
   "source": [
    "#condition = 'varyScale' \n",
    "#condition = 'varyHorizontal'\n",
    "condition = 'varyNumber'\n",
    "\n",
    "TDW_DIR = \"../../tdw_physics/controllers/D:/{}/\".format(condition)\n",
    "PNG_DIR = \"./tdw_png/\"\n",
    "\n",
    "\n",
    "idx = 0\n",
    "for file in os.listdir(TDW_DIR):\n",
    "    stability = \"unstable\" \n",
    "    if file.endswith('.hdf5'):\n",
    "        f = h5py.File(os.path.join(TDW_DIR, file))\n",
    "        frames = f['frames']\n",
    "        frame = frames[\"%04d\" % (0)]\n",
    "        #Get block count\n",
    "        numBlocks = str(len(frame['objects']['positions']))\n",
    "        #Get index count\n",
    "        index = str(idx).zfill(4)\n",
    "        #Get stability\n",
    "        if (((frames[\"%04d\" % (0)]['objects']['positions'][-1][1])- \n",
    "             (frames[\"%04d\" % (len(frames)-1)]['objects']['positions'][-1][1]))<0.2):\n",
    "            stability = 'stable'\n",
    "        img = frame['images']\n",
    "        _img = Image.open(io.BytesIO(img[\"_img\"][:]))\n",
    "        new_filename = 'curiotower_' + condition + \"_\" + stability + \"_\" + numBlocks + \"_\" + index + \".png\"\n",
    "        _img.save(PNG_DIR+new_filename)\n",
    "        #RENAME HDF5 WITH SAME INDEX\n",
    "        os.rename(TDW_DIR+file, TDW_DIR+'curiotower_' + condition + \"_\" + stability + \"_\" + numBlocks + \"_\" + index + \".hdf5\")\n",
    "        idx+=1"
   ]
  },
  {
   "cell_type": "markdown",
   "metadata": {},
   "source": [
    "# 2. Some helpful functions to analyze and visualize hdf5 files"
   ]
  },
  {
   "cell_type": "markdown",
   "metadata": {},
   "source": [
    "### Visualize first, middle, and last frame of hdf5 file"
   ]
  },
  {
   "cell_type": "code",
   "execution_count": 3,
   "metadata": {},
   "outputs": [
    {
     "name": "stdout",
     "output_type": "stream",
     "text": [
      "top keys []\n"
     ]
    },
    {
     "ename": "KeyError",
     "evalue": "\"Unable to open object (object 'frames' doesn't exist)\"",
     "output_type": "error",
     "traceback": [
      "\u001b[0;31m---------------------------------------------------------------------------\u001b[0m",
      "\u001b[0;31mKeyError\u001b[0m                                  Traceback (most recent call last)",
      "\u001b[0;32m<ipython-input-3-1d53cbf953f7>\u001b[0m in \u001b[0;36m<module>\u001b[0;34m\u001b[0m\n\u001b[1;32m     10\u001b[0m \u001b[0;31m# print the data structure\u001b[0m\u001b[0;34m\u001b[0m\u001b[0;34m\u001b[0m\u001b[0;34m\u001b[0m\u001b[0m\n\u001b[1;32m     11\u001b[0m \u001b[0mprint\u001b[0m\u001b[0;34m(\u001b[0m\u001b[0;34m\"top keys\"\u001b[0m\u001b[0;34m,\u001b[0m \u001b[0;34m[\u001b[0m\u001b[0mk\u001b[0m \u001b[0;32mfor\u001b[0m \u001b[0mk\u001b[0m \u001b[0;32min\u001b[0m \u001b[0mf\u001b[0m\u001b[0;34m.\u001b[0m\u001b[0mkeys\u001b[0m\u001b[0;34m(\u001b[0m\u001b[0;34m)\u001b[0m\u001b[0;34m]\u001b[0m\u001b[0;34m)\u001b[0m\u001b[0;34m\u001b[0m\u001b[0;34m\u001b[0m\u001b[0m\n\u001b[0;32m---> 12\u001b[0;31m \u001b[0mframes\u001b[0m \u001b[0;34m=\u001b[0m \u001b[0mf\u001b[0m\u001b[0;34m[\u001b[0m\u001b[0;34m'frames'\u001b[0m\u001b[0;34m]\u001b[0m\u001b[0;34m\u001b[0m\u001b[0;34m\u001b[0m\u001b[0m\n\u001b[0m\u001b[1;32m     13\u001b[0m \u001b[0mn_frames\u001b[0m \u001b[0;34m=\u001b[0m \u001b[0mlen\u001b[0m\u001b[0;34m(\u001b[0m\u001b[0;34m[\u001b[0m\u001b[0mk\u001b[0m \u001b[0;32mfor\u001b[0m \u001b[0mk\u001b[0m \u001b[0;32min\u001b[0m \u001b[0mframes\u001b[0m\u001b[0;34m.\u001b[0m\u001b[0mkeys\u001b[0m\u001b[0;34m(\u001b[0m\u001b[0;34m)\u001b[0m\u001b[0;34m]\u001b[0m\u001b[0;34m)\u001b[0m\u001b[0;34m\u001b[0m\u001b[0;34m\u001b[0m\u001b[0m\n\u001b[1;32m     14\u001b[0m \u001b[0mprint\u001b[0m\u001b[0;34m(\u001b[0m\u001b[0;34m\"num frames: {}\"\u001b[0m\u001b[0;34m.\u001b[0m\u001b[0mformat\u001b[0m\u001b[0;34m(\u001b[0m\u001b[0mn_frames\u001b[0m\u001b[0;34m)\u001b[0m\u001b[0;34m)\u001b[0m\u001b[0;34m\u001b[0m\u001b[0;34m\u001b[0m\u001b[0m\n",
      "\u001b[0;32mh5py/_objects.pyx\u001b[0m in \u001b[0;36mh5py._objects.with_phil.wrapper\u001b[0;34m()\u001b[0m\n",
      "\u001b[0;32mh5py/_objects.pyx\u001b[0m in \u001b[0;36mh5py._objects.with_phil.wrapper\u001b[0;34m()\u001b[0m\n",
      "\u001b[0;32m~/opt/anaconda3/lib/python3.7/site-packages/h5py/_hl/group.py\u001b[0m in \u001b[0;36m__getitem__\u001b[0;34m(self, name)\u001b[0m\n\u001b[1;32m    262\u001b[0m                 \u001b[0;32mraise\u001b[0m \u001b[0mValueError\u001b[0m\u001b[0;34m(\u001b[0m\u001b[0;34m\"Invalid HDF5 object reference\"\u001b[0m\u001b[0;34m)\u001b[0m\u001b[0;34m\u001b[0m\u001b[0;34m\u001b[0m\u001b[0m\n\u001b[1;32m    263\u001b[0m         \u001b[0;32melse\u001b[0m\u001b[0;34m:\u001b[0m\u001b[0;34m\u001b[0m\u001b[0;34m\u001b[0m\u001b[0m\n\u001b[0;32m--> 264\u001b[0;31m             \u001b[0moid\u001b[0m \u001b[0;34m=\u001b[0m \u001b[0mh5o\u001b[0m\u001b[0;34m.\u001b[0m\u001b[0mopen\u001b[0m\u001b[0;34m(\u001b[0m\u001b[0mself\u001b[0m\u001b[0;34m.\u001b[0m\u001b[0mid\u001b[0m\u001b[0;34m,\u001b[0m \u001b[0mself\u001b[0m\u001b[0;34m.\u001b[0m\u001b[0m_e\u001b[0m\u001b[0;34m(\u001b[0m\u001b[0mname\u001b[0m\u001b[0;34m)\u001b[0m\u001b[0;34m,\u001b[0m \u001b[0mlapl\u001b[0m\u001b[0;34m=\u001b[0m\u001b[0mself\u001b[0m\u001b[0;34m.\u001b[0m\u001b[0m_lapl\u001b[0m\u001b[0;34m)\u001b[0m\u001b[0;34m\u001b[0m\u001b[0;34m\u001b[0m\u001b[0m\n\u001b[0m\u001b[1;32m    265\u001b[0m \u001b[0;34m\u001b[0m\u001b[0m\n\u001b[1;32m    266\u001b[0m         \u001b[0motype\u001b[0m \u001b[0;34m=\u001b[0m \u001b[0mh5i\u001b[0m\u001b[0;34m.\u001b[0m\u001b[0mget_type\u001b[0m\u001b[0;34m(\u001b[0m\u001b[0moid\u001b[0m\u001b[0;34m)\u001b[0m\u001b[0;34m\u001b[0m\u001b[0;34m\u001b[0m\u001b[0m\n",
      "\u001b[0;32mh5py/_objects.pyx\u001b[0m in \u001b[0;36mh5py._objects.with_phil.wrapper\u001b[0;34m()\u001b[0m\n",
      "\u001b[0;32mh5py/_objects.pyx\u001b[0m in \u001b[0;36mh5py._objects.with_phil.wrapper\u001b[0;34m()\u001b[0m\n",
      "\u001b[0;32mh5py/h5o.pyx\u001b[0m in \u001b[0;36mh5py.h5o.open\u001b[0;34m()\u001b[0m\n",
      "\u001b[0;31mKeyError\u001b[0m: \"Unable to open object (object 'frames' doesn't exist)\""
     ]
    }
   ],
   "source": [
    "# #condition = 'varyScale' \n",
    "# #condition = 'varyHorizontal'\n",
    "# condition = 'varyNumber'\n",
    "\n",
    "# TDW_DIR = \"../../tdw_physics/controllers/D:/{}/\".format(condition)\n",
    "TDW_DIR = \"../../tdw_physics/controllers/D:/stability/\"\n",
    "FILE = \"0003.hdf5\"\n",
    "\n",
    "f = h5py.File(os.path.join(TDW_DIR, FILE))\n",
    "# print the data structure\n",
    "print(\"top keys\", [k for k in f.keys()])\n",
    "frames = f['frames']\n",
    "n_frames = len([k for k in frames.keys()])\n",
    "print(\"num frames: {}\".format(n_frames))\n",
    "#view_frame = np.minimum(view_frame, n_frames - 1)\n",
    "for view_frame in [0, 40, len(frames)-1]:\n",
    "    frame = frames[\"%04d\" % (view_frame)]\n",
    "    img = frame['images']\n",
    "    _img = Image.open(io.BytesIO(img[\"_img\"][:]))\n",
    "    display(_img)"
   ]
  },
  {
   "cell_type": "markdown",
   "metadata": {},
   "source": [
    "## Function to classify stable, precarious, and unstable towers\n",
    "- we define \"unstable\" as any tower that falls over (large delta in y-axis height from first to last frame)\n",
    "- \"precarious\" towers are those that remain standing, but have an x-axis delta greater than the scale_factor/3\n",
    "- \"stable\" towers are those that remain standing with x-axis delta smaller than scale_factor/3"
   ]
  },
  {
   "cell_type": "markdown",
   "metadata": {},
   "source": [
    "## Calculate tower height\n",
    "- is this on some meaningful absolute scale?\n",
    "- how to account for viewing angle, etc..."
   ]
  },
  {
   "cell_type": "code",
   "execution_count": 2,
   "metadata": {},
   "outputs": [
    {
     "name": "stdout",
     "output_type": "stream",
     "text": [
      "[]\n"
     ]
    }
   ],
   "source": [
    "TDW_DIR = \"../../tdw_physics/controllers/D:/stability/\"\n",
    "#loop through generated hdf5 files\n",
    "tower_heights = []\n",
    "for file in os.listdir(TDW_DIR):\n",
    "    if file.endswith('.hdf5'):\n",
    "        f = h5py.File(os.path.join(TDW_DIR, file))\n",
    "        frames = f['frames']\n",
    "        #get height of tallest block (last placed) in first frame\n",
    "        tower_heights.append(frames[\"%04d\" % (0)]['objects']['positions'][-1][1])\n",
    "        \n",
    "        \n",
    "print(tower_heights)"
   ]
  },
  {
   "cell_type": "code",
   "execution_count": 9,
   "metadata": {},
   "outputs": [],
   "source": [
    "#To calculate precarious, get max difference in x-axis\n",
    "def get_x_diff(num_objects = 1):\n",
    "    min_x = 100\n",
    "    max_x = -100\n",
    "    for i in range(num_objects):\n",
    "        min_x = min(frames[\"%04d\" % (0)]['objects']['positions'][i][0], min_x)\n",
    "        max_x = max(frames[\"%04d\" % (0)]['objects']['positions'][i][0], max_x)\n",
    "    return(max_x - min_x)"
   ]
  },
  {
   "cell_type": "code",
   "execution_count": null,
   "metadata": {},
   "outputs": [],
   "source": [
    "#Stable if it does not fall over\n",
    "#Precarious if max x-axis jitter is >1/4 scale\n",
    "#unstable if falls over"
   ]
  },
  {
   "cell_type": "markdown",
   "metadata": {},
   "source": [
    "## Hdf5 hierarchy"
   ]
  },
  {
   "cell_type": "code",
   "execution_count": 12,
   "metadata": {},
   "outputs": [],
   "source": [
    "# static/    # Data that doesn't change per frame.\n",
    "# ....object_ids\n",
    "# ....mass\n",
    "# ....static_friction\n",
    "# ....dynamic_friction\n",
    "# ....bounciness\n",
    "# frames/    # Per-frame data.\n",
    "# ....0000/    # The frame number.\n",
    "# ........images/    # Each image pass.\n",
    "# ............_img\n",
    "# ............_id\n",
    "# ............_depth\n",
    "# ............_normals\n",
    "# ............_flow\n",
    "# ........objects/    # Per-object data.\n",
    "# ............positions\n",
    "# ............forwards\n",
    "# ............rotations\n",
    "# ............velocities\n",
    "# ............angular_velocities\n",
    "# ........collisions/    # Collisions between two objects.\n",
    "# ............object_ids\n",
    "# ............relative_velocities\n",
    "# ............contacts\n",
    "# ........env_collisions/    # Collisions between one object and the environment.\n",
    "# ............object_ids\n",
    "# ............contacts\n",
    "# ........camera_matrices/\n",
    "# .\\...........projection_matrix\n",
    "# ............camera_matrix\n",
    "# ....0001/\n",
    "# ........ (etc.)"
   ]
  },
  {
   "cell_type": "markdown",
   "metadata": {},
   "source": [
    "## Inspect Elements of hdf5"
   ]
  },
  {
   "cell_type": "code",
   "execution_count": 27,
   "metadata": {},
   "outputs": [
    {
     "name": "stdout",
     "output_type": "stream",
     "text": [
      "top keys ['frames', 'static']\n"
     ]
    },
    {
     "data": {
      "text/plain": [
       "<KeysViewHDF5 ['camera_matrices', 'collisions', 'env_collisions', 'images', 'objects']>"
      ]
     },
     "execution_count": 27,
     "metadata": {},
     "output_type": "execute_result"
    }
   ],
   "source": [
    "FILE = \"0001.hdf5\"\n",
    "\n",
    "f = h5py.File(os.path.join(TDW_DIR, FILE))\n",
    "# print the data structure\n",
    "print(\"top keys\", [k for k in f.keys()])\n",
    "frames = f['frames']\n",
    "\n",
    "view_frame =1\n",
    "frame = frames[\"%04d\" % (view_frame)]\n",
    "frame.keys()"
   ]
  },
  {
   "cell_type": "code",
   "execution_count": 14,
   "metadata": {},
   "outputs": [
    {
     "name": "stdout",
     "output_type": "stream",
     "text": [
      "<HDF5 dataset \"angular_velocities\": shape (8, 3), type \"<f4\">\n",
      "<HDF5 dataset \"forwards\": shape (8, 3), type \"<f4\">\n",
      "<HDF5 dataset \"positions\": shape (8, 3), type \"<f4\">\n",
      "<HDF5 dataset \"rotations\": shape (8, 4), type \"<f4\">\n",
      "<HDF5 dataset \"velocities\": shape (8, 3), type \"<f4\">\n"
     ]
    }
   ],
   "source": [
    "obj = frame['objects']\n",
    "for key in obj.keys():\n",
    "        print(obj[key])"
   ]
  },
  {
   "cell_type": "markdown",
   "metadata": {},
   "source": [
    "## Calculate stability"
   ]
  },
  {
   "cell_type": "code",
   "execution_count": 43,
   "metadata": {},
   "outputs": [
    {
     "name": "stdout",
     "output_type": "stream",
     "text": [
      "top keys ['frames', 'static']\n",
      "Num objects: 8\n",
      "[ 7.1621157e-02  5.2154064e-07 -2.9947127e-03]\n",
      "[0.03600192 0.22975333 0.00211591]\n",
      "[-0.09174058  0.45969936  0.00163137]\n",
      "[-0.00544818  0.6895851   0.01487954]\n",
      "[0.04414408 0.9195708  0.00640471]\n",
      "[-0.08474839  1.1494607  -0.01967816]\n",
      "[ 0.00775537  1.3794758  -0.00299694]\n",
      "[0.10478558 1.6094614  0.01069383]\n"
     ]
    },
    {
     "data": {
      "text/plain": [
       "0.19652615"
      ]
     },
     "execution_count": 43,
     "metadata": {},
     "output_type": "execute_result"
    }
   ],
   "source": [
    "FILE = \"0005.hdf5\"\n",
    "\n",
    "f = h5py.File(os.path.join(TDW_DIR, FILE))\n",
    "# print the data structure\n",
    "print(\"top keys\", [k for k in f.keys()])\n",
    "frames = f['frames']\n",
    "\n",
    "view_frame =0\n",
    "\n",
    "frame = frames[\"%04d\" % (view_frame)]\n",
    "obj = frame['objects']\n",
    "print(\"Num objects:\", len(obj['positions']))\n",
    "for pos in obj['positions']:\n",
    "    print(pos)\n",
    "get_x_diff(len(obj['positions']))"
   ]
  },
  {
   "cell_type": "code",
   "execution_count": 17,
   "metadata": {},
   "outputs": [],
   "source": [
    "#To calculate precarious, get max difference in x-axis\n",
    "def get_x_diff(num_objects = len(obj['positions'])):\n",
    "    min_x = 100\n",
    "    max_x = -100\n",
    "    for i in range(num_objects):\n",
    "        min_x = min(frames[\"%04d\" % (0)]['objects']['positions'][i][0], min_x)\n",
    "        max_x = max(frames[\"%04d\" % (0)]['objects']['positions'][i][0], max_x)\n",
    "    return(max_x - min_x)"
   ]
  },
  {
   "cell_type": "code",
   "execution_count": 49,
   "metadata": {},
   "outputs": [
    {
     "name": "stdout",
     "output_type": "stream",
     "text": [
      "Stable: 13 | Precarious: 0 | Unstable: 7\n",
      "{'0000.hdf5': 0.05313666, '0017.hdf5': 0.08293782, '0001.hdf5': 0.03446407, '0006.hdf5': 0.080784045, '0007.hdf5': 0.06164322, '0012.hdf5': 0.007347323, '0004.hdf5': 0.00967929, '0008.hdf5': 0.019052664, '0009.hdf5': 0.075513095, '0005.hdf5': 0.034038514, '0013.hdf5': 0.10254289, '0002.hdf5': 0.00050380453, '0019.hdf5': 0.035791665}\n"
     ]
    }
   ],
   "source": [
    "TDW_DIR = \"./controllers/D:/stability/\"\n",
    "STABLE_DIR = \"./controllers/D:/stable/\"\n",
    "\n",
    "scale_factor = 0.23\n",
    "\n",
    "stable_towers = {}\n",
    "precarious_towers = {}\n",
    "unstable_towers = {}\n",
    "\n",
    "#loop through generated hdf5 files\n",
    "for file in os.listdir(TDW_DIR):\n",
    "    if file.endswith('.hdf5'):\n",
    "        f = h5py.File(os.path.join(TDW_DIR, file))\n",
    "        frames = f['frames']\n",
    "        \n",
    "        frame = frames[\"%04d\" % (0)]\n",
    "        obj = frame['objects']\n",
    "        #check if top block has moved down by more than one block length\n",
    "        if (((frames[\"%04d\" % (0)]['objects']['positions'][-1][1])- \n",
    "             (frames[\"%04d\" % (len(frames)-1)]['objects']['positions'][-1][1]))<0.2):\n",
    "            if(get_x_diff(len(obj['positions'])) > scale_factor/2):\n",
    "                precarious_towers[file] = get_x_diff(len(obj['positions']))\n",
    "            else:\n",
    "                stable_towers[file] = get_x_diff(len(obj['positions']))\n",
    "        else:\n",
    "            unstable_towers[file] = get_x_diff(len(obj['positions']))\n",
    "            #os.rename(\"./controllers/D:/stability/{}\".format(file), \"./controllers/D:/stable/{}\".format(file))\n",
    "print(\"Stable:\", len(stable_towers), \"| Precarious:\", len(precarious_towers), \"| Unstable:\", len(unstable_towers))\n",
    "print(stable_towers)                                              "
   ]
  }
 ],
 "metadata": {
  "kernelspec": {
   "display_name": "Python 3",
   "language": "python",
   "name": "python3"
  },
  "language_info": {
   "codemirror_mode": {
    "name": "ipython",
    "version": 3
   },
   "file_extension": ".py",
   "mimetype": "text/x-python",
   "name": "python",
   "nbconvert_exporter": "python",
   "pygments_lexer": "ipython3",
   "version": "3.7.6"
  }
 },
 "nbformat": 4,
 "nbformat_minor": 4
}
