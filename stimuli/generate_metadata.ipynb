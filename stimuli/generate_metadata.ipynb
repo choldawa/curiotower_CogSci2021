{
 "cells": [
  {
   "cell_type": "markdown",
   "metadata": {},
   "source": [
    "### What this notebook does\n",
    "**Step 1:** Create metadata file, containing a bunch of JSON-formatted trial metadata objects\n",
    "\n",
    "**Step 2:**  Insert each trial as a record into a mongo database"
   ]
  },
  {
   "cell_type": "code",
   "execution_count": 1,
   "metadata": {},
   "outputs": [],
   "source": [
    "import os\n",
    "import numpy as np\n",
    "from PIL import Image\n",
    "import pandas as pd\n",
    "import json\n",
    "import pymongo as pm\n",
    "from glob import glob\n",
    "from IPython.display import clear_output"
   ]
  },
  {
   "cell_type": "markdown",
   "metadata": {},
   "source": [
    "### Step 1: Create metadata file, containing a bunch of JSON-formatted trial metadata objects"
   ]
  },
  {
   "cell_type": "code",
   "execution_count": 47,
   "metadata": {},
   "outputs": [
    {
     "name": "stdout",
     "output_type": "stream",
     "text": [
      "We have 69 images to evaluate.\n"
     ]
    }
   ],
   "source": [
    "## where are your stimulus images stored?\n",
    "data_dir = 'pngTower'\n",
    "bucket_name = 'curiotower'\n",
    "stim_version = 'curiodrop'\n",
    "dataset_name = '{}_{}'.format(bucket_name, stim_version)\n",
    "\n",
    "## get a list of paths to each one\n",
    "full_stim_paths = [os.path.abspath(os.path.join(data_dir,i)) for i in os.listdir(data_dir)]\n",
    "full_stim_paths = [i for i in full_stim_paths if i.split('/')[-1] != '.DS_Store'] ## bleh\n",
    "print('We have {} images to evaluate.'.format(len(full_stim_paths)))"
   ]
  },
  {
   "cell_type": "code",
   "execution_count": 48,
   "metadata": {},
   "outputs": [],
   "source": [
    "## helper to build image urls\n",
    "def build_s3_url(path, bucket_name = 'curiotower'):    \n",
    "    return 'https://{}.s3.amazonaws.com/{}'.format(bucket_name, path.split('/')[-1])\n"
   ]
  },
  {
   "cell_type": "code",
   "execution_count": 49,
   "metadata": {},
   "outputs": [],
   "source": [
    "## basic metadata lists\n",
    "image_urls = [build_s3_url(p) for p in full_stim_paths]\n",
    "towerIDs = [p.split('/')[-1].split('.')[0] for p in full_stim_paths]\n"
   ]
  },
  {
   "cell_type": "code",
   "execution_count": 50,
   "metadata": {},
   "outputs": [],
   "source": [
    "## convert to pandas dataframe\n",
    "M = pd.DataFrame([towerIDs,image_urls]).transpose()\n",
    "M.columns = ['towerID', 'imageURL']\n",
    "M['stim_version'] = stim_version"
   ]
  },
  {
   "cell_type": "code",
   "execution_count": 55,
   "metadata": {},
   "outputs": [],
   "source": [
    "## convert M to dictionary J and then save out to meta.js file\n",
    "J = M.to_dict(orient='records') \n",
    "\n",
    "with open('{}_meta.js'.format(dataset_name), 'w') as fout:\n",
    "    json.dump(J, fout)"
   ]
  },
  {
   "cell_type": "code",
   "execution_count": 56,
   "metadata": {},
   "outputs": [
    {
     "data": {
      "text/plain": [
       "{'towerID': '121319_05',\n",
       " 'imageURL': 'https://curiotower.s3.amazonaws.com/121319_05.png',\n",
       " 'stim_version': 'curiodrop'}"
      ]
     },
     "execution_count": 56,
     "metadata": {},
     "output_type": "execute_result"
    }
   ],
   "source": []
  },
  {
   "cell_type": "markdown",
   "metadata": {},
   "source": [
    "### Step 2: Insert each trial as a record into a mongo database"
   ]
  },
  {
   "cell_type": "code",
   "execution_count": 54,
   "metadata": {},
   "outputs": [],
   "source": [
    "## remember to establish tunnel to mongodb on remote server first\n",
    "#### e.g. by running at the terminal, `ssh -fNL 27017:127.0.0.1:27017 USERNAME@cogtoolslab.org`\n",
    "\n",
    "# set vars \n",
    "auth = pd.read_csv('auth.txt', header = None) # this auth.txt file contains the password for the sketchloop user\n",
    "pswd = auth.values[0][0]\n",
    "user = 'sketchloop'\n",
    "host = 'cogtoolslab.org' ## cogtoolslab ip address\n",
    "\n",
    "# have to fix this to be able to analyze from local\n",
    "conn = pm.MongoClient('mongodb://sketchloop:' + pswd + '@127.0.0.1')\n",
    "db = conn['stimuli']\n",
    "coll = db[dataset_name]"
   ]
  },
  {
   "cell_type": "code",
   "execution_count": 60,
   "metadata": {},
   "outputs": [
    {
     "name": "stdout",
     "output_type": "stream",
     "text": [
      "Done inserting records into mongo!\n"
     ]
    }
   ],
   "source": [
    "## actually add data now to the database\n",
    "for (i,m) in enumerate(J):\n",
    "    coll.insert_one(m)\n",
    "    print('{} of {}| Inserting tower {}'.format(i+1, len(J), m['towerID']))\n",
    "    clear_output(wait=True)\n",
    "\n",
    "print('Done inserting records into mongo!')\n"
   ]
  },
  {
   "cell_type": "code",
   "execution_count": 62,
   "metadata": {},
   "outputs": [
    {
     "data": {
      "text/plain": [
       "{'_id': ObjectId('5f644566d4e9aa975700e9db'),\n",
       " 'towerID': '121319_05',\n",
       " 'imageURL': 'https://curiotower.s3.amazonaws.com/121319_05.png',\n",
       " 'stim_version': 'curiodrop'}"
      ]
     },
     "execution_count": 62,
     "metadata": {},
     "output_type": "execute_result"
    }
   ],
   "source": [
    "## check collection to see what records look like\n",
    "coll.find_one()"
   ]
  },
  {
   "cell_type": "code",
   "execution_count": null,
   "metadata": {},
   "outputs": [],
   "source": []
  }
 ],
 "metadata": {
  "kernelspec": {
   "display_name": "Python 3",
   "language": "python",
   "name": "python3"
  },
  "language_info": {
   "codemirror_mode": {
    "name": "ipython",
    "version": 3
   },
   "file_extension": ".py",
   "mimetype": "text/x-python",
   "name": "python",
   "nbconvert_exporter": "python",
   "pygments_lexer": "ipython3",
   "version": "3.7.3"
  }
 },
 "nbformat": 4,
 "nbformat_minor": 2
}
