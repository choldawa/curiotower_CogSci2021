{
 "cells": [
  {
   "cell_type": "markdown",
   "metadata": {},
   "source": [
    "### What this notebook does\n",
    "**Step 1:** Create metadata file, containing a bunch of JSON-formatted trial metadata objects\n",
    "\n",
    "**Step 2:**  Insert each trial as a record into a mongo database"
   ]
  },
  {
   "cell_type": "code",
   "execution_count": 1,
   "metadata": {},
   "outputs": [],
   "source": [
    "import os\n",
    "import numpy as np\n",
    "from PIL import Image\n",
    "import pandas as pd\n",
    "import json\n",
    "import pymongo as pm\n",
    "from glob import glob\n",
    "from IPython.display import clear_output\n",
    "import ast"
   ]
  },
  {
   "cell_type": "markdown",
   "metadata": {},
   "source": [
    "### Step 1: Create metadata file, containing a bunch of JSON-formatted trial metadata objects"
   ]
  },
  {
   "cell_type": "code",
   "execution_count": 2,
   "metadata": {},
   "outputs": [
    {
     "name": "stdout",
     "output_type": "stream",
     "text": [
      "We have 7 images to evaluate.\n"
     ]
    }
   ],
   "source": [
    "## where are your stimulus images stored?\n",
    "data_dir = 'pngTower'\n",
    "bucket_name = 'curiotower'\n",
    "stim_version = 'curiodrop'\n",
    "dataset_name = '{}_{}'.format(bucket_name, stim_version)\n",
    "\n",
    "## get a list of paths to each one\n",
    "full_stim_paths = [os.path.abspath(os.path.join(data_dir,i)) for i in os.listdir(data_dir)]\n",
    "full_stim_paths = [i for i in full_stim_paths if i.split('/')[-1] != '.DS_Store'] ## bleh\n",
    "print('We have {} images to evaluate.'.format(len(full_stim_paths)))"
   ]
  },
  {
   "cell_type": "code",
   "execution_count": null,
   "metadata": {},
   "outputs": [],
   "source": [
    "## helper to build image urls\n",
    "def build_s3_url(path, bucket_name = 'curiotower'):    \n",
    "    return 'https://{}.s3.amazonaws.com/{}'.format(bucket_name, path.split('/')[-1])\n"
   ]
  },
  {
   "cell_type": "code",
   "execution_count": null,
   "metadata": {},
   "outputs": [],
   "source": [
    "## basic metadata lists\n",
    "image_urls = [build_s3_url(p) for p in full_stim_paths]\n",
    "towerIDs = [p.split('/')[-1].split('.')[0] for p in full_stim_paths]\n"
   ]
  },
  {
   "cell_type": "code",
   "execution_count": null,
   "metadata": {},
   "outputs": [],
   "source": [
    "## convert to pandas dataframe\n",
    "M = pd.DataFrame([towerIDs,image_urls]).transpose()\n",
    "M.columns = ['towerID', 'image_url']\n",
    "M['stim_version'] = stim_version\n",
    "M['games'] = '[]' ## empty games list for marking records when retrieved from mongo (see store.js)\n",
    "M['games'] = M['games'].apply(lambda x: ast.literal_eval(x))"
   ]
  },
  {
   "cell_type": "code",
   "execution_count": null,
   "metadata": {},
   "outputs": [],
   "source": [
    "## convert M to dictionary J and then save out to meta.js file\n",
    "J = M.to_dict(orient='records') \n",
    "\n",
    "with open('{}_meta.js'.format(dataset_name), 'w') as fout:\n",
    "    json.dump(J, fout)"
   ]
  },
  {
   "cell_type": "markdown",
   "metadata": {},
   "source": [
    "### Step 2: Insert each trial as a record into a mongo database"
   ]
  },
  {
   "cell_type": "code",
   "execution_count": 13,
   "metadata": {},
   "outputs": [],
   "source": [
    "## remember to establish tunnel to mongodb on remote server first\n",
    "#### e.g. by running at the terminal, `ssh -fNL 27017:127.0.0.1:27017 USERNAME@cogtoolslab.org`\n",
    "\n",
    "# set vars \n",
    "auth = pd.read_csv('../analysis/auth.txt', header = None) # this auth.txt file contains the password for the sketchloop user\n",
    "pswd = auth.values[0][0]\n",
    "user = 'sketchloop'\n",
    "host = 'cogtoolslab.org' ## cogtoolslab ip address\n",
    "\n",
    "# have to fix this to be able to analyze from local\n",
    "conn = pm.MongoClient('mongodb://sketchloop:' + pswd + '@127.0.0.1')\n",
    "db = conn['stimuli']\n",
    "coll = db[dataset_name]"
   ]
  },
  {
   "cell_type": "code",
   "execution_count": null,
   "metadata": {},
   "outputs": [],
   "source": [
    "## actually add data now to the database\n",
    "for (i,m) in enumerate(J):\n",
    "    coll.insert_one(m)\n",
    "    print('{} of {}| Inserting tower {}'.format(i+1, len(J), m['towerID']))\n",
    "    clear_output(wait=True)\n",
    "\n",
    "print('Done inserting records into mongo!')\n"
   ]
  },
  {
   "cell_type": "code",
   "execution_count": null,
   "metadata": {},
   "outputs": [],
   "source": [
    "## check collection to see what records look like\n",
    "coll.find_one()"
   ]
  },
  {
   "cell_type": "code",
   "execution_count": null,
   "metadata": {},
   "outputs": [],
   "source": [
    "coll.estimated_document_count()"
   ]
  },
  {
   "cell_type": "code",
   "execution_count": null,
   "metadata": {},
   "outputs": [],
   "source": [
    "# create function to test insertion of records \n",
    "    # is there anything in it right now, and if so, does it match the number of records that we want\n",
    "    # i.e. should we add/overwrite\n",
    "    # how many records do we expect there to be in this collection\n",
    "        #if this matches the number we want, and we do not want to overwrite, then leave alone\n",
    "        # if these numbers are different and you want to update/change collection, then: drop old and insert new"
   ]
  },
  {
   "cell_type": "code",
   "execution_count": null,
   "metadata": {},
   "outputs": [],
   "source": [
    "current_record_count = coll.estimated_document_count()\n",
    "new_records_count = len(J)\n",
    "\n"
   ]
  },
  {
   "cell_type": "code",
   "execution_count": null,
   "metadata": {},
   "outputs": [],
   "source": []
  },
  {
   "cell_type": "code",
   "execution_count": null,
   "metadata": {},
   "outputs": [],
   "source": []
  },
  {
   "cell_type": "code",
   "execution_count": null,
   "metadata": {},
   "outputs": [],
   "source": []
  },
  {
   "cell_type": "markdown",
   "metadata": {},
   "source": [
    "# Alternative method: bring in all trials as single packet (rather than each individually)\n"
   ]
  },
  {
   "cell_type": "markdown",
   "metadata": {},
   "source": [
    "### This part is the same"
   ]
  },
  {
   "cell_type": "code",
   "execution_count": 2,
   "metadata": {},
   "outputs": [
    {
     "name": "stdout",
     "output_type": "stream",
     "text": [
      "We have 72 images to evaluate.\n"
     ]
    }
   ],
   "source": [
    "## where are your stimulus images stored?\n",
    "data_dir = 'pngTower'\n",
    "bucket_name = 'curiotower'\n",
    "stim_version = 'curiodrop'\n",
    "dataset_name = '{}_{}'.format(bucket_name, stim_version)\n",
    "\n",
    "## get a list of paths to each one\n",
    "full_stim_paths = [os.path.abspath(os.path.join(data_dir,i)) for i in os.listdir(data_dir)]\n",
    "full_stim_paths = [i for i in full_stim_paths if i.split('/')[-1] != '.DS_Store'] ## bleh\n",
    "print('We have {} images to evaluate.'.format(len(full_stim_paths)))"
   ]
  },
  {
   "cell_type": "code",
   "execution_count": 3,
   "metadata": {},
   "outputs": [],
   "source": [
    "## helper to build image urls\n",
    "def build_s3_url(path, bucket_name = 'curiotower'):    \n",
    "    return 'https://{}.s3.amazonaws.com/{}'.format(bucket_name, path.split('/')[-1])"
   ]
  },
  {
   "cell_type": "code",
   "execution_count": 4,
   "metadata": {},
   "outputs": [],
   "source": [
    "## basic metadata lists\n",
    "image_urls = [build_s3_url(p) for p in full_stim_paths]\n",
    "towerIDs = [p.split('/')[-1].split('.')[0] for p in full_stim_paths]"
   ]
  },
  {
   "cell_type": "code",
   "execution_count": 5,
   "metadata": {},
   "outputs": [],
   "source": [
    "## convert to pandas dataframe\n",
    "M = pd.DataFrame([towerIDs,image_urls]).transpose()\n",
    "M.columns = ['towerID', 'image_url']\n",
    "M['stim_version'] = stim_version\n",
    "M['catch_trial'] = M['image_url'].apply(lambda x: 'catch' in x)\n",
    "M['games'] = '[]' ## empty games list for marking records when retrieved from mongo (see store.js)\n",
    "M['games'] = M['games'].apply(lambda x: ast.literal_eval(x))\n"
   ]
  },
  {
   "cell_type": "code",
   "execution_count": 6,
   "metadata": {},
   "outputs": [
    {
     "data": {
      "text/html": [
       "<div>\n",
       "<style scoped>\n",
       "    .dataframe tbody tr th:only-of-type {\n",
       "        vertical-align: middle;\n",
       "    }\n",
       "\n",
       "    .dataframe tbody tr th {\n",
       "        vertical-align: top;\n",
       "    }\n",
       "\n",
       "    .dataframe thead th {\n",
       "        text-align: right;\n",
       "    }\n",
       "</style>\n",
       "<table border=\"1\" class=\"dataframe\">\n",
       "  <thead>\n",
       "    <tr style=\"text-align: right;\">\n",
       "      <th></th>\n",
       "      <th>towerID</th>\n",
       "      <th>image_url</th>\n",
       "      <th>stim_version</th>\n",
       "      <th>catch_trial</th>\n",
       "      <th>games</th>\n",
       "    </tr>\n",
       "  </thead>\n",
       "  <tbody>\n",
       "    <tr>\n",
       "      <th>0</th>\n",
       "      <td>121319_05</td>\n",
       "      <td>https://curiotower.s3.amazonaws.com/121319_05.png</td>\n",
       "      <td>curiodrop</td>\n",
       "      <td>False</td>\n",
       "      <td>[]</td>\n",
       "    </tr>\n",
       "    <tr>\n",
       "      <th>1</th>\n",
       "      <td>121819_06</td>\n",
       "      <td>https://curiotower.s3.amazonaws.com/121819_06.png</td>\n",
       "      <td>curiodrop</td>\n",
       "      <td>False</td>\n",
       "      <td>[]</td>\n",
       "    </tr>\n",
       "    <tr>\n",
       "      <th>2</th>\n",
       "      <td>121819_02b</td>\n",
       "      <td>https://curiotower.s3.amazonaws.com/121819_02b...</td>\n",
       "      <td>curiodrop</td>\n",
       "      <td>False</td>\n",
       "      <td>[]</td>\n",
       "    </tr>\n",
       "    <tr>\n",
       "      <th>3</th>\n",
       "      <td>121819_07</td>\n",
       "      <td>https://curiotower.s3.amazonaws.com/121819_07.png</td>\n",
       "      <td>curiodrop</td>\n",
       "      <td>False</td>\n",
       "      <td>[]</td>\n",
       "    </tr>\n",
       "    <tr>\n",
       "      <th>4</th>\n",
       "      <td>121219_04</td>\n",
       "      <td>https://curiotower.s3.amazonaws.com/121219_04.png</td>\n",
       "      <td>curiodrop</td>\n",
       "      <td>False</td>\n",
       "      <td>[]</td>\n",
       "    </tr>\n",
       "  </tbody>\n",
       "</table>\n",
       "</div>"
      ],
      "text/plain": [
       "      towerID                                          image_url stim_version  \\\n",
       "0   121319_05  https://curiotower.s3.amazonaws.com/121319_05.png    curiodrop   \n",
       "1   121819_06  https://curiotower.s3.amazonaws.com/121819_06.png    curiodrop   \n",
       "2  121819_02b  https://curiotower.s3.amazonaws.com/121819_02b...    curiodrop   \n",
       "3   121819_07  https://curiotower.s3.amazonaws.com/121819_07.png    curiodrop   \n",
       "4   121219_04  https://curiotower.s3.amazonaws.com/121219_04.png    curiodrop   \n",
       "\n",
       "   catch_trial games  \n",
       "0        False    []  \n",
       "1        False    []  \n",
       "2        False    []  \n",
       "3        False    []  \n",
       "4        False    []  "
      ]
     },
     "execution_count": 6,
     "metadata": {},
     "output_type": "execute_result"
    }
   ],
   "source": [
    "M.head()"
   ]
  },
  {
   "cell_type": "markdown",
   "metadata": {},
   "source": [
    "## The key difference is treating all the records as a single \"meta\" record"
   ]
  },
  {
   "cell_type": "code",
   "execution_count": 7,
   "metadata": {},
   "outputs": [],
   "source": [
    "#initalize list of all version dictionaries\n",
    "Meta = []\n",
    "stimList = M.to_dict(orient='records')\n",
    "stimDict = {}\n",
    "stimDict['meta'] = stimList\n",
    "stimDict['games'] = [] \n",
    "stimDict['experimentName'] = dataset_name\n",
    "Meta.append(stimDict)\n"
   ]
  },
  {
   "cell_type": "code",
   "execution_count": 21,
   "metadata": {},
   "outputs": [
    {
     "data": {
      "text/plain": [
       "[{'meta': [{'towerID': '121619_09',\n",
       "    'image_url': 'https://curiotower.s3.amazonaws.com/121619_09.png',\n",
       "    'stim_version': 'curiodrop',\n",
       "    'catch_trial': False,\n",
       "    'games': []},\n",
       "   {'towerID': '121119_10b',\n",
       "    'image_url': 'https://curiotower.s3.amazonaws.com/121119_10b.png',\n",
       "    'stim_version': 'curiodrop',\n",
       "    'catch_trial': False,\n",
       "    'games': []},\n",
       "   {'towerID': '121119_09',\n",
       "    'image_url': 'https://curiotower.s3.amazonaws.com/121119_09.png',\n",
       "    'stim_version': 'curiodrop',\n",
       "    'catch_trial': False,\n",
       "    'games': []},\n",
       "   {'towerID': 'catch_01',\n",
       "    'image_url': 'https://curiotower.s3.amazonaws.com/catch_01.jpg',\n",
       "    'stim_version': 'curiodrop',\n",
       "    'catch_trial': True,\n",
       "    'games': []},\n",
       "   {'towerID': 'catch_02',\n",
       "    'image_url': 'https://curiotower.s3.amazonaws.com/catch_02.jpg',\n",
       "    'stim_version': 'curiodrop',\n",
       "    'catch_trial': True,\n",
       "    'games': []},\n",
       "   {'towerID': 'catch_03',\n",
       "    'image_url': 'https://curiotower.s3.amazonaws.com/catch_03.jpg',\n",
       "    'stim_version': 'curiodrop',\n",
       "    'catch_trial': True,\n",
       "    'games': []},\n",
       "   {'towerID': '121619_08b',\n",
       "    'image_url': 'https://curiotower.s3.amazonaws.com/121619_08b.png',\n",
       "    'stim_version': 'curiodrop',\n",
       "    'catch_trial': False,\n",
       "    'games': []},\n",
       "   {'towerID': '121119_10',\n",
       "    'image_url': 'https://curiotower.s3.amazonaws.com/121119_10.png',\n",
       "    'stim_version': 'curiodrop',\n",
       "    'catch_trial': False,\n",
       "    'games': []},\n",
       "   {'towerID': '121619_05',\n",
       "    'image_url': 'https://curiotower.s3.amazonaws.com/121619_05.png',\n",
       "    'stim_version': 'curiodrop',\n",
       "    'catch_trial': False,\n",
       "    'games': []},\n",
       "   {'towerID': '121119_08b',\n",
       "    'image_url': 'https://curiotower.s3.amazonaws.com/121119_08b.png',\n",
       "    'stim_version': 'curiodrop',\n",
       "    'catch_trial': False,\n",
       "    'games': []}],\n",
       "  'games': [],\n",
       "  'experimentName': 'curiotower_curiodrop'}]"
      ]
     },
     "execution_count": 21,
     "metadata": {},
     "output_type": "execute_result"
    }
   ],
   "source": [
    "Meta"
   ]
  },
  {
   "cell_type": "code",
   "execution_count": 8,
   "metadata": {},
   "outputs": [
    {
     "name": "stdout",
     "output_type": "stream",
     "text": [
      "Saving out json dictionary out to file...\n",
      "Done!\n"
     ]
    }
   ],
   "source": [
    "print('Saving out json dictionary out to file...') \n",
    "with open('{}_meta.js'.format(dataset_name), 'w') as fout:\n",
    "    json.dump(Meta, fout)\n",
    "print('Done!')"
   ]
  },
  {
   "cell_type": "code",
   "execution_count": 9,
   "metadata": {},
   "outputs": [],
   "source": [
    "## remember to establish tunnel to mongodb on remote server first\n",
    "#### e.g. by running at the terminal, `ssh -fNL 27017:127.0.0.1:27017 USERNAME@cogtoolslab.org`\n",
    "\n",
    "# set vars \n",
    "auth = pd.read_csv('../analysis/auth.txt', header = None) # this auth.txt file contains the password for the sketchloop user\n",
    "pswd = auth.values[0][0]\n",
    "user = 'sketchloop'\n",
    "host = 'cogtoolslab.org' ## cogtoolslab ip address\n",
    "\n",
    "# have to fix this to be able to analyze from local\n",
    "conn = pm.MongoClient('mongodb://sketchloop:' + pswd + '@127.0.0.1')\n",
    "db = conn['stimuli']\n",
    "coll = db[dataset_name]"
   ]
  },
  {
   "cell_type": "code",
   "execution_count": 10,
   "metadata": {},
   "outputs": [
    {
     "name": "stdout",
     "output_type": "stream",
     "text": [
      "dataset_name: curiotower_curiodrop\n",
      "Length of J is: 1\n"
     ]
    }
   ],
   "source": [
    "#reload JSON back in to the new stimulus collection\n",
    "J = json.loads(open('{}_meta.js'.format(dataset_name),mode='r').read())\n",
    "print('dataset_name: {}'.format(dataset_name))\n",
    "print('Length of J is: {}'.format(len(J)))"
   ]
  },
  {
   "cell_type": "code",
   "execution_count": 12,
   "metadata": {},
   "outputs": [
    {
     "data": {
      "text/plain": [
       "{'ns': 'stimuli.curiotower_curiodrop', 'nIndexesWas': 1, 'ok': 1.0}"
      ]
     },
     "execution_count": 12,
     "metadata": {},
     "output_type": "execute_result"
    }
   ],
   "source": [
    "#db.drop_collection('curiotower_curiodrop')"
   ]
  },
  {
   "cell_type": "code",
   "execution_count": 14,
   "metadata": {},
   "outputs": [
    {
     "name": "stdout",
     "output_type": "stream",
     "text": [
      "Done inserting records into mongo!\n"
     ]
    }
   ],
   "source": [
    "## actually add data now to the database\n",
    "for (i,m) in enumerate(J):\n",
    "    coll.insert_one(m)\n",
    "    print('{} of {}'.format(i+1, len(J)))\n",
    "    clear_output(wait=True)\n",
    "\n",
    "print('Done inserting records into mongo!')"
   ]
  },
  {
   "cell_type": "code",
   "execution_count": 15,
   "metadata": {},
   "outputs": [
    {
     "data": {
      "text/plain": [
       "1"
      ]
     },
     "execution_count": 15,
     "metadata": {},
     "output_type": "execute_result"
    }
   ],
   "source": [
    "coll.estimated_document_count()"
   ]
  },
  {
   "cell_type": "code",
   "execution_count": 16,
   "metadata": {
    "scrolled": true
   },
   "outputs": [
    {
     "data": {
      "text/plain": [
       "{'_id': ObjectId('5fc5b8d19e1be86718789b95'),\n",
       " 'meta': [{'towerID': '121319_05',\n",
       "   'image_url': 'https://curiotower.s3.amazonaws.com/121319_05.png',\n",
       "   'stim_version': 'curiodrop',\n",
       "   'catch_trial': False,\n",
       "   'games': []},\n",
       "  {'towerID': '121819_06',\n",
       "   'image_url': 'https://curiotower.s3.amazonaws.com/121819_06.png',\n",
       "   'stim_version': 'curiodrop',\n",
       "   'catch_trial': False,\n",
       "   'games': []},\n",
       "  {'towerID': '121819_02b',\n",
       "   'image_url': 'https://curiotower.s3.amazonaws.com/121819_02b.png',\n",
       "   'stim_version': 'curiodrop',\n",
       "   'catch_trial': False,\n",
       "   'games': []},\n",
       "  {'towerID': '121819_07',\n",
       "   'image_url': 'https://curiotower.s3.amazonaws.com/121819_07.png',\n",
       "   'stim_version': 'curiodrop',\n",
       "   'catch_trial': False,\n",
       "   'games': []},\n",
       "  {'towerID': '121219_04',\n",
       "   'image_url': 'https://curiotower.s3.amazonaws.com/121219_04.png',\n",
       "   'stim_version': 'curiodrop',\n",
       "   'catch_trial': False,\n",
       "   'games': []},\n",
       "  {'towerID': '121319_04',\n",
       "   'image_url': 'https://curiotower.s3.amazonaws.com/121319_04.png',\n",
       "   'stim_version': 'curiodrop',\n",
       "   'catch_trial': False,\n",
       "   'games': []},\n",
       "  {'towerID': '121319_06',\n",
       "   'image_url': 'https://curiotower.s3.amazonaws.com/121319_06.png',\n",
       "   'stim_version': 'curiodrop',\n",
       "   'catch_trial': False,\n",
       "   'games': []},\n",
       "  {'towerID': '121819_05',\n",
       "   'image_url': 'https://curiotower.s3.amazonaws.com/121819_05.png',\n",
       "   'stim_version': 'curiodrop',\n",
       "   'catch_trial': False,\n",
       "   'games': []},\n",
       "  {'towerID': '121819_04',\n",
       "   'image_url': 'https://curiotower.s3.amazonaws.com/121819_04.png',\n",
       "   'stim_version': 'curiodrop',\n",
       "   'catch_trial': False,\n",
       "   'games': []},\n",
       "  {'towerID': '120619_05b',\n",
       "   'image_url': 'https://curiotower.s3.amazonaws.com/120619_05b.png',\n",
       "   'stim_version': 'curiodrop',\n",
       "   'catch_trial': False,\n",
       "   'games': []},\n",
       "  {'towerID': '121319_07',\n",
       "   'image_url': 'https://curiotower.s3.amazonaws.com/121319_07.png',\n",
       "   'stim_version': 'curiodrop',\n",
       "   'catch_trial': False,\n",
       "   'games': []},\n",
       "  {'towerID': '121219_03',\n",
       "   'image_url': 'https://curiotower.s3.amazonaws.com/121219_03.png',\n",
       "   'stim_version': 'curiodrop',\n",
       "   'catch_trial': False,\n",
       "   'games': []},\n",
       "  {'towerID': '121319_03',\n",
       "   'image_url': 'https://curiotower.s3.amazonaws.com/121319_03.png',\n",
       "   'stim_version': 'curiodrop',\n",
       "   'catch_trial': False,\n",
       "   'games': []},\n",
       "  {'towerID': '121619_09',\n",
       "   'image_url': 'https://curiotower.s3.amazonaws.com/121619_09.png',\n",
       "   'stim_version': 'curiodrop',\n",
       "   'catch_trial': False,\n",
       "   'games': []},\n",
       "  {'towerID': '121119_10b',\n",
       "   'image_url': 'https://curiotower.s3.amazonaws.com/121119_10b.png',\n",
       "   'stim_version': 'curiodrop',\n",
       "   'catch_trial': False,\n",
       "   'games': []},\n",
       "  {'towerID': '121819_01',\n",
       "   'image_url': 'https://curiotower.s3.amazonaws.com/121819_01.png',\n",
       "   'stim_version': 'curiodrop',\n",
       "   'catch_trial': False,\n",
       "   'games': []},\n",
       "  {'towerID': '121919_01',\n",
       "   'image_url': 'https://curiotower.s3.amazonaws.com/121919_01.png',\n",
       "   'stim_version': 'curiodrop',\n",
       "   'catch_trial': False,\n",
       "   'games': []},\n",
       "  {'towerID': '121119_10c',\n",
       "   'image_url': 'https://curiotower.s3.amazonaws.com/121119_10c.png',\n",
       "   'stim_version': 'curiodrop',\n",
       "   'catch_trial': False,\n",
       "   'games': []},\n",
       "  {'towerID': '121319_02',\n",
       "   'image_url': 'https://curiotower.s3.amazonaws.com/121319_02.png',\n",
       "   'stim_version': 'curiodrop',\n",
       "   'catch_trial': False,\n",
       "   'games': []},\n",
       "  {'towerID': '121219_02',\n",
       "   'image_url': 'https://curiotower.s3.amazonaws.com/121219_02.png',\n",
       "   'stim_version': 'curiodrop',\n",
       "   'catch_trial': False,\n",
       "   'games': []},\n",
       "  {'towerID': '121819_03',\n",
       "   'image_url': 'https://curiotower.s3.amazonaws.com/121819_03.png',\n",
       "   'stim_version': 'curiodrop',\n",
       "   'catch_trial': False,\n",
       "   'games': []},\n",
       "  {'towerID': '121919_03',\n",
       "   'image_url': 'https://curiotower.s3.amazonaws.com/121919_03.png',\n",
       "   'stim_version': 'curiodrop',\n",
       "   'catch_trial': False,\n",
       "   'games': []},\n",
       "  {'towerID': '121919_02',\n",
       "   'image_url': 'https://curiotower.s3.amazonaws.com/121919_02.png',\n",
       "   'stim_version': 'curiodrop',\n",
       "   'catch_trial': False,\n",
       "   'games': []},\n",
       "  {'towerID': '121819_02',\n",
       "   'image_url': 'https://curiotower.s3.amazonaws.com/121819_02.png',\n",
       "   'stim_version': 'curiodrop',\n",
       "   'catch_trial': False,\n",
       "   'games': []},\n",
       "  {'towerID': '121319_01',\n",
       "   'image_url': 'https://curiotower.s3.amazonaws.com/121319_01.png',\n",
       "   'stim_version': 'curiodrop',\n",
       "   'catch_trial': False,\n",
       "   'games': []},\n",
       "  {'towerID': '121119_09',\n",
       "   'image_url': 'https://curiotower.s3.amazonaws.com/121119_09.png',\n",
       "   'stim_version': 'curiodrop',\n",
       "   'catch_trial': False,\n",
       "   'games': []},\n",
       "  {'towerID': 'catch_01',\n",
       "   'image_url': 'https://curiotower.s3.amazonaws.com/catch_01.jpg',\n",
       "   'stim_version': 'curiodrop',\n",
       "   'catch_trial': True,\n",
       "   'games': []},\n",
       "  {'towerID': '121619_06b',\n",
       "   'image_url': 'https://curiotower.s3.amazonaws.com/121619_06b.png',\n",
       "   'stim_version': 'curiodrop',\n",
       "   'catch_trial': False,\n",
       "   'games': []},\n",
       "  {'towerID': '121619_10b',\n",
       "   'image_url': 'https://curiotower.s3.amazonaws.com/121619_10b.png',\n",
       "   'stim_version': 'curiodrop',\n",
       "   'catch_trial': False,\n",
       "   'games': []},\n",
       "  {'towerID': '121119_08',\n",
       "   'image_url': 'https://curiotower.s3.amazonaws.com/121119_08.png',\n",
       "   'stim_version': 'curiodrop',\n",
       "   'catch_trial': False,\n",
       "   'games': []},\n",
       "  {'towerID': 'catch_02',\n",
       "   'image_url': 'https://curiotower.s3.amazonaws.com/catch_02.jpg',\n",
       "   'stim_version': 'curiodrop',\n",
       "   'catch_trial': True,\n",
       "   'games': []},\n",
       "  {'towerID': 'catch_03',\n",
       "   'image_url': 'https://curiotower.s3.amazonaws.com/catch_03.jpg',\n",
       "   'stim_version': 'curiodrop',\n",
       "   'catch_trial': True,\n",
       "   'games': []},\n",
       "  {'towerID': '121619_11b',\n",
       "   'image_url': 'https://curiotower.s3.amazonaws.com/121619_11b.png',\n",
       "   'stim_version': 'curiodrop',\n",
       "   'catch_trial': False,\n",
       "   'games': []},\n",
       "  {'towerID': '121619_07b',\n",
       "   'image_url': 'https://curiotower.s3.amazonaws.com/121619_07b.png',\n",
       "   'stim_version': 'curiodrop',\n",
       "   'catch_trial': False,\n",
       "   'games': []},\n",
       "  {'towerID': '121619_04b',\n",
       "   'image_url': 'https://curiotower.s3.amazonaws.com/121619_04b.png',\n",
       "   'stim_version': 'curiodrop',\n",
       "   'catch_trial': False,\n",
       "   'games': []},\n",
       "  {'towerID': '121119_01',\n",
       "   'image_url': 'https://curiotower.s3.amazonaws.com/121119_01.png',\n",
       "   'stim_version': 'curiodrop',\n",
       "   'catch_trial': False,\n",
       "   'games': []},\n",
       "  {'towerID': '121719_02b',\n",
       "   'image_url': 'https://curiotower.s3.amazonaws.com/121719_02b.png',\n",
       "   'stim_version': 'curiodrop',\n",
       "   'catch_trial': False,\n",
       "   'games': []},\n",
       "  {'towerID': '121119_03',\n",
       "   'image_url': 'https://curiotower.s3.amazonaws.com/121119_03.png',\n",
       "   'stim_version': 'curiodrop',\n",
       "   'catch_trial': False,\n",
       "   'games': []},\n",
       "  {'towerID': '121619_08b',\n",
       "   'image_url': 'https://curiotower.s3.amazonaws.com/121619_08b.png',\n",
       "   'stim_version': 'curiodrop',\n",
       "   'catch_trial': False,\n",
       "   'games': []},\n",
       "  {'towerID': '121119_06',\n",
       "   'image_url': 'https://curiotower.s3.amazonaws.com/121119_06.png',\n",
       "   'stim_version': 'curiodrop',\n",
       "   'catch_trial': False,\n",
       "   'games': []},\n",
       "  {'towerID': '121119_12',\n",
       "   'image_url': 'https://curiotower.s3.amazonaws.com/121119_12.png',\n",
       "   'stim_version': 'curiodrop',\n",
       "   'catch_trial': False,\n",
       "   'games': []},\n",
       "  {'towerID': '121119_13',\n",
       "   'image_url': 'https://curiotower.s3.amazonaws.com/121119_13.png',\n",
       "   'stim_version': 'curiodrop',\n",
       "   'catch_trial': False,\n",
       "   'games': []},\n",
       "  {'towerID': '121119_07',\n",
       "   'image_url': 'https://curiotower.s3.amazonaws.com/121119_07.png',\n",
       "   'stim_version': 'curiodrop',\n",
       "   'catch_trial': False,\n",
       "   'games': []},\n",
       "  {'towerID': '121719_03b',\n",
       "   'image_url': 'https://curiotower.s3.amazonaws.com/121719_03b.png',\n",
       "   'stim_version': 'curiodrop',\n",
       "   'catch_trial': False,\n",
       "   'games': []},\n",
       "  {'towerID': '121119_11',\n",
       "   'image_url': 'https://curiotower.s3.amazonaws.com/121119_11.png',\n",
       "   'stim_version': 'curiodrop',\n",
       "   'catch_trial': False,\n",
       "   'games': []},\n",
       "  {'towerID': '121119_05',\n",
       "   'image_url': 'https://curiotower.s3.amazonaws.com/121119_05.png',\n",
       "   'stim_version': 'curiodrop',\n",
       "   'catch_trial': False,\n",
       "   'games': []},\n",
       "  {'towerID': '121919_01b',\n",
       "   'image_url': 'https://curiotower.s3.amazonaws.com/121919_01b.png',\n",
       "   'stim_version': 'curiodrop',\n",
       "   'catch_trial': False,\n",
       "   'games': []},\n",
       "  {'towerID': '121119_04',\n",
       "   'image_url': 'https://curiotower.s3.amazonaws.com/121119_04.png',\n",
       "   'stim_version': 'curiodrop',\n",
       "   'catch_trial': False,\n",
       "   'games': []},\n",
       "  {'towerID': '121119_10',\n",
       "   'image_url': 'https://curiotower.s3.amazonaws.com/121119_10.png',\n",
       "   'stim_version': 'curiodrop',\n",
       "   'catch_trial': False,\n",
       "   'games': []},\n",
       "  {'towerID': '121719_04b',\n",
       "   'image_url': 'https://curiotower.s3.amazonaws.com/121719_04b.png',\n",
       "   'stim_version': 'curiodrop',\n",
       "   'catch_trial': False,\n",
       "   'games': []},\n",
       "  {'towerID': '121619_08-help',\n",
       "   'image_url': 'https://curiotower.s3.amazonaws.com/121619_08-help.png',\n",
       "   'stim_version': 'curiodrop',\n",
       "   'catch_trial': False,\n",
       "   'games': []},\n",
       "  {'towerID': '121619_06',\n",
       "   'image_url': 'https://curiotower.s3.amazonaws.com/121619_06.png',\n",
       "   'stim_version': 'curiodrop',\n",
       "   'catch_trial': False,\n",
       "   'games': []},\n",
       "  {'towerID': '121619_12',\n",
       "   'image_url': 'https://curiotower.s3.amazonaws.com/121619_12.png',\n",
       "   'stim_version': 'curiodrop',\n",
       "   'catch_trial': False,\n",
       "   'games': []},\n",
       "  {'towerID': '121719_06',\n",
       "   'image_url': 'https://curiotower.s3.amazonaws.com/121719_06.png',\n",
       "   'stim_version': 'curiodrop',\n",
       "   'catch_trial': False,\n",
       "   'games': []},\n",
       "  {'towerID': '121619_07',\n",
       "   'image_url': 'https://curiotower.s3.amazonaws.com/121619_07.png',\n",
       "   'stim_version': 'curiodrop',\n",
       "   'catch_trial': False,\n",
       "   'games': []},\n",
       "  {'towerID': '120619_07b',\n",
       "   'image_url': 'https://curiotower.s3.amazonaws.com/120619_07b.png',\n",
       "   'stim_version': 'curiodrop',\n",
       "   'catch_trial': False,\n",
       "   'games': []},\n",
       "  {'towerID': '121719_05',\n",
       "   'image_url': 'https://curiotower.s3.amazonaws.com/121719_05.png',\n",
       "   'stim_version': 'curiodrop',\n",
       "   'catch_trial': False,\n",
       "   'games': []},\n",
       "  {'towerID': '121619_11',\n",
       "   'image_url': 'https://curiotower.s3.amazonaws.com/121619_11.png',\n",
       "   'stim_version': 'curiodrop',\n",
       "   'catch_trial': False,\n",
       "   'games': []},\n",
       "  {'towerID': '121619_05',\n",
       "   'image_url': 'https://curiotower.s3.amazonaws.com/121619_05.png',\n",
       "   'stim_version': 'curiodrop',\n",
       "   'catch_trial': False,\n",
       "   'games': []},\n",
       "  {'towerID': '121619_04',\n",
       "   'image_url': 'https://curiotower.s3.amazonaws.com/121619_04.png',\n",
       "   'stim_version': 'curiodrop',\n",
       "   'catch_trial': False,\n",
       "   'games': []},\n",
       "  {'towerID': '121719_04',\n",
       "   'image_url': 'https://curiotower.s3.amazonaws.com/121719_04.png',\n",
       "   'stim_version': 'curiodrop',\n",
       "   'catch_trial': False,\n",
       "   'games': []},\n",
       "  {'towerID': '121619_10',\n",
       "   'image_url': 'https://curiotower.s3.amazonaws.com/121619_10.png',\n",
       "   'stim_version': 'curiodrop',\n",
       "   'catch_trial': False,\n",
       "   'games': []},\n",
       "  {'towerID': '121819_08',\n",
       "   'image_url': 'https://curiotower.s3.amazonaws.com/121819_08.png',\n",
       "   'stim_version': 'curiodrop',\n",
       "   'catch_trial': False,\n",
       "   'games': []},\n",
       "  {'towerID': '121619_03b',\n",
       "   'image_url': 'https://curiotower.s3.amazonaws.com/121619_03b.png',\n",
       "   'stim_version': 'curiodrop',\n",
       "   'catch_trial': False,\n",
       "   'games': []},\n",
       "  {'towerID': '121119_12b',\n",
       "   'image_url': 'https://curiotower.s3.amazonaws.com/121119_12b.png',\n",
       "   'stim_version': 'curiodrop',\n",
       "   'catch_trial': False,\n",
       "   'games': []},\n",
       "  {'towerID': '121619_01',\n",
       "   'image_url': 'https://curiotower.s3.amazonaws.com/121619_01.png',\n",
       "   'stim_version': 'curiodrop',\n",
       "   'catch_trial': False,\n",
       "   'games': []},\n",
       "  {'towerID': '121719_01',\n",
       "   'image_url': 'https://curiotower.s3.amazonaws.com/121719_01.png',\n",
       "   'stim_version': 'curiodrop',\n",
       "   'catch_trial': False,\n",
       "   'games': []},\n",
       "  {'towerID': '121619_03',\n",
       "   'image_url': 'https://curiotower.s3.amazonaws.com/121619_03.png',\n",
       "   'stim_version': 'curiodrop',\n",
       "   'catch_trial': False,\n",
       "   'games': []},\n",
       "  {'towerID': '121719_03',\n",
       "   'image_url': 'https://curiotower.s3.amazonaws.com/121719_03.png',\n",
       "   'stim_version': 'curiodrop',\n",
       "   'catch_trial': False,\n",
       "   'games': []},\n",
       "  {'towerID': '121119_08b',\n",
       "   'image_url': 'https://curiotower.s3.amazonaws.com/121119_08b.png',\n",
       "   'stim_version': 'curiodrop',\n",
       "   'catch_trial': False,\n",
       "   'games': []},\n",
       "  {'towerID': '121719_02',\n",
       "   'image_url': 'https://curiotower.s3.amazonaws.com/121719_02.png',\n",
       "   'stim_version': 'curiodrop',\n",
       "   'catch_trial': False,\n",
       "   'games': []},\n",
       "  {'towerID': '121619_02',\n",
       "   'image_url': 'https://curiotower.s3.amazonaws.com/121619_02.png',\n",
       "   'stim_version': 'curiodrop',\n",
       "   'catch_trial': False,\n",
       "   'games': []}],\n",
       " 'games': [],\n",
       " 'experimentName': 'curiotower_curiodrop'}"
      ]
     },
     "execution_count": 16,
     "metadata": {},
     "output_type": "execute_result"
    }
   ],
   "source": [
    "coll.find_one()"
   ]
  },
  {
   "cell_type": "code",
   "execution_count": null,
   "metadata": {},
   "outputs": [],
   "source": []
  }
 ],
 "metadata": {
  "kernelspec": {
   "display_name": "Python 3",
   "language": "python",
   "name": "python3"
  },
  "language_info": {
   "codemirror_mode": {
    "name": "ipython",
    "version": 3
   },
   "file_extension": ".py",
   "mimetype": "text/x-python",
   "name": "python",
   "nbconvert_exporter": "python",
   "pygments_lexer": "ipython3",
   "version": "3.7.6"
  }
 },
 "nbformat": 4,
 "nbformat_minor": 2
}
